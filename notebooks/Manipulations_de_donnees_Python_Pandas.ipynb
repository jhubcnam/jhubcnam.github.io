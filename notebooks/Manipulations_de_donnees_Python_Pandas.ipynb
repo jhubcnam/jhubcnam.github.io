{
 "cells": [
  {
   "cell_type": "markdown",
   "metadata": {},
   "source": [
    "<img\n",
    "    src=\"https://upload.wikimedia.org/wikipedia/commons/4/42/CNAM_Logo.svg\" \n",
    "    alt=\"\"\n",
    "    height=\"200px\" \n",
    "    width=\"200px\"\n",
    "    align=left\n",
    "/> \n",
    "\n",
    "<center> <br>\n",
    "  <h1 style=\"color:#7c7979\";></h1>\n",
    "</center>  \n",
    "\n",
    "<center>\n",
    "  <h1 style=\"color:#000000\";>Manipulations de jeux de données avec Pandas en Python</h1>\n",
    "</center>  "
   ]
  },
  {
   "cell_type": "markdown",
   "metadata": {
    "slideshow": {
     "slide_type": "slide"
    }
   },
   "source": [
    "Pandas est une librairie Python qui permet de manipuler facilement des données à analyser. Pour importer la bibliothèque Pandas dans l’environnement de travail Python, il faut saisir en début de programme l’instruction suivante :"
   ]
  },
  {
   "cell_type": "code",
   "execution_count": 1,
   "metadata": {
    "slideshow": {
     "slide_type": "-"
    }
   },
   "outputs": [],
   "source": [
    "import pandas as pd\n",
    "import numpy as np"
   ]
  },
  {
   "cell_type": "markdown",
   "metadata": {
    "slideshow": {
     "slide_type": "-"
    }
   },
   "source": [
    "# Création d'un DataFrame\n",
    "\n",
    "Un DataFrame se comporte comme un dictionnaire dont les clefs sont les noms des colonnes et les valeurs sont des séries (=contenu des colonnes).\n",
    "On peut donc créer un DataFrame comme un dictionnaire :"
   ]
  },
  {
   "cell_type": "code",
   "execution_count": 2,
   "metadata": {
    "slideshow": {
     "slide_type": "-"
    }
   },
   "outputs": [
    {
     "data": {
      "text/html": [
       "<div>\n",
       "<style scoped>\n",
       "    .dataframe tbody tr th:only-of-type {\n",
       "        vertical-align: middle;\n",
       "    }\n",
       "\n",
       "    .dataframe tbody tr th {\n",
       "        vertical-align: top;\n",
       "    }\n",
       "\n",
       "    .dataframe thead th {\n",
       "        text-align: right;\n",
       "    }\n",
       "</style>\n",
       "<table border=\"1\" class=\"dataframe\">\n",
       "  <thead>\n",
       "    <tr style=\"text-align: right;\">\n",
       "      <th></th>\n",
       "      <th>nEtages</th>\n",
       "      <th>nSalles</th>\n",
       "      <th>ville</th>\n",
       "      <th>cafet</th>\n",
       "      <th>tempMoy</th>\n",
       "    </tr>\n",
       "  </thead>\n",
       "  <tbody>\n",
       "    <tr>\n",
       "      <th>BatA</th>\n",
       "      <td>1</td>\n",
       "      <td>4</td>\n",
       "      <td>Paris</td>\n",
       "      <td>False</td>\n",
       "      <td>18.4</td>\n",
       "    </tr>\n",
       "    <tr>\n",
       "      <th>PC Secu</th>\n",
       "      <td>1</td>\n",
       "      <td>2</td>\n",
       "      <td>Paris</td>\n",
       "      <td>False</td>\n",
       "      <td>19.0</td>\n",
       "    </tr>\n",
       "    <tr>\n",
       "      <th>BatB</th>\n",
       "      <td>4</td>\n",
       "      <td>16</td>\n",
       "      <td>Montreuil</td>\n",
       "      <td>True</td>\n",
       "      <td>21.1</td>\n",
       "    </tr>\n",
       "    <tr>\n",
       "      <th>BatC</th>\n",
       "      <td>7</td>\n",
       "      <td>35</td>\n",
       "      <td>Paris</td>\n",
       "      <td>True</td>\n",
       "      <td>19.5</td>\n",
       "    </tr>\n",
       "    <tr>\n",
       "      <th>BatD</th>\n",
       "      <td>3</td>\n",
       "      <td>10</td>\n",
       "      <td>Paris</td>\n",
       "      <td>False</td>\n",
       "      <td>20.0</td>\n",
       "    </tr>\n",
       "  </tbody>\n",
       "</table>\n",
       "</div>"
      ],
      "text/plain": [
       "         nEtages  nSalles      ville  cafet  tempMoy\n",
       "BatA           1        4      Paris  False     18.4\n",
       "PC Secu        1        2      Paris  False     19.0\n",
       "BatB           4       16  Montreuil   True     21.1\n",
       "BatC           7       35      Paris   True     19.5\n",
       "BatD           3       10      Paris  False     20.0"
      ]
     },
     "execution_count": 2,
     "metadata": {},
     "output_type": "execute_result"
    }
   ],
   "source": [
    "infoBat = pd.DataFrame({'nEtages' : np.array([1,1,4,7,3]), \\\n",
    "                        'nSalles' : np.array([4,2,16,35,10]), \\\n",
    "                        'ville' : [\"Paris\",\"Paris\",\"Montreuil\",\"Paris\",\"Paris\"], \\\n",
    "                        'cafet' : [False, False, True, True, False], \\\n",
    "                        'tempMoy' : np.array([18.4, 19.0, 21.1, 19.5, 20.0])}, \\\n",
    "                        index = [\"BatA\", \"PC Secu\", \"BatB\", \"BatC\", \"BatD\"],\n",
    "                        columns = [\"nEtages\",\"nSalles\",\"ville\",\"cafet\",\"tempMoy\"])\n",
    "infoBat"
   ]
  },
  {
   "cell_type": "markdown",
   "metadata": {
    "slideshow": {
     "slide_type": "slide"
    }
   },
   "source": [
    "# Travailler avec des fichiers\n",
    "## Notion de format de fichiers\n",
    "\n",
    "Dans le cadre de ce cours nous serons peu amenés à créer nous-mêmes nos DataFrames. Nous les importerons plutôt à partir de fichiers de données tabulés existants. Nous nous intéresserons ici principalement aux fichiers CSV et XLS."
   ]
  },
  {
   "cell_type": "markdown",
   "metadata": {
    "slideshow": {
     "slide_type": "slide"
    }
   },
   "source": [
    "### Les fichiers XLS (Excel)\n",
    "\n",
    "Un fichier XLS contient une feuille de calcul créée avec Microsoft Excel. Les données y sont organisées en lignes et en colonnes et contenues dans des cellules ou des blocs. L'extension lors de l'enregistrement d'un fichier de ce type est `.xls`.\n",
    "\n",
    "Avec Microsoft Excel 2007 un nouveau format de fichier est introduit. Il est appelé OpenXML (XML ouvert Office) et l'extension proposée par défaut lors de l'enregistrement d'un classeur est le type `.xlsx`.\n",
    "\n",
    "Ce nouveau format:\n",
    "* Améliore l'interaction et l'utilisation par d'autres applications.\n",
    "* Facilite l'intégration aux sources de données externes.\n",
    "* Réduit la taille des fichiers (technologie de compression zip utilisée pour stocker les documents).\n",
    "* Améliore la récupération des contenus pour les fichiers endommagés.\n",
    "\n",
    "Les autres extensions XML sont:\n",
    "* Classeur autorisant les macros (`.xlsm`)\n",
    "* Modèle par défaut (`.xltx`)\n",
    "* Modèle autorisant les macros (`.xltm`)\n",
    "* Macro complémentaire (`.xlam`)\n",
    "* Le dernier format `.xlsb`, est une version binaire non XML.\n",
    "\n",
    "La lettre `x` en fin d'extension signifie que le fichier ne contient aucune macro. La lettre `m` signifie que le fichier contient des macros. Si vous enregistrez et fermez votre classeur au format `.xlsx` alors qu'il contenait des macros, celles ci seront perdues. "
   ]
  },
  {
   "cell_type": "markdown",
   "metadata": {
    "slideshow": {
     "slide_type": "slide"
    }
   },
   "source": [
    "### Les fichiers CVS\n",
    "\n",
    "CSV signifie _\"Comma-Separated Values\"_. Un fichier CVS désigne un fichier de type tableur, dans lequel les valeurs sont séparées par des virgules. L'extension lors de l'enregistrement d'un fichier de ce type est `.csv`.\n",
    "\n",
    "Ce format est intrinsèquement lié à l'exportation ou l'importation de bases de données.\n",
    "\n",
    "\n",
    "Les fichiers CSV peuvent être importés et exportés par des tableurs tels qu’Excel (Microsoft), Google Sheets (Google) ou Calc (LibreOffice) ainsi que par des bases de données telles que MySQL et Oracle. \n",
    "\n",
    "**Structure d'un fichier CSV** :\n",
    "\n",
    "Chaque élément du tableau correspond à une ligne de texte dans le fichier CSV. Chaque champ de la ligne (c'est à dire chaque colonne) est séparé par une virgule. On dit que la virgule est un **séparateur** de colonnes. Parfois un chiffre, un point-virgule, un espace, un onglet ou d'autres caractères peuvent séparer les différentes données d’une même ligne.\n",
    "\n",
    "$\\rightarrow$ Ouvrir le fichier `catdata.csv` et observer sa structure."
   ]
  },
  {
   "cell_type": "markdown",
   "metadata": {
    "slideshow": {
     "slide_type": "slide"
    }
   },
   "source": [
    "## Arborescence de fichiers et chemins d'accès\n",
    "\n",
    "Dans la suite de cours nous allons nous intéresser à l'importation de fichiers de données (.csv ou .xls) dans des structures de données Python, de type DataFrame.\n",
    "Pour cela nous allons avoir besoin d'accéder aux fichiers de données, eux-même inclus dans une **arborescence**. Pour accéder aux fichiers nous spécifierons un **chemin d'accès** à travers cette arborescence. \n",
    "\n",
    "Considérons par exemple l'arborescence du Jupyter hub :\n",
    "* 1 répertoire partagé (DossierGroupe)\n",
    "* 1 répertoire personnel (DossierPersonnel)\n",
    "\n",
    "Ces deux répertoires sont les deux répertoires **parents** de l'arborescence du Jupyter Hub sur votre session.\n",
    "A l'intérieur de chacun de ces deux répertoires parents il peut y avoir des sous-répertoires.\n",
    "Par exemple dans *DossierGroupe* on trouve :\n",
    "* DM 1 (R et Python)\n",
    "* Seance_1_python\n",
    "* Seance_2_python\n",
    "* Seance_3_jeux_de_donnees\n",
    "\n",
    "Les jeux de données que nous allons utiliser dans cette séquence sont situés dans le sous-répertoire *Seance_3_jeux_de_donnees* du DossierGroupe.\n",
    "\n",
    "Pour y accéder depuis votre DossierPersonnel (sans faire de copie), nous allons avoir recours aux **chemins d'accès relatifs**. \n",
    "\n",
    "$\\underline{Définition}$ : Un chemin relatif est une chaîne de caractères faisant référence à un emplacement qui est relatif à un répertoire courant. Les chemins relatifs utilisent trois symboles spéciaux :\n",
    "* le point (.) qui correspond au répertoire courant\n",
    "* les deux pointillés (..) qui correspondent au répertoire parent \n",
    "* la barre oblique (/ sous Linux, Mac et \\ sous Windows) pour séparer deux noms de répertoires. \n",
    "\n",
    "Les deux pointillés sont utilisés pour monter d'un niveau dans la hiérarchie. Le point unique représente le répertoire courant lui-même.\n",
    "\n",
    "$\\underline{Exemple}$ : Dans l'arborescence Jupyter Hub, si l'on se place dans DossierPersonnel et que l'on souhaite accéder au fichier de données catdata.csv situé dans DossierGroupe/Seance_3_jeux_de_donnees il faut taper le chemin relatif suivant (entre guillemets, il s'agit d'une chaîne de caractères) :\n",
    "\n",
    "`'../DossierGroupe/Seance_3_jeux_de_donnees/catdata.csv'`\n",
    "\n",
    "$\\rightarrow$ On commence tout d'abord par monter d'un niveau dans la hierarchie de l'arboresence avec `../` (on passe de Dossier Personnel à DossierGroupe). Puis on donne le chemin allant de DossierGroupe au fichier catdata.csv en séparent les sous-répertoires intermédiaires par des slashs `/`."
   ]
  },
  {
   "cell_type": "markdown",
   "metadata": {
    "slideshow": {
     "slide_type": "slide"
    }
   },
   "source": [
    "# Exporter des données depuis un fichier vers un DataFrame\n",
    "## Fichiers XLS (Excel)\n",
    "\n",
    "La fonction `read_excel()` de Pandas permet de lire les données contenues dans les cellules d'un ficher Excel et de les importer dans un DataFrame.\n",
    "\n",
    "On cherche ici à importer les données du fichier \"catdata.xlsx\" dans un DataFrame."
   ]
  },
  {
   "cell_type": "code",
   "execution_count": null,
   "metadata": {},
   "outputs": [],
   "source": [
    "import pandas as pd\n",
    "catExcel = pd.read_excel('./catdata.xlsx')\n",
    "type(catExcel)"
   ]
  },
  {
   "cell_type": "markdown",
   "metadata": {
    "slideshow": {
     "slide_type": "-"
    }
   },
   "source": [
    "$\\rightarrow$ catExcel est le nom de l'objet crée, de type DataFrame."
   ]
  },
  {
   "cell_type": "markdown",
   "metadata": {
    "slideshow": {
     "slide_type": "slide"
    }
   },
   "source": [
    "On peut afficher les premières lignes du jeu de données avec `head()` :\n",
    "\n",
    "(il s'agit d'un jeu de données où les individus observés sont des chats et les critères d'observation sont la couleur du pelage, la robe, le sexe, le poids, l'âge et le type de nourriture) :"
   ]
  },
  {
   "cell_type": "code",
   "execution_count": null,
   "metadata": {
    "slideshow": {
     "slide_type": "-"
    }
   },
   "outputs": [],
   "source": [
    "catExcel.head()"
   ]
  },
  {
   "cell_type": "markdown",
   "metadata": {
    "slideshow": {
     "slide_type": "-"
    }
   },
   "source": [
    "On peut afficher les dernières lignes du jeu de données avec `tail()` :"
   ]
  },
  {
   "cell_type": "code",
   "execution_count": null,
   "metadata": {
    "slideshow": {
     "slide_type": "-"
    }
   },
   "outputs": [],
   "source": [
    "catExcel.tail()"
   ]
  },
  {
   "cell_type": "markdown",
   "metadata": {
    "slideshow": {
     "slide_type": "slide"
    }
   },
   "source": [
    "## Fichiers CSV\n",
    "\n",
    "De même, la fonction `read_csv()` de Pandas permet de lire les données contenues dans un fichier CSV et de les importer dans un DataFrame :"
   ]
  },
  {
   "cell_type": "code",
   "execution_count": 73,
   "metadata": {
    "slideshow": {
     "slide_type": "-"
    }
   },
   "outputs": [],
   "source": [
    "catCSV = pd.read_csv('./catdata.csv')"
   ]
  },
  {
   "cell_type": "markdown",
   "metadata": {},
   "source": [
    "$\\rightarrow$ catCSV est le nom de l'objet crée, de type DataFrame."
   ]
  },
  {
   "cell_type": "markdown",
   "metadata": {
    "slideshow": {
     "slide_type": "slide"
    }
   },
   "source": [
    "On peut afficher les premières lignes du jeu de données avec `head()` :\n",
    "\n",
    "(il s'agit d'un jeu de données où les individus observés sont des chats et les critères d'observation sont la couleur du pelage, la robe, le sexe, le poids, l'âge et le type de nourriture) :"
   ]
  },
  {
   "cell_type": "code",
   "execution_count": 74,
   "metadata": {
    "slideshow": {
     "slide_type": "-"
    }
   },
   "outputs": [
    {
     "data": {
      "text/html": [
       "<div>\n",
       "<style scoped>\n",
       "    .dataframe tbody tr th:only-of-type {\n",
       "        vertical-align: middle;\n",
       "    }\n",
       "\n",
       "    .dataframe tbody tr th {\n",
       "        vertical-align: top;\n",
       "    }\n",
       "\n",
       "    .dataframe thead th {\n",
       "        text-align: right;\n",
       "    }\n",
       "</style>\n",
       "<table border=\"1\" class=\"dataframe\">\n",
       "  <thead>\n",
       "    <tr style=\"text-align: right;\">\n",
       "      <th></th>\n",
       "      <th>haircolor;\"hairpattern\";\"sex\";\"weight\";\"age\";\"foodtype\"</th>\n",
       "    </tr>\n",
       "  </thead>\n",
       "  <tbody>\n",
       "    <tr>\n",
       "      <th>0</th>\n",
       "      <td>red;\"solid\";\"female\";4.6;12;\"other\"</td>\n",
       "    </tr>\n",
       "    <tr>\n",
       "      <th>1</th>\n",
       "      <td>black;\"tabby\";\"female\";5.5;6;\"dry\"</td>\n",
       "    </tr>\n",
       "    <tr>\n",
       "      <th>2</th>\n",
       "      <td>white;\"tabby\";\"female\";5.6;8;\"wet\"</td>\n",
       "    </tr>\n",
       "    <tr>\n",
       "      <th>3</th>\n",
       "      <td>red;\"tabby\";\"female\";6.1;5;\"dry\"</td>\n",
       "    </tr>\n",
       "    <tr>\n",
       "      <th>4</th>\n",
       "      <td>brown;\"solid\";\"female\";5.3;7;\"dry\"</td>\n",
       "    </tr>\n",
       "  </tbody>\n",
       "</table>\n",
       "</div>"
      ],
      "text/plain": [
       "  haircolor;\"hairpattern\";\"sex\";\"weight\";\"age\";\"foodtype\"\n",
       "0                red;\"solid\";\"female\";4.6;12;\"other\"     \n",
       "1                 black;\"tabby\";\"female\";5.5;6;\"dry\"     \n",
       "2                 white;\"tabby\";\"female\";5.6;8;\"wet\"     \n",
       "3                   red;\"tabby\";\"female\";6.1;5;\"dry\"     \n",
       "4                 brown;\"solid\";\"female\";5.3;7;\"dry\"     "
      ]
     },
     "execution_count": 74,
     "metadata": {},
     "output_type": "execute_result"
    }
   ],
   "source": [
    "catCSV.head()"
   ]
  },
  {
   "cell_type": "markdown",
   "metadata": {
    "slideshow": {
     "slide_type": "-"
    }
   },
   "source": [
    "On peut afficher les dernières lignes du jeu de données avec `tail()` :"
   ]
  },
  {
   "cell_type": "code",
   "execution_count": 75,
   "metadata": {},
   "outputs": [
    {
     "data": {
      "text/html": [
       "<div>\n",
       "<style scoped>\n",
       "    .dataframe tbody tr th:only-of-type {\n",
       "        vertical-align: middle;\n",
       "    }\n",
       "\n",
       "    .dataframe tbody tr th {\n",
       "        vertical-align: top;\n",
       "    }\n",
       "\n",
       "    .dataframe thead th {\n",
       "        text-align: right;\n",
       "    }\n",
       "</style>\n",
       "<table border=\"1\" class=\"dataframe\">\n",
       "  <thead>\n",
       "    <tr style=\"text-align: right;\">\n",
       "      <th></th>\n",
       "      <th>haircolor;\"hairpattern\";\"sex\";\"weight\";\"age\";\"foodtype\"</th>\n",
       "    </tr>\n",
       "  </thead>\n",
       "  <tbody>\n",
       "    <tr>\n",
       "      <th>148</th>\n",
       "      <td>brown;\"tabby\";\"female\";6.3;3;\"dry\"</td>\n",
       "    </tr>\n",
       "    <tr>\n",
       "      <th>149</th>\n",
       "      <td>black;\"tabby\";\"female\";5.2;5;\"wet\"</td>\n",
       "    </tr>\n",
       "    <tr>\n",
       "      <th>150</th>\n",
       "      <td>brown;\"tabby\";\"female\";4.3;3;\"other\"</td>\n",
       "    </tr>\n",
       "    <tr>\n",
       "      <th>151</th>\n",
       "      <td>red;\"tabby\";\"male\";3.8;4;\"wet\"</td>\n",
       "    </tr>\n",
       "    <tr>\n",
       "      <th>152</th>\n",
       "      <td>black;\"tortoise\";\"male\";4.2;6;\"dry\"</td>\n",
       "    </tr>\n",
       "  </tbody>\n",
       "</table>\n",
       "</div>"
      ],
      "text/plain": [
       "    haircolor;\"hairpattern\";\"sex\";\"weight\";\"age\";\"foodtype\"\n",
       "148                 brown;\"tabby\";\"female\";6.3;3;\"dry\"     \n",
       "149                 black;\"tabby\";\"female\";5.2;5;\"wet\"     \n",
       "150               brown;\"tabby\";\"female\";4.3;3;\"other\"     \n",
       "151                     red;\"tabby\";\"male\";3.8;4;\"wet\"     \n",
       "152                black;\"tortoise\";\"male\";4.2;6;\"dry\"     "
      ]
     },
     "execution_count": 75,
     "metadata": {},
     "output_type": "execute_result"
    }
   ],
   "source": [
    "catCSV.tail()"
   ]
  },
  {
   "cell_type": "markdown",
   "metadata": {
    "slideshow": {
     "slide_type": "-"
    }
   },
   "source": [
    "$\\rightarrow$ On remarque dans ces sorties écran que les points virgules sont encore présents entre chaque champ. La structure de DataFrame n'est donc pas encore fonctionnelle puisque le séparateur de colonne n'a pas été clairement défini (les colonnes ne sont pas reconnues comme telles à ce stade)."
   ]
  },
  {
   "cell_type": "markdown",
   "metadata": {
    "slideshow": {
     "slide_type": "slide"
    }
   },
   "source": [
    "**Définir un séparateur de colonnes** : l'argument `sep` permet de spécifier le caractère séparateur de colonnes :"
   ]
  },
  {
   "cell_type": "code",
   "execution_count": 9,
   "metadata": {
    "slideshow": {
     "slide_type": "-"
    }
   },
   "outputs": [],
   "source": [
    "catCSV = pd.read_csv('./catdata.csv', sep=';')"
   ]
  },
  {
   "cell_type": "code",
   "execution_count": 10,
   "metadata": {
    "slideshow": {
     "slide_type": "-"
    }
   },
   "outputs": [
    {
     "data": {
      "text/html": [
       "<div>\n",
       "<style scoped>\n",
       "    .dataframe tbody tr th:only-of-type {\n",
       "        vertical-align: middle;\n",
       "    }\n",
       "\n",
       "    .dataframe tbody tr th {\n",
       "        vertical-align: top;\n",
       "    }\n",
       "\n",
       "    .dataframe thead th {\n",
       "        text-align: right;\n",
       "    }\n",
       "</style>\n",
       "<table border=\"1\" class=\"dataframe\">\n",
       "  <thead>\n",
       "    <tr style=\"text-align: right;\">\n",
       "      <th></th>\n",
       "      <th>haircolor</th>\n",
       "      <th>hairpattern</th>\n",
       "      <th>sex</th>\n",
       "      <th>weight</th>\n",
       "      <th>age</th>\n",
       "      <th>foodtype</th>\n",
       "    </tr>\n",
       "  </thead>\n",
       "  <tbody>\n",
       "    <tr>\n",
       "      <th>0</th>\n",
       "      <td>red</td>\n",
       "      <td>solid</td>\n",
       "      <td>female</td>\n",
       "      <td>4.6</td>\n",
       "      <td>12</td>\n",
       "      <td>other</td>\n",
       "    </tr>\n",
       "    <tr>\n",
       "      <th>1</th>\n",
       "      <td>black</td>\n",
       "      <td>tabby</td>\n",
       "      <td>female</td>\n",
       "      <td>5.5</td>\n",
       "      <td>6</td>\n",
       "      <td>dry</td>\n",
       "    </tr>\n",
       "    <tr>\n",
       "      <th>2</th>\n",
       "      <td>white</td>\n",
       "      <td>tabby</td>\n",
       "      <td>female</td>\n",
       "      <td>5.6</td>\n",
       "      <td>8</td>\n",
       "      <td>wet</td>\n",
       "    </tr>\n",
       "    <tr>\n",
       "      <th>3</th>\n",
       "      <td>red</td>\n",
       "      <td>tabby</td>\n",
       "      <td>female</td>\n",
       "      <td>6.1</td>\n",
       "      <td>5</td>\n",
       "      <td>dry</td>\n",
       "    </tr>\n",
       "    <tr>\n",
       "      <th>4</th>\n",
       "      <td>brown</td>\n",
       "      <td>solid</td>\n",
       "      <td>female</td>\n",
       "      <td>5.3</td>\n",
       "      <td>7</td>\n",
       "      <td>dry</td>\n",
       "    </tr>\n",
       "  </tbody>\n",
       "</table>\n",
       "</div>"
      ],
      "text/plain": [
       "  haircolor hairpattern     sex  weight  age foodtype\n",
       "0       red       solid  female     4.6   12    other\n",
       "1     black       tabby  female     5.5    6      dry\n",
       "2     white       tabby  female     5.6    8      wet\n",
       "3       red       tabby  female     6.1    5      dry\n",
       "4     brown       solid  female     5.3    7      dry"
      ]
     },
     "execution_count": 10,
     "metadata": {},
     "output_type": "execute_result"
    }
   ],
   "source": [
    "catCSV.head()"
   ]
  },
  {
   "cell_type": "code",
   "execution_count": 11,
   "metadata": {
    "slideshow": {
     "slide_type": "-"
    }
   },
   "outputs": [
    {
     "data": {
      "text/html": [
       "<div>\n",
       "<style scoped>\n",
       "    .dataframe tbody tr th:only-of-type {\n",
       "        vertical-align: middle;\n",
       "    }\n",
       "\n",
       "    .dataframe tbody tr th {\n",
       "        vertical-align: top;\n",
       "    }\n",
       "\n",
       "    .dataframe thead th {\n",
       "        text-align: right;\n",
       "    }\n",
       "</style>\n",
       "<table border=\"1\" class=\"dataframe\">\n",
       "  <thead>\n",
       "    <tr style=\"text-align: right;\">\n",
       "      <th></th>\n",
       "      <th>haircolor</th>\n",
       "      <th>hairpattern</th>\n",
       "      <th>sex</th>\n",
       "      <th>weight</th>\n",
       "      <th>age</th>\n",
       "      <th>foodtype</th>\n",
       "    </tr>\n",
       "  </thead>\n",
       "  <tbody>\n",
       "    <tr>\n",
       "      <th>148</th>\n",
       "      <td>brown</td>\n",
       "      <td>tabby</td>\n",
       "      <td>female</td>\n",
       "      <td>6.3</td>\n",
       "      <td>3</td>\n",
       "      <td>dry</td>\n",
       "    </tr>\n",
       "    <tr>\n",
       "      <th>149</th>\n",
       "      <td>black</td>\n",
       "      <td>tabby</td>\n",
       "      <td>female</td>\n",
       "      <td>5.2</td>\n",
       "      <td>5</td>\n",
       "      <td>wet</td>\n",
       "    </tr>\n",
       "    <tr>\n",
       "      <th>150</th>\n",
       "      <td>brown</td>\n",
       "      <td>tabby</td>\n",
       "      <td>female</td>\n",
       "      <td>4.3</td>\n",
       "      <td>3</td>\n",
       "      <td>other</td>\n",
       "    </tr>\n",
       "    <tr>\n",
       "      <th>151</th>\n",
       "      <td>red</td>\n",
       "      <td>tabby</td>\n",
       "      <td>male</td>\n",
       "      <td>3.8</td>\n",
       "      <td>4</td>\n",
       "      <td>wet</td>\n",
       "    </tr>\n",
       "    <tr>\n",
       "      <th>152</th>\n",
       "      <td>black</td>\n",
       "      <td>tortoise</td>\n",
       "      <td>male</td>\n",
       "      <td>4.2</td>\n",
       "      <td>6</td>\n",
       "      <td>dry</td>\n",
       "    </tr>\n",
       "  </tbody>\n",
       "</table>\n",
       "</div>"
      ],
      "text/plain": [
       "    haircolor hairpattern     sex  weight  age foodtype\n",
       "148     brown       tabby  female     6.3    3      dry\n",
       "149     black       tabby  female     5.2    5      wet\n",
       "150     brown       tabby  female     4.3    3    other\n",
       "151       red       tabby    male     3.8    4      wet\n",
       "152     black    tortoise    male     4.2    6      dry"
      ]
     },
     "execution_count": 11,
     "metadata": {},
     "output_type": "execute_result"
    }
   ],
   "source": [
    "catCSV.tail()"
   ]
  },
  {
   "cell_type": "markdown",
   "metadata": {
    "slideshow": {
     "slide_type": "slide"
    }
   },
   "source": [
    "$\\underline{Remarque}$ : Les fonctions `read_excel()` et `read_csv()` comportent une multitude d'arguments optionnels à consulter sur la documentation Pandas:\n",
    "\n",
    "https://pandas.pydata.org/pandas-docs/stable/generated/pandas.read_excel.html\n",
    "\n",
    "https://pandas.pydata.org/pandas-docs/stable/generated/pandas.read_csv.html"
   ]
  },
  {
   "cell_type": "markdown",
   "metadata": {
    "slideshow": {
     "slide_type": "slide"
    }
   },
   "source": [
    "# Architecture de la structure DataFrame\n",
    "* **Dimension** : On peut connaître le nombre de lignes et de colonnes avec la fonction `shape` (idem qu'avec les numpy.array). \n",
    "\n",
    "La ligne d'en-tête  contenant les noms des champs n'est pas comptabilisée dans le nombre de lignes."
   ]
  },
  {
   "cell_type": "code",
   "execution_count": 12,
   "metadata": {
    "slideshow": {
     "slide_type": "-"
    }
   },
   "outputs": [
    {
     "data": {
      "text/plain": [
       "(153, 6)"
      ]
     },
     "execution_count": 12,
     "metadata": {},
     "output_type": "execute_result"
    }
   ],
   "source": [
    "cat = pd.read_csv('./catdata.csv', sep=';')\n",
    "cat.shape"
   ]
  },
  {
   "cell_type": "markdown",
   "metadata": {
    "slideshow": {
     "slide_type": "-"
    }
   },
   "source": [
    "$\\rightarrow$ Ce DataFrame comporte 153 lignes (sans la ligne d'en-tête) et 6 colonnes."
   ]
  },
  {
   "cell_type": "markdown",
   "metadata": {
    "slideshow": {
     "slide_type": "slide"
    }
   },
   "source": [
    "* **Enumération des lignes et colonnes** avec `index` et `columns`"
   ]
  },
  {
   "cell_type": "code",
   "execution_count": 13,
   "metadata": {
    "slideshow": {
     "slide_type": "-"
    }
   },
   "outputs": [
    {
     "data": {
      "text/plain": [
       "RangeIndex(start=0, stop=153, step=1)"
      ]
     },
     "execution_count": 13,
     "metadata": {},
     "output_type": "execute_result"
    }
   ],
   "source": [
    "cat.index # lignes"
   ]
  },
  {
   "cell_type": "markdown",
   "metadata": {
    "slideshow": {
     "slide_type": "-"
    }
   },
   "source": [
    "$\\rightarrow$ Les numéros de lignes vont de 0 jusqu'à 153-1 par pas de 1 : cela fait bien 153 lignes."
   ]
  },
  {
   "cell_type": "code",
   "execution_count": 14,
   "metadata": {
    "slideshow": {
     "slide_type": "-"
    }
   },
   "outputs": [
    {
     "data": {
      "text/plain": [
       "Index(['haircolor', 'hairpattern', 'sex', 'weight', 'age', 'foodtype'], dtype='object')"
      ]
     },
     "execution_count": 14,
     "metadata": {},
     "output_type": "execute_result"
    }
   ],
   "source": [
    "cat.columns # colonnes"
   ]
  },
  {
   "cell_type": "markdown",
   "metadata": {
    "slideshow": {
     "slide_type": "-"
    }
   },
   "source": [
    "$\\rightarrow$ Les noms des colonnes sont énumérés dans une liste."
   ]
  },
  {
   "cell_type": "markdown",
   "metadata": {
    "slideshow": {
     "slide_type": "slide"
    }
   },
   "source": [
    "* **Description statistique des données**\n",
    "\n",
    "La fonction `describe()` donne la description des données numériques uniquement :"
   ]
  },
  {
   "cell_type": "code",
   "execution_count": 15,
   "metadata": {},
   "outputs": [
    {
     "data": {
      "text/html": [
       "<div>\n",
       "<style scoped>\n",
       "    .dataframe tbody tr th:only-of-type {\n",
       "        vertical-align: middle;\n",
       "    }\n",
       "\n",
       "    .dataframe tbody tr th {\n",
       "        vertical-align: top;\n",
       "    }\n",
       "\n",
       "    .dataframe thead th {\n",
       "        text-align: right;\n",
       "    }\n",
       "</style>\n",
       "<table border=\"1\" class=\"dataframe\">\n",
       "  <thead>\n",
       "    <tr style=\"text-align: right;\">\n",
       "      <th></th>\n",
       "      <th>weight</th>\n",
       "      <th>age</th>\n",
       "    </tr>\n",
       "  </thead>\n",
       "  <tbody>\n",
       "    <tr>\n",
       "      <th>count</th>\n",
       "      <td>153.000000</td>\n",
       "      <td>153.000000</td>\n",
       "    </tr>\n",
       "    <tr>\n",
       "      <th>mean</th>\n",
       "      <td>4.891503</td>\n",
       "      <td>6.124183</td>\n",
       "    </tr>\n",
       "    <tr>\n",
       "      <th>std</th>\n",
       "      <td>1.043901</td>\n",
       "      <td>2.678669</td>\n",
       "    </tr>\n",
       "    <tr>\n",
       "      <th>min</th>\n",
       "      <td>1.900000</td>\n",
       "      <td>2.000000</td>\n",
       "    </tr>\n",
       "    <tr>\n",
       "      <th>25%</th>\n",
       "      <td>4.200000</td>\n",
       "      <td>4.000000</td>\n",
       "    </tr>\n",
       "    <tr>\n",
       "      <th>50%</th>\n",
       "      <td>4.900000</td>\n",
       "      <td>6.000000</td>\n",
       "    </tr>\n",
       "    <tr>\n",
       "      <th>75%</th>\n",
       "      <td>5.600000</td>\n",
       "      <td>7.000000</td>\n",
       "    </tr>\n",
       "    <tr>\n",
       "      <th>max</th>\n",
       "      <td>7.500000</td>\n",
       "      <td>17.000000</td>\n",
       "    </tr>\n",
       "  </tbody>\n",
       "</table>\n",
       "</div>"
      ],
      "text/plain": [
       "           weight         age\n",
       "count  153.000000  153.000000\n",
       "mean     4.891503    6.124183\n",
       "std      1.043901    2.678669\n",
       "min      1.900000    2.000000\n",
       "25%      4.200000    4.000000\n",
       "50%      4.900000    6.000000\n",
       "75%      5.600000    7.000000\n",
       "max      7.500000   17.000000"
      ]
     },
     "execution_count": 15,
     "metadata": {},
     "output_type": "execute_result"
    }
   ],
   "source": [
    "cat.describe()"
   ]
  },
  {
   "cell_type": "markdown",
   "metadata": {
    "slideshow": {
     "slide_type": "-"
    }
   },
   "source": [
    "$\\rightarrow$ Ici seule la description statistique des variables numériques (\"weight\" et \"age\") est donnée."
   ]
  },
  {
   "cell_type": "markdown",
   "metadata": {
    "slideshow": {
     "slide_type": "slide"
    }
   },
   "source": [
    "On peut ajouter l'argument `include='all'` pour avoir la description de toutes les données (numériques et catégorielles).\n",
    "\n",
    "Certains indicateurs statistiques ne sont valables que pour les variables numériques (moyenne, min, max, quartiles), et inversemment pour les non-numériques (unique, top, freq), d'où les NaN (= Not a Number) dans certaines situations."
   ]
  },
  {
   "cell_type": "code",
   "execution_count": 16,
   "metadata": {
    "scrolled": true,
    "slideshow": {
     "slide_type": "-"
    }
   },
   "outputs": [
    {
     "data": {
      "text/html": [
       "<div>\n",
       "<style scoped>\n",
       "    .dataframe tbody tr th:only-of-type {\n",
       "        vertical-align: middle;\n",
       "    }\n",
       "\n",
       "    .dataframe tbody tr th {\n",
       "        vertical-align: top;\n",
       "    }\n",
       "\n",
       "    .dataframe thead th {\n",
       "        text-align: right;\n",
       "    }\n",
       "</style>\n",
       "<table border=\"1\" class=\"dataframe\">\n",
       "  <thead>\n",
       "    <tr style=\"text-align: right;\">\n",
       "      <th></th>\n",
       "      <th>haircolor</th>\n",
       "      <th>hairpattern</th>\n",
       "      <th>sex</th>\n",
       "      <th>weight</th>\n",
       "      <th>age</th>\n",
       "      <th>foodtype</th>\n",
       "    </tr>\n",
       "  </thead>\n",
       "  <tbody>\n",
       "    <tr>\n",
       "      <th>count</th>\n",
       "      <td>153</td>\n",
       "      <td>153</td>\n",
       "      <td>153</td>\n",
       "      <td>153.000000</td>\n",
       "      <td>153.000000</td>\n",
       "      <td>153</td>\n",
       "    </tr>\n",
       "    <tr>\n",
       "      <th>unique</th>\n",
       "      <td>4</td>\n",
       "      <td>5</td>\n",
       "      <td>2</td>\n",
       "      <td>NaN</td>\n",
       "      <td>NaN</td>\n",
       "      <td>3</td>\n",
       "    </tr>\n",
       "    <tr>\n",
       "      <th>top</th>\n",
       "      <td>black</td>\n",
       "      <td>tabby</td>\n",
       "      <td>male</td>\n",
       "      <td>NaN</td>\n",
       "      <td>NaN</td>\n",
       "      <td>dry</td>\n",
       "    </tr>\n",
       "    <tr>\n",
       "      <th>freq</th>\n",
       "      <td>79</td>\n",
       "      <td>60</td>\n",
       "      <td>78</td>\n",
       "      <td>NaN</td>\n",
       "      <td>NaN</td>\n",
       "      <td>102</td>\n",
       "    </tr>\n",
       "    <tr>\n",
       "      <th>mean</th>\n",
       "      <td>NaN</td>\n",
       "      <td>NaN</td>\n",
       "      <td>NaN</td>\n",
       "      <td>4.891503</td>\n",
       "      <td>6.124183</td>\n",
       "      <td>NaN</td>\n",
       "    </tr>\n",
       "    <tr>\n",
       "      <th>std</th>\n",
       "      <td>NaN</td>\n",
       "      <td>NaN</td>\n",
       "      <td>NaN</td>\n",
       "      <td>1.043901</td>\n",
       "      <td>2.678669</td>\n",
       "      <td>NaN</td>\n",
       "    </tr>\n",
       "    <tr>\n",
       "      <th>min</th>\n",
       "      <td>NaN</td>\n",
       "      <td>NaN</td>\n",
       "      <td>NaN</td>\n",
       "      <td>1.900000</td>\n",
       "      <td>2.000000</td>\n",
       "      <td>NaN</td>\n",
       "    </tr>\n",
       "    <tr>\n",
       "      <th>25%</th>\n",
       "      <td>NaN</td>\n",
       "      <td>NaN</td>\n",
       "      <td>NaN</td>\n",
       "      <td>4.200000</td>\n",
       "      <td>4.000000</td>\n",
       "      <td>NaN</td>\n",
       "    </tr>\n",
       "    <tr>\n",
       "      <th>50%</th>\n",
       "      <td>NaN</td>\n",
       "      <td>NaN</td>\n",
       "      <td>NaN</td>\n",
       "      <td>4.900000</td>\n",
       "      <td>6.000000</td>\n",
       "      <td>NaN</td>\n",
       "    </tr>\n",
       "    <tr>\n",
       "      <th>75%</th>\n",
       "      <td>NaN</td>\n",
       "      <td>NaN</td>\n",
       "      <td>NaN</td>\n",
       "      <td>5.600000</td>\n",
       "      <td>7.000000</td>\n",
       "      <td>NaN</td>\n",
       "    </tr>\n",
       "    <tr>\n",
       "      <th>max</th>\n",
       "      <td>NaN</td>\n",
       "      <td>NaN</td>\n",
       "      <td>NaN</td>\n",
       "      <td>7.500000</td>\n",
       "      <td>17.000000</td>\n",
       "      <td>NaN</td>\n",
       "    </tr>\n",
       "  </tbody>\n",
       "</table>\n",
       "</div>"
      ],
      "text/plain": [
       "       haircolor hairpattern   sex      weight         age foodtype\n",
       "count        153         153   153  153.000000  153.000000      153\n",
       "unique         4           5     2         NaN         NaN        3\n",
       "top        black       tabby  male         NaN         NaN      dry\n",
       "freq          79          60    78         NaN         NaN      102\n",
       "mean         NaN         NaN   NaN    4.891503    6.124183      NaN\n",
       "std          NaN         NaN   NaN    1.043901    2.678669      NaN\n",
       "min          NaN         NaN   NaN    1.900000    2.000000      NaN\n",
       "25%          NaN         NaN   NaN    4.200000    4.000000      NaN\n",
       "50%          NaN         NaN   NaN    4.900000    6.000000      NaN\n",
       "75%          NaN         NaN   NaN    5.600000    7.000000      NaN\n",
       "max          NaN         NaN   NaN    7.500000   17.000000      NaN"
      ]
     },
     "execution_count": 16,
     "metadata": {},
     "output_type": "execute_result"
    }
   ],
   "source": [
    "cat.describe(include='all')"
   ]
  },
  {
   "cell_type": "markdown",
   "metadata": {
    "slideshow": {
     "slide_type": "slide"
    }
   },
   "source": [
    "# Manipulation des variables\n",
    "(inspiré du cours du laboratoire Eric de l'université Lyon 2 : https://eric.univ-lyon2.fr/~ricco/tanagra/fichiers/fr_Tanagra_Data_Manipulation_Pandas.pdf)\n",
    "##  Accès aux variables\n",
    "\n",
    "$\\underline{Paramétrage}$ : Pour éviter d'afficher à l'écran des DataFrame trop longues, on peut modifier par convenance le nombre de lignes à afficher dans les print (ici nous en garderons seulement 10). Ceci sera valable pour toute la suite du document :"
   ]
  },
  {
   "cell_type": "code",
   "execution_count": 17,
   "metadata": {
    "slideshow": {
     "slide_type": "-"
    }
   },
   "outputs": [],
   "source": [
    "pd.options.display.max_rows = 10"
   ]
  },
  {
   "cell_type": "markdown",
   "metadata": {
    "slideshow": {
     "slide_type": "slide"
    }
   },
   "source": [
    "Il est possible d'accéder explicitement aux variables (c'est à dire aux colonnes). Dans un premier temps, nous accédons aux variables directement avec les noms des champs **entre guillemets et dans des crochets** (cad les noms des variables, en en-tête de colonne)."
   ]
  },
  {
   "cell_type": "code",
   "execution_count": 18,
   "metadata": {
    "slideshow": {
     "slide_type": "-"
    }
   },
   "outputs": [
    {
     "data": {
      "text/plain": [
       "0      female\n",
       "1      female\n",
       "2      female\n",
       "3      female\n",
       "4      female\n",
       "        ...  \n",
       "148    female\n",
       "149    female\n",
       "150    female\n",
       "151      male\n",
       "152      male\n",
       "Name: sex, Length: 153, dtype: object"
      ]
     },
     "execution_count": 18,
     "metadata": {},
     "output_type": "execute_result"
    }
   ],
   "source": [
    "cat['sex']"
   ]
  },
  {
   "cell_type": "markdown",
   "metadata": {
    "slideshow": {
     "slide_type": "-"
    }
   },
   "source": [
    "$\\underline{Remarque}$ : Il est aussi possible d'accéder à une colonne avec le `.` (équivalent du `$` en R). Dans ce cas le nom de la colonne n'est pas donné comme une chaîne de caractères entre guillemets, mais plutôt comme une variable."
   ]
  },
  {
   "cell_type": "code",
   "execution_count": 19,
   "metadata": {
    "slideshow": {
     "slide_type": "-"
    }
   },
   "outputs": [
    {
     "data": {
      "text/plain": [
       "0      female\n",
       "1      female\n",
       "2      female\n",
       "3      female\n",
       "4      female\n",
       "        ...  \n",
       "148    female\n",
       "149    female\n",
       "150    female\n",
       "151      male\n",
       "152      male\n",
       "Name: sex, Length: 153, dtype: object"
      ]
     },
     "execution_count": 19,
     "metadata": {},
     "output_type": "execute_result"
    }
   ],
   "source": [
    "cat.sex"
   ]
  },
  {
   "cell_type": "markdown",
   "metadata": {
    "slideshow": {
     "slide_type": "slide"
    }
   },
   "source": [
    "En Pandas, une colonne d'un DataFrame est de type Series (on appelle donc parfois les colonnes d'un DataFrame des séries) :"
   ]
  },
  {
   "cell_type": "code",
   "execution_count": 20,
   "metadata": {
    "slideshow": {
     "slide_type": "-"
    }
   },
   "outputs": [
    {
     "data": {
      "text/plain": [
       "pandas.core.series.Series"
      ]
     },
     "execution_count": 20,
     "metadata": {},
     "output_type": "execute_result"
    }
   ],
   "source": [
    "type(cat['sex'])"
   ]
  },
  {
   "cell_type": "markdown",
   "metadata": {
    "slideshow": {
     "slide_type": "-"
    }
   },
   "source": [
    "On peut accéder à un ensemble de colonnes en donnant une **liste** contenant les noms des colonnes souhaitées :"
   ]
  },
  {
   "cell_type": "code",
   "execution_count": 21,
   "metadata": {
    "slideshow": {
     "slide_type": "-"
    }
   },
   "outputs": [
    {
     "data": {
      "text/html": [
       "<div>\n",
       "<style scoped>\n",
       "    .dataframe tbody tr th:only-of-type {\n",
       "        vertical-align: middle;\n",
       "    }\n",
       "\n",
       "    .dataframe tbody tr th {\n",
       "        vertical-align: top;\n",
       "    }\n",
       "\n",
       "    .dataframe thead th {\n",
       "        text-align: right;\n",
       "    }\n",
       "</style>\n",
       "<table border=\"1\" class=\"dataframe\">\n",
       "  <thead>\n",
       "    <tr style=\"text-align: right;\">\n",
       "      <th></th>\n",
       "      <th>sex</th>\n",
       "      <th>age</th>\n",
       "    </tr>\n",
       "  </thead>\n",
       "  <tbody>\n",
       "    <tr>\n",
       "      <th>0</th>\n",
       "      <td>female</td>\n",
       "      <td>12</td>\n",
       "    </tr>\n",
       "    <tr>\n",
       "      <th>1</th>\n",
       "      <td>female</td>\n",
       "      <td>6</td>\n",
       "    </tr>\n",
       "    <tr>\n",
       "      <th>2</th>\n",
       "      <td>female</td>\n",
       "      <td>8</td>\n",
       "    </tr>\n",
       "    <tr>\n",
       "      <th>3</th>\n",
       "      <td>female</td>\n",
       "      <td>5</td>\n",
       "    </tr>\n",
       "    <tr>\n",
       "      <th>4</th>\n",
       "      <td>female</td>\n",
       "      <td>7</td>\n",
       "    </tr>\n",
       "    <tr>\n",
       "      <th>...</th>\n",
       "      <td>...</td>\n",
       "      <td>...</td>\n",
       "    </tr>\n",
       "    <tr>\n",
       "      <th>148</th>\n",
       "      <td>female</td>\n",
       "      <td>3</td>\n",
       "    </tr>\n",
       "    <tr>\n",
       "      <th>149</th>\n",
       "      <td>female</td>\n",
       "      <td>5</td>\n",
       "    </tr>\n",
       "    <tr>\n",
       "      <th>150</th>\n",
       "      <td>female</td>\n",
       "      <td>3</td>\n",
       "    </tr>\n",
       "    <tr>\n",
       "      <th>151</th>\n",
       "      <td>male</td>\n",
       "      <td>4</td>\n",
       "    </tr>\n",
       "    <tr>\n",
       "      <th>152</th>\n",
       "      <td>male</td>\n",
       "      <td>6</td>\n",
       "    </tr>\n",
       "  </tbody>\n",
       "</table>\n",
       "<p>153 rows × 2 columns</p>\n",
       "</div>"
      ],
      "text/plain": [
       "        sex  age\n",
       "0    female   12\n",
       "1    female    6\n",
       "2    female    8\n",
       "3    female    5\n",
       "4    female    7\n",
       "..      ...  ...\n",
       "148  female    3\n",
       "149  female    5\n",
       "150  female    3\n",
       "151    male    4\n",
       "152    male    6\n",
       "\n",
       "[153 rows x 2 columns]"
      ]
     },
     "execution_count": 21,
     "metadata": {},
     "output_type": "execute_result"
    }
   ],
   "source": [
    "cat[['sex','age']]"
   ]
  },
  {
   "cell_type": "markdown",
   "metadata": {
    "slideshow": {
     "slide_type": "slide"
    }
   },
   "source": [
    "On peut obtenir des statistiques descriptives seulement pour des variables souhaitées, toujours avec la fonction `describe()`"
   ]
  },
  {
   "cell_type": "code",
   "execution_count": 22,
   "metadata": {
    "slideshow": {
     "slide_type": "-"
    }
   },
   "outputs": [
    {
     "data": {
      "text/plain": [
       "count    153.000000\n",
       "mean       6.124183\n",
       "std        2.678669\n",
       "min        2.000000\n",
       "25%        4.000000\n",
       "50%        6.000000\n",
       "75%        7.000000\n",
       "max       17.000000\n",
       "Name: age, dtype: float64"
      ]
     },
     "execution_count": 22,
     "metadata": {},
     "output_type": "execute_result"
    }
   ],
   "source": [
    "cat['age'].describe()"
   ]
  },
  {
   "cell_type": "markdown",
   "metadata": {
    "slideshow": {
     "slide_type": "-"
    }
   },
   "source": [
    "Ou encore calculer explicitement la moyenne (ou autre description statistique) d'une variable en particulier :"
   ]
  },
  {
   "cell_type": "code",
   "execution_count": 23,
   "metadata": {
    "slideshow": {
     "slide_type": "-"
    }
   },
   "outputs": [
    {
     "data": {
      "text/plain": [
       "6.124183006535947"
      ]
     },
     "execution_count": 23,
     "metadata": {},
     "output_type": "execute_result"
    }
   ],
   "source": [
    "cat['age'].mean()"
   ]
  },
  {
   "cell_type": "markdown",
   "metadata": {
    "slideshow": {
     "slide_type": "slide"
    }
   },
   "source": [
    "On peut compter l'occurence d'une valeur pour une colonne donnée avec la fonction `value_counts()`"
   ]
  },
  {
   "cell_type": "code",
   "execution_count": 24,
   "metadata": {
    "slideshow": {
     "slide_type": "-"
    }
   },
   "outputs": [
    {
     "data": {
      "text/plain": [
       "tabby         60\n",
       "solid         34\n",
       "tipped        22\n",
       "tortoise      19\n",
       "colorpoint    18\n",
       "Name: hairpattern, dtype: int64"
      ]
     },
     "execution_count": 24,
     "metadata": {},
     "output_type": "execute_result"
    }
   ],
   "source": [
    "cat['hairpattern'].value_counts()"
   ]
  },
  {
   "cell_type": "markdown",
   "metadata": {
    "slideshow": {
     "slide_type": "-"
    }
   },
   "source": [
    "$\\rightarrow$ Il y 60 chats dont la robe est de type \"Tabby\", 34 \"Solid\", etc ..."
   ]
  },
  {
   "cell_type": "code",
   "execution_count": 25,
   "metadata": {
    "slideshow": {
     "slide_type": "-"
    }
   },
   "outputs": [
    {
     "data": {
      "text/plain": [
       "5     30\n",
       "4     27\n",
       "6     22\n",
       "7     20\n",
       "3     17\n",
       "      ..\n",
       "10     4\n",
       "17     3\n",
       "12     2\n",
       "13     1\n",
       "2      1\n",
       "Name: age, Length: 13, dtype: int64"
      ]
     },
     "execution_count": 25,
     "metadata": {},
     "output_type": "execute_result"
    }
   ],
   "source": [
    "cat['age'].value_counts()"
   ]
  },
  {
   "cell_type": "markdown",
   "metadata": {
    "slideshow": {
     "slide_type": "-"
    }
   },
   "source": [
    "$\\rightarrow$ Il y 30 chats âgés de 5 ans, 27 chats âgés de 4 ans, etc ...\n",
    "\n",
    "$\\rightarrow$ En tout il y a 13 valeurs d'âge différentes"
   ]
  },
  {
   "cell_type": "markdown",
   "metadata": {
    "slideshow": {
     "slide_type": "slide"
    }
   },
   "source": [
    "## Indexation\n",
    "Chaque colonne d'un DataFrame (de type Series) est vue comme un vecteur. Il est donc possible d'utiliser des indices pour accéder à certains éléments de la colonne :"
   ]
  },
  {
   "cell_type": "code",
   "execution_count": 26,
   "metadata": {
    "slideshow": {
     "slide_type": "-"
    }
   },
   "outputs": [
    {
     "data": {
      "text/plain": [
       "'red'"
      ]
     },
     "execution_count": 26,
     "metadata": {},
     "output_type": "execute_result"
    }
   ],
   "source": [
    "cat['haircolor'][0] "
   ]
  },
  {
   "cell_type": "markdown",
   "metadata": {
    "slideshow": {
     "slide_type": "-"
    }
   },
   "source": [
    "$\\rightarrow$ On accède à la première valeur de la colonne \"haircolor\" qui est 'red'"
   ]
  },
  {
   "cell_type": "code",
   "execution_count": 27,
   "metadata": {
    "slideshow": {
     "slide_type": "-"
    }
   },
   "outputs": [
    {
     "data": {
      "text/plain": [
       "0      red\n",
       "1    black\n",
       "2    white\n",
       "3      red\n",
       "4    brown\n",
       "5    black\n",
       "Name: haircolor, dtype: object"
      ]
     },
     "execution_count": 27,
     "metadata": {},
     "output_type": "execute_result"
    }
   ],
   "source": [
    "cat['haircolor'][0:6] "
   ]
  },
  {
   "cell_type": "markdown",
   "metadata": {
    "slideshow": {
     "slide_type": "-"
    }
   },
   "source": [
    "$\\rightarrow$ On accède aux 6 premières valeurs de la colonne \"haircolor\" (de l'élément 0 jusqu'à l'élément 6-1= 5)"
   ]
  },
  {
   "cell_type": "code",
   "execution_count": 28,
   "metadata": {
    "slideshow": {
     "slide_type": "-"
    }
   },
   "outputs": [
    {
     "data": {
      "text/plain": [
       "148    6.3\n",
       "149    5.2\n",
       "150    4.3\n",
       "151    3.8\n",
       "152    4.2\n",
       "Name: weight, dtype: float64"
      ]
     },
     "execution_count": 28,
     "metadata": {},
     "output_type": "execute_result"
    }
   ],
   "source": [
    "cat['weight'][148:] "
   ]
  },
  {
   "cell_type": "markdown",
   "metadata": {
    "slideshow": {
     "slide_type": "-"
    }
   },
   "source": [
    "$\\rightarrow$ On accède aux valeurs de la colonne \"weight\" à partir de l'indice 148 jusqu'à la fin (=152)"
   ]
  },
  {
   "cell_type": "markdown",
   "metadata": {
    "slideshow": {
     "slide_type": "slide"
    }
   },
   "source": [
    "## Trier des valeurs\n",
    "On peut trier les valeurs d'une colonne grâce à la fonction `sort_values()`. On rappelle que cette fonction trie par défaut dans l'ordre croissant."
   ]
  },
  {
   "cell_type": "code",
   "execution_count": 29,
   "metadata": {
    "slideshow": {
     "slide_type": "-"
    }
   },
   "outputs": [
    {
     "data": {
      "text/plain": [
       "135     2\n",
       "127     3\n",
       "65      3\n",
       "31      3\n",
       "38      3\n",
       "       ..\n",
       "0      12\n",
       "81     13\n",
       "136    17\n",
       "44     17\n",
       "58     17\n",
       "Name: age, Length: 153, dtype: int64"
      ]
     },
     "execution_count": 29,
     "metadata": {},
     "output_type": "execute_result"
    }
   ],
   "source": [
    "cat['age'].sort_values()"
   ]
  },
  {
   "cell_type": "markdown",
   "metadata": {
    "slideshow": {
     "slide_type": "-"
    }
   },
   "source": [
    "$\\rightarrow$ Le résultat signifie que la plus petite valeur de la variable 'age' est 2 (ans) et qu'elle correspond au chat n°135."
   ]
  },
  {
   "cell_type": "markdown",
   "metadata": {
    "slideshow": {
     "slide_type": "slide"
    }
   },
   "source": [
    "Le tri par ordre décroissant se fait en mettant la valeur de l'argument `ascending` à False dans la fonction `sort_values() `:"
   ]
  },
  {
   "cell_type": "code",
   "execution_count": 30,
   "metadata": {
    "slideshow": {
     "slide_type": "-"
    }
   },
   "outputs": [
    {
     "data": {
      "text/plain": [
       "58     17\n",
       "44     17\n",
       "136    17\n",
       "81     13\n",
       "0      12\n",
       "       ..\n",
       "38      3\n",
       "31      3\n",
       "65      3\n",
       "127     3\n",
       "135     2\n",
       "Name: age, Length: 153, dtype: int64"
      ]
     },
     "execution_count": 30,
     "metadata": {},
     "output_type": "execute_result"
    }
   ],
   "source": [
    "cat['age'].sort_values(ascending=False)"
   ]
  },
  {
   "cell_type": "markdown",
   "metadata": {
    "slideshow": {
     "slide_type": "-"
    }
   },
   "source": [
    "$\\rightarrow$ Le résultat signifie que la plus grande valeur de la variable 'age' est 17 (ans) et qu'elle correspond au chat n°58."
   ]
  },
  {
   "cell_type": "markdown",
   "metadata": {
    "slideshow": {
     "slide_type": "slide"
    }
   },
   "source": [
    "Si les valeurs à trier sont des chaînes de caractères (comme par exemple les valeurs prises par la variable \"hairpattern\" ici), le tri se fait sur l'ordre alphabétique en affichant les indices de ligne associés par ordre croissant :"
   ]
  },
  {
   "cell_type": "code",
   "execution_count": 31,
   "metadata": {
    "slideshow": {
     "slide_type": "-"
    }
   },
   "outputs": [
    {
     "data": {
      "text/plain": [
       "32     colorpoint\n",
       "22     colorpoint\n",
       "21     colorpoint\n",
       "44     colorpoint\n",
       "71     colorpoint\n",
       "          ...    \n",
       "111      tortoise\n",
       "112      tortoise\n",
       "118      tortoise\n",
       "139      tortoise\n",
       "152      tortoise\n",
       "Name: hairpattern, Length: 153, dtype: object"
      ]
     },
     "execution_count": 31,
     "metadata": {},
     "output_type": "execute_result"
    }
   ],
   "source": [
    "cat['hairpattern'].sort_values()"
   ]
  },
  {
   "cell_type": "markdown",
   "metadata": {
    "slideshow": {
     "slide_type": "slide"
    }
   },
   "source": [
    "Il est aussi possible d'obtenir les **indices** des valeurs triées avec la fonction `argsort()`"
   ]
  },
  {
   "cell_type": "code",
   "execution_count": 32,
   "metadata": {
    "slideshow": {
     "slide_type": "-"
    }
   },
   "outputs": [
    {
     "data": {
      "text/plain": [
       "0      135\n",
       "1      127\n",
       "2       65\n",
       "3       31\n",
       "4       38\n",
       "      ... \n",
       "148      0\n",
       "149     81\n",
       "150    136\n",
       "151     44\n",
       "152     58\n",
       "Name: age, Length: 153, dtype: int64"
      ]
     },
     "execution_count": 32,
     "metadata": {},
     "output_type": "execute_result"
    }
   ],
   "source": [
    "cat['age'].argsort()"
   ]
  },
  {
   "cell_type": "markdown",
   "metadata": {
    "slideshow": {
     "slide_type": "-"
    }
   },
   "source": [
    "$\\rightarrow$ Le résultat signifie que 135 est le numéro du chat portant la plus petite valeur de la variable \"age\", puis vient le n°127, etc. Ces résultats sont complètement cohérents avec ceux obtenus avec la fonction `sort_values()`"
   ]
  },
  {
   "cell_type": "markdown",
   "metadata": {
    "slideshow": {
     "slide_type": "slide"
    }
   },
   "source": [
    "La notion de tri peut-être généralisée au DataFrame entier grâce à l'argument `by` de la fonction `sort_values()` :"
   ]
  },
  {
   "cell_type": "code",
   "execution_count": 33,
   "metadata": {
    "slideshow": {
     "slide_type": "-"
    }
   },
   "outputs": [
    {
     "data": {
      "text/html": [
       "<div>\n",
       "<style scoped>\n",
       "    .dataframe tbody tr th:only-of-type {\n",
       "        vertical-align: middle;\n",
       "    }\n",
       "\n",
       "    .dataframe tbody tr th {\n",
       "        vertical-align: top;\n",
       "    }\n",
       "\n",
       "    .dataframe thead th {\n",
       "        text-align: right;\n",
       "    }\n",
       "</style>\n",
       "<table border=\"1\" class=\"dataframe\">\n",
       "  <thead>\n",
       "    <tr style=\"text-align: right;\">\n",
       "      <th></th>\n",
       "      <th>haircolor</th>\n",
       "      <th>hairpattern</th>\n",
       "      <th>sex</th>\n",
       "      <th>weight</th>\n",
       "      <th>age</th>\n",
       "      <th>foodtype</th>\n",
       "    </tr>\n",
       "  </thead>\n",
       "  <tbody>\n",
       "    <tr>\n",
       "      <th>135</th>\n",
       "      <td>white</td>\n",
       "      <td>tabby</td>\n",
       "      <td>male</td>\n",
       "      <td>5.1</td>\n",
       "      <td>2</td>\n",
       "      <td>dry</td>\n",
       "    </tr>\n",
       "    <tr>\n",
       "      <th>127</th>\n",
       "      <td>white</td>\n",
       "      <td>solid</td>\n",
       "      <td>male</td>\n",
       "      <td>2.5</td>\n",
       "      <td>3</td>\n",
       "      <td>wet</td>\n",
       "    </tr>\n",
       "    <tr>\n",
       "      <th>65</th>\n",
       "      <td>red</td>\n",
       "      <td>tabby</td>\n",
       "      <td>female</td>\n",
       "      <td>4.6</td>\n",
       "      <td>3</td>\n",
       "      <td>dry</td>\n",
       "    </tr>\n",
       "    <tr>\n",
       "      <th>31</th>\n",
       "      <td>brown</td>\n",
       "      <td>tipped</td>\n",
       "      <td>female</td>\n",
       "      <td>6.1</td>\n",
       "      <td>3</td>\n",
       "      <td>dry</td>\n",
       "    </tr>\n",
       "    <tr>\n",
       "      <th>38</th>\n",
       "      <td>black</td>\n",
       "      <td>tabby</td>\n",
       "      <td>male</td>\n",
       "      <td>3.5</td>\n",
       "      <td>3</td>\n",
       "      <td>dry</td>\n",
       "    </tr>\n",
       "    <tr>\n",
       "      <th>...</th>\n",
       "      <td>...</td>\n",
       "      <td>...</td>\n",
       "      <td>...</td>\n",
       "      <td>...</td>\n",
       "      <td>...</td>\n",
       "      <td>...</td>\n",
       "    </tr>\n",
       "    <tr>\n",
       "      <th>0</th>\n",
       "      <td>red</td>\n",
       "      <td>solid</td>\n",
       "      <td>female</td>\n",
       "      <td>4.6</td>\n",
       "      <td>12</td>\n",
       "      <td>other</td>\n",
       "    </tr>\n",
       "    <tr>\n",
       "      <th>81</th>\n",
       "      <td>red</td>\n",
       "      <td>tortoise</td>\n",
       "      <td>female</td>\n",
       "      <td>3.4</td>\n",
       "      <td>13</td>\n",
       "      <td>wet</td>\n",
       "    </tr>\n",
       "    <tr>\n",
       "      <th>136</th>\n",
       "      <td>black</td>\n",
       "      <td>solid</td>\n",
       "      <td>female</td>\n",
       "      <td>6.2</td>\n",
       "      <td>17</td>\n",
       "      <td>dry</td>\n",
       "    </tr>\n",
       "    <tr>\n",
       "      <th>44</th>\n",
       "      <td>red</td>\n",
       "      <td>colorpoint</td>\n",
       "      <td>male</td>\n",
       "      <td>5.9</td>\n",
       "      <td>17</td>\n",
       "      <td>wet</td>\n",
       "    </tr>\n",
       "    <tr>\n",
       "      <th>58</th>\n",
       "      <td>black</td>\n",
       "      <td>tabby</td>\n",
       "      <td>female</td>\n",
       "      <td>1.9</td>\n",
       "      <td>17</td>\n",
       "      <td>dry</td>\n",
       "    </tr>\n",
       "  </tbody>\n",
       "</table>\n",
       "<p>153 rows × 6 columns</p>\n",
       "</div>"
      ],
      "text/plain": [
       "    haircolor hairpattern     sex  weight  age foodtype\n",
       "135     white       tabby    male     5.1    2      dry\n",
       "127     white       solid    male     2.5    3      wet\n",
       "65        red       tabby  female     4.6    3      dry\n",
       "31      brown      tipped  female     6.1    3      dry\n",
       "38      black       tabby    male     3.5    3      dry\n",
       "..        ...         ...     ...     ...  ...      ...\n",
       "0         red       solid  female     4.6   12    other\n",
       "81        red    tortoise  female     3.4   13      wet\n",
       "136     black       solid  female     6.2   17      dry\n",
       "44        red  colorpoint    male     5.9   17      wet\n",
       "58      black       tabby  female     1.9   17      dry\n",
       "\n",
       "[153 rows x 6 columns]"
      ]
     },
     "execution_count": 33,
     "metadata": {},
     "output_type": "execute_result"
    }
   ],
   "source": [
    "cat.sort_values(by='age')"
   ]
  },
  {
   "cell_type": "markdown",
   "metadata": {
    "slideshow": {
     "slide_type": "-"
    }
   },
   "source": [
    "$\\rightarrow$ Ce résultat signifie que tout le DataFrame a été trié en fonction de la variable 'age' (on remarque en effet que les indices de ligne à gauche ne sont plus classés dans l'ordre croissant 0,1,2,3, ..., 152)"
   ]
  },
  {
   "cell_type": "code",
   "execution_count": 34,
   "metadata": {
    "slideshow": {
     "slide_type": "slide"
    }
   },
   "outputs": [
    {
     "data": {
      "text/html": [
       "<div>\n",
       "<style scoped>\n",
       "    .dataframe tbody tr th:only-of-type {\n",
       "        vertical-align: middle;\n",
       "    }\n",
       "\n",
       "    .dataframe tbody tr th {\n",
       "        vertical-align: top;\n",
       "    }\n",
       "\n",
       "    .dataframe thead th {\n",
       "        text-align: right;\n",
       "    }\n",
       "</style>\n",
       "<table border=\"1\" class=\"dataframe\">\n",
       "  <thead>\n",
       "    <tr style=\"text-align: right;\">\n",
       "      <th></th>\n",
       "      <th>haircolor</th>\n",
       "      <th>hairpattern</th>\n",
       "      <th>sex</th>\n",
       "      <th>weight</th>\n",
       "      <th>age</th>\n",
       "      <th>foodtype</th>\n",
       "    </tr>\n",
       "  </thead>\n",
       "  <tbody>\n",
       "    <tr>\n",
       "      <th>58</th>\n",
       "      <td>black</td>\n",
       "      <td>tabby</td>\n",
       "      <td>female</td>\n",
       "      <td>1.9</td>\n",
       "      <td>17</td>\n",
       "      <td>dry</td>\n",
       "    </tr>\n",
       "    <tr>\n",
       "      <th>44</th>\n",
       "      <td>red</td>\n",
       "      <td>colorpoint</td>\n",
       "      <td>male</td>\n",
       "      <td>5.9</td>\n",
       "      <td>17</td>\n",
       "      <td>wet</td>\n",
       "    </tr>\n",
       "    <tr>\n",
       "      <th>136</th>\n",
       "      <td>black</td>\n",
       "      <td>solid</td>\n",
       "      <td>female</td>\n",
       "      <td>6.2</td>\n",
       "      <td>17</td>\n",
       "      <td>dry</td>\n",
       "    </tr>\n",
       "    <tr>\n",
       "      <th>81</th>\n",
       "      <td>red</td>\n",
       "      <td>tortoise</td>\n",
       "      <td>female</td>\n",
       "      <td>3.4</td>\n",
       "      <td>13</td>\n",
       "      <td>wet</td>\n",
       "    </tr>\n",
       "    <tr>\n",
       "      <th>0</th>\n",
       "      <td>red</td>\n",
       "      <td>solid</td>\n",
       "      <td>female</td>\n",
       "      <td>4.6</td>\n",
       "      <td>12</td>\n",
       "      <td>other</td>\n",
       "    </tr>\n",
       "    <tr>\n",
       "      <th>...</th>\n",
       "      <td>...</td>\n",
       "      <td>...</td>\n",
       "      <td>...</td>\n",
       "      <td>...</td>\n",
       "      <td>...</td>\n",
       "      <td>...</td>\n",
       "    </tr>\n",
       "    <tr>\n",
       "      <th>101</th>\n",
       "      <td>black</td>\n",
       "      <td>tipped</td>\n",
       "      <td>female</td>\n",
       "      <td>6.7</td>\n",
       "      <td>3</td>\n",
       "      <td>dry</td>\n",
       "    </tr>\n",
       "    <tr>\n",
       "      <th>9</th>\n",
       "      <td>red</td>\n",
       "      <td>solid</td>\n",
       "      <td>female</td>\n",
       "      <td>2.3</td>\n",
       "      <td>3</td>\n",
       "      <td>dry</td>\n",
       "    </tr>\n",
       "    <tr>\n",
       "      <th>93</th>\n",
       "      <td>red</td>\n",
       "      <td>tabby</td>\n",
       "      <td>female</td>\n",
       "      <td>4.5</td>\n",
       "      <td>3</td>\n",
       "      <td>dry</td>\n",
       "    </tr>\n",
       "    <tr>\n",
       "      <th>65</th>\n",
       "      <td>red</td>\n",
       "      <td>tabby</td>\n",
       "      <td>female</td>\n",
       "      <td>4.6</td>\n",
       "      <td>3</td>\n",
       "      <td>dry</td>\n",
       "    </tr>\n",
       "    <tr>\n",
       "      <th>135</th>\n",
       "      <td>white</td>\n",
       "      <td>tabby</td>\n",
       "      <td>male</td>\n",
       "      <td>5.1</td>\n",
       "      <td>2</td>\n",
       "      <td>dry</td>\n",
       "    </tr>\n",
       "  </tbody>\n",
       "</table>\n",
       "<p>153 rows × 6 columns</p>\n",
       "</div>"
      ],
      "text/plain": [
       "    haircolor hairpattern     sex  weight  age foodtype\n",
       "58      black       tabby  female     1.9   17      dry\n",
       "44        red  colorpoint    male     5.9   17      wet\n",
       "136     black       solid  female     6.2   17      dry\n",
       "81        red    tortoise  female     3.4   13      wet\n",
       "0         red       solid  female     4.6   12    other\n",
       "..        ...         ...     ...     ...  ...      ...\n",
       "101     black      tipped  female     6.7    3      dry\n",
       "9         red       solid  female     2.3    3      dry\n",
       "93        red       tabby  female     4.5    3      dry\n",
       "65        red       tabby  female     4.6    3      dry\n",
       "135     white       tabby    male     5.1    2      dry\n",
       "\n",
       "[153 rows x 6 columns]"
      ]
     },
     "execution_count": 34,
     "metadata": {},
     "output_type": "execute_result"
    }
   ],
   "source": [
    "cat.sort_values(by='age', ascending=False)"
   ]
  },
  {
   "cell_type": "markdown",
   "metadata": {
    "slideshow": {
     "slide_type": "-"
    }
   },
   "source": [
    "$\\rightarrow$ Tout le DataFrame a été trié en fonction de la variable \"age\" par ordre *décroissant* (on a ici utilisé plusieurs arguments de la fonction `sort_values() `)"
   ]
  },
  {
   "cell_type": "markdown",
   "metadata": {
    "slideshow": {
     "slide_type": "slide"
    }
   },
   "source": [
    "## Accès indicé\n",
    "On peut accéder aux valeurs du DataFrame via des indices ou plages d'indice. La structure se comporte alors comme une matrice. La cellule en haut et à gauche du DataFrame est de coordonnées [0,0].\n",
    "\n",
    "Il y a différentes manières de faire un accès indicé, l'utilisation de `iloc[ , ]` constitue une des solutions les plus simples. "
   ]
  },
  {
   "cell_type": "code",
   "execution_count": 35,
   "metadata": {
    "slideshow": {
     "slide_type": "-"
    }
   },
   "outputs": [
    {
     "data": {
      "text/plain": [
       "'red'"
      ]
     },
     "execution_count": 35,
     "metadata": {},
     "output_type": "execute_result"
    }
   ],
   "source": [
    "cat.iloc[0,0]"
   ]
  },
  {
   "cell_type": "markdown",
   "metadata": {
    "slideshow": {
     "slide_type": "-"
    }
   },
   "source": [
    "$\\rightarrow$ On accède à la valeur du DataFrame située en [0,0], c'est à dire 'red'."
   ]
  },
  {
   "cell_type": "markdown",
   "metadata": {
    "slideshow": {
     "slide_type": "slide"
    }
   },
   "source": [
    "On peut faire un head() pour s'en convaincre :"
   ]
  },
  {
   "cell_type": "code",
   "execution_count": 36,
   "metadata": {
    "slideshow": {
     "slide_type": "-"
    }
   },
   "outputs": [
    {
     "data": {
      "text/html": [
       "<div>\n",
       "<style scoped>\n",
       "    .dataframe tbody tr th:only-of-type {\n",
       "        vertical-align: middle;\n",
       "    }\n",
       "\n",
       "    .dataframe tbody tr th {\n",
       "        vertical-align: top;\n",
       "    }\n",
       "\n",
       "    .dataframe thead th {\n",
       "        text-align: right;\n",
       "    }\n",
       "</style>\n",
       "<table border=\"1\" class=\"dataframe\">\n",
       "  <thead>\n",
       "    <tr style=\"text-align: right;\">\n",
       "      <th></th>\n",
       "      <th>haircolor</th>\n",
       "      <th>hairpattern</th>\n",
       "      <th>sex</th>\n",
       "      <th>weight</th>\n",
       "      <th>age</th>\n",
       "      <th>foodtype</th>\n",
       "    </tr>\n",
       "  </thead>\n",
       "  <tbody>\n",
       "    <tr>\n",
       "      <th>0</th>\n",
       "      <td>red</td>\n",
       "      <td>solid</td>\n",
       "      <td>female</td>\n",
       "      <td>4.6</td>\n",
       "      <td>12</td>\n",
       "      <td>other</td>\n",
       "    </tr>\n",
       "    <tr>\n",
       "      <th>1</th>\n",
       "      <td>black</td>\n",
       "      <td>tabby</td>\n",
       "      <td>female</td>\n",
       "      <td>5.5</td>\n",
       "      <td>6</td>\n",
       "      <td>dry</td>\n",
       "    </tr>\n",
       "    <tr>\n",
       "      <th>2</th>\n",
       "      <td>white</td>\n",
       "      <td>tabby</td>\n",
       "      <td>female</td>\n",
       "      <td>5.6</td>\n",
       "      <td>8</td>\n",
       "      <td>wet</td>\n",
       "    </tr>\n",
       "    <tr>\n",
       "      <th>3</th>\n",
       "      <td>red</td>\n",
       "      <td>tabby</td>\n",
       "      <td>female</td>\n",
       "      <td>6.1</td>\n",
       "      <td>5</td>\n",
       "      <td>dry</td>\n",
       "    </tr>\n",
       "    <tr>\n",
       "      <th>4</th>\n",
       "      <td>brown</td>\n",
       "      <td>solid</td>\n",
       "      <td>female</td>\n",
       "      <td>5.3</td>\n",
       "      <td>7</td>\n",
       "      <td>dry</td>\n",
       "    </tr>\n",
       "  </tbody>\n",
       "</table>\n",
       "</div>"
      ],
      "text/plain": [
       "  haircolor hairpattern     sex  weight  age foodtype\n",
       "0       red       solid  female     4.6   12    other\n",
       "1     black       tabby  female     5.5    6      dry\n",
       "2     white       tabby  female     5.6    8      wet\n",
       "3       red       tabby  female     6.1    5      dry\n",
       "4     brown       solid  female     5.3    7      dry"
      ]
     },
     "execution_count": 36,
     "metadata": {},
     "output_type": "execute_result"
    }
   ],
   "source": [
    "cat.head()"
   ]
  },
  {
   "cell_type": "code",
   "execution_count": 37,
   "metadata": {
    "slideshow": {
     "slide_type": "slide"
    }
   },
   "outputs": [
    {
     "data": {
      "text/plain": [
       "'black'"
      ]
     },
     "execution_count": 37,
     "metadata": {},
     "output_type": "execute_result"
    }
   ],
   "source": [
    "cat.iloc[-1,0]"
   ]
  },
  {
   "cell_type": "markdown",
   "metadata": {
    "slideshow": {
     "slide_type": "-"
    }
   },
   "source": [
    "$\\rightarrow$ On accède à la valeur du DataFrame située à la dernière ligne (rappel : l'indice -1 permet d'accéder au dernier élément d'un axe) et la première colonne, c'est à dire 'black'. \n",
    "\n",
    "On peut faire un `tail()` pour s'en convaincre :"
   ]
  },
  {
   "cell_type": "code",
   "execution_count": 38,
   "metadata": {
    "slideshow": {
     "slide_type": "-"
    }
   },
   "outputs": [
    {
     "data": {
      "text/html": [
       "<div>\n",
       "<style scoped>\n",
       "    .dataframe tbody tr th:only-of-type {\n",
       "        vertical-align: middle;\n",
       "    }\n",
       "\n",
       "    .dataframe tbody tr th {\n",
       "        vertical-align: top;\n",
       "    }\n",
       "\n",
       "    .dataframe thead th {\n",
       "        text-align: right;\n",
       "    }\n",
       "</style>\n",
       "<table border=\"1\" class=\"dataframe\">\n",
       "  <thead>\n",
       "    <tr style=\"text-align: right;\">\n",
       "      <th></th>\n",
       "      <th>haircolor</th>\n",
       "      <th>hairpattern</th>\n",
       "      <th>sex</th>\n",
       "      <th>weight</th>\n",
       "      <th>age</th>\n",
       "      <th>foodtype</th>\n",
       "    </tr>\n",
       "  </thead>\n",
       "  <tbody>\n",
       "    <tr>\n",
       "      <th>148</th>\n",
       "      <td>brown</td>\n",
       "      <td>tabby</td>\n",
       "      <td>female</td>\n",
       "      <td>6.3</td>\n",
       "      <td>3</td>\n",
       "      <td>dry</td>\n",
       "    </tr>\n",
       "    <tr>\n",
       "      <th>149</th>\n",
       "      <td>black</td>\n",
       "      <td>tabby</td>\n",
       "      <td>female</td>\n",
       "      <td>5.2</td>\n",
       "      <td>5</td>\n",
       "      <td>wet</td>\n",
       "    </tr>\n",
       "    <tr>\n",
       "      <th>150</th>\n",
       "      <td>brown</td>\n",
       "      <td>tabby</td>\n",
       "      <td>female</td>\n",
       "      <td>4.3</td>\n",
       "      <td>3</td>\n",
       "      <td>other</td>\n",
       "    </tr>\n",
       "    <tr>\n",
       "      <th>151</th>\n",
       "      <td>red</td>\n",
       "      <td>tabby</td>\n",
       "      <td>male</td>\n",
       "      <td>3.8</td>\n",
       "      <td>4</td>\n",
       "      <td>wet</td>\n",
       "    </tr>\n",
       "    <tr>\n",
       "      <th>152</th>\n",
       "      <td>black</td>\n",
       "      <td>tortoise</td>\n",
       "      <td>male</td>\n",
       "      <td>4.2</td>\n",
       "      <td>6</td>\n",
       "      <td>dry</td>\n",
       "    </tr>\n",
       "  </tbody>\n",
       "</table>\n",
       "</div>"
      ],
      "text/plain": [
       "    haircolor hairpattern     sex  weight  age foodtype\n",
       "148     brown       tabby  female     6.3    3      dry\n",
       "149     black       tabby  female     5.2    5      wet\n",
       "150     brown       tabby  female     4.3    3    other\n",
       "151       red       tabby    male     3.8    4      wet\n",
       "152     black    tortoise    male     4.2    6      dry"
      ]
     },
     "execution_count": 38,
     "metadata": {},
     "output_type": "execute_result"
    }
   ],
   "source": [
    "cat.tail()"
   ]
  },
  {
   "cell_type": "code",
   "execution_count": 39,
   "metadata": {
    "slideshow": {
     "slide_type": "slide"
    }
   },
   "outputs": [
    {
     "data": {
      "text/html": [
       "<div>\n",
       "<style scoped>\n",
       "    .dataframe tbody tr th:only-of-type {\n",
       "        vertical-align: middle;\n",
       "    }\n",
       "\n",
       "    .dataframe tbody tr th {\n",
       "        vertical-align: top;\n",
       "    }\n",
       "\n",
       "    .dataframe thead th {\n",
       "        text-align: right;\n",
       "    }\n",
       "</style>\n",
       "<table border=\"1\" class=\"dataframe\">\n",
       "  <thead>\n",
       "    <tr style=\"text-align: right;\">\n",
       "      <th></th>\n",
       "      <th>haircolor</th>\n",
       "      <th>hairpattern</th>\n",
       "      <th>sex</th>\n",
       "      <th>weight</th>\n",
       "      <th>age</th>\n",
       "      <th>foodtype</th>\n",
       "    </tr>\n",
       "  </thead>\n",
       "  <tbody>\n",
       "    <tr>\n",
       "      <th>0</th>\n",
       "      <td>red</td>\n",
       "      <td>solid</td>\n",
       "      <td>female</td>\n",
       "      <td>4.6</td>\n",
       "      <td>12</td>\n",
       "      <td>other</td>\n",
       "    </tr>\n",
       "    <tr>\n",
       "      <th>1</th>\n",
       "      <td>black</td>\n",
       "      <td>tabby</td>\n",
       "      <td>female</td>\n",
       "      <td>5.5</td>\n",
       "      <td>6</td>\n",
       "      <td>dry</td>\n",
       "    </tr>\n",
       "    <tr>\n",
       "      <th>2</th>\n",
       "      <td>white</td>\n",
       "      <td>tabby</td>\n",
       "      <td>female</td>\n",
       "      <td>5.6</td>\n",
       "      <td>8</td>\n",
       "      <td>wet</td>\n",
       "    </tr>\n",
       "    <tr>\n",
       "      <th>3</th>\n",
       "      <td>red</td>\n",
       "      <td>tabby</td>\n",
       "      <td>female</td>\n",
       "      <td>6.1</td>\n",
       "      <td>5</td>\n",
       "      <td>dry</td>\n",
       "    </tr>\n",
       "    <tr>\n",
       "      <th>4</th>\n",
       "      <td>brown</td>\n",
       "      <td>solid</td>\n",
       "      <td>female</td>\n",
       "      <td>5.3</td>\n",
       "      <td>7</td>\n",
       "      <td>dry</td>\n",
       "    </tr>\n",
       "    <tr>\n",
       "      <th>5</th>\n",
       "      <td>black</td>\n",
       "      <td>tabby</td>\n",
       "      <td>male</td>\n",
       "      <td>6.9</td>\n",
       "      <td>5</td>\n",
       "      <td>wet</td>\n",
       "    </tr>\n",
       "    <tr>\n",
       "      <th>6</th>\n",
       "      <td>brown</td>\n",
       "      <td>solid</td>\n",
       "      <td>male</td>\n",
       "      <td>6.3</td>\n",
       "      <td>5</td>\n",
       "      <td>dry</td>\n",
       "    </tr>\n",
       "  </tbody>\n",
       "</table>\n",
       "</div>"
      ],
      "text/plain": [
       "  haircolor hairpattern     sex  weight  age foodtype\n",
       "0       red       solid  female     4.6   12    other\n",
       "1     black       tabby  female     5.5    6      dry\n",
       "2     white       tabby  female     5.6    8      wet\n",
       "3       red       tabby  female     6.1    5      dry\n",
       "4     brown       solid  female     5.3    7      dry\n",
       "5     black       tabby    male     6.9    5      wet\n",
       "6     brown       solid    male     6.3    5      dry"
      ]
     },
     "execution_count": 39,
     "metadata": {},
     "output_type": "execute_result"
    }
   ],
   "source": [
    "cat.iloc[0:7,:]"
   ]
  },
  {
   "cell_type": "markdown",
   "metadata": {
    "slideshow": {
     "slide_type": "-"
    }
   },
   "source": [
    "$\\rightarrow$ On accède aux 7 premières lignes avec toutes les colonnes (lignes => 0:7 (0 à 7 [non inclus]), colonnes => : (toutes les colonnes))"
   ]
  },
  {
   "cell_type": "code",
   "execution_count": 40,
   "metadata": {
    "slideshow": {
     "slide_type": "slide"
    }
   },
   "outputs": [
    {
     "data": {
      "text/html": [
       "<div>\n",
       "<style scoped>\n",
       "    .dataframe tbody tr th:only-of-type {\n",
       "        vertical-align: middle;\n",
       "    }\n",
       "\n",
       "    .dataframe tbody tr th {\n",
       "        vertical-align: top;\n",
       "    }\n",
       "\n",
       "    .dataframe thead th {\n",
       "        text-align: right;\n",
       "    }\n",
       "</style>\n",
       "<table border=\"1\" class=\"dataframe\">\n",
       "  <thead>\n",
       "    <tr style=\"text-align: right;\">\n",
       "      <th></th>\n",
       "      <th>haircolor</th>\n",
       "      <th>hairpattern</th>\n",
       "      <th>sex</th>\n",
       "      <th>weight</th>\n",
       "      <th>age</th>\n",
       "      <th>foodtype</th>\n",
       "    </tr>\n",
       "  </thead>\n",
       "  <tbody>\n",
       "    <tr>\n",
       "      <th>149</th>\n",
       "      <td>black</td>\n",
       "      <td>tabby</td>\n",
       "      <td>female</td>\n",
       "      <td>5.2</td>\n",
       "      <td>5</td>\n",
       "      <td>wet</td>\n",
       "    </tr>\n",
       "    <tr>\n",
       "      <th>150</th>\n",
       "      <td>brown</td>\n",
       "      <td>tabby</td>\n",
       "      <td>female</td>\n",
       "      <td>4.3</td>\n",
       "      <td>3</td>\n",
       "      <td>other</td>\n",
       "    </tr>\n",
       "    <tr>\n",
       "      <th>151</th>\n",
       "      <td>red</td>\n",
       "      <td>tabby</td>\n",
       "      <td>male</td>\n",
       "      <td>3.8</td>\n",
       "      <td>4</td>\n",
       "      <td>wet</td>\n",
       "    </tr>\n",
       "    <tr>\n",
       "      <th>152</th>\n",
       "      <td>black</td>\n",
       "      <td>tortoise</td>\n",
       "      <td>male</td>\n",
       "      <td>4.2</td>\n",
       "      <td>6</td>\n",
       "      <td>dry</td>\n",
       "    </tr>\n",
       "  </tbody>\n",
       "</table>\n",
       "</div>"
      ],
      "text/plain": [
       "    haircolor hairpattern     sex  weight  age foodtype\n",
       "149     black       tabby  female     5.2    5      wet\n",
       "150     brown       tabby  female     4.3    3    other\n",
       "151       red       tabby    male     3.8    4      wet\n",
       "152     black    tortoise    male     4.2    6      dry"
      ]
     },
     "execution_count": 40,
     "metadata": {},
     "output_type": "execute_result"
    }
   ],
   "source": [
    "cat.iloc[-4:,:]"
   ]
  },
  {
   "cell_type": "markdown",
   "metadata": {
    "slideshow": {
     "slide_type": "-"
    }
   },
   "source": [
    "$\\rightarrow$ Avec l'indiçage négatif, on peut facilement accéder aux 4 dernières lignes (lignes => -4: (c.a.d. -4 avant la fin jusqu'à la fin))"
   ]
  },
  {
   "cell_type": "code",
   "execution_count": 41,
   "metadata": {
    "slideshow": {
     "slide_type": "slide"
    }
   },
   "outputs": [
    {
     "data": {
      "text/html": [
       "<div>\n",
       "<style scoped>\n",
       "    .dataframe tbody tr th:only-of-type {\n",
       "        vertical-align: middle;\n",
       "    }\n",
       "\n",
       "    .dataframe tbody tr th {\n",
       "        vertical-align: top;\n",
       "    }\n",
       "\n",
       "    .dataframe thead th {\n",
       "        text-align: right;\n",
       "    }\n",
       "</style>\n",
       "<table border=\"1\" class=\"dataframe\">\n",
       "  <thead>\n",
       "    <tr style=\"text-align: right;\">\n",
       "      <th></th>\n",
       "      <th>haircolor</th>\n",
       "      <th>hairpattern</th>\n",
       "    </tr>\n",
       "  </thead>\n",
       "  <tbody>\n",
       "    <tr>\n",
       "      <th>0</th>\n",
       "      <td>red</td>\n",
       "      <td>solid</td>\n",
       "    </tr>\n",
       "    <tr>\n",
       "      <th>1</th>\n",
       "      <td>black</td>\n",
       "      <td>tabby</td>\n",
       "    </tr>\n",
       "    <tr>\n",
       "      <th>2</th>\n",
       "      <td>white</td>\n",
       "      <td>tabby</td>\n",
       "    </tr>\n",
       "    <tr>\n",
       "      <th>3</th>\n",
       "      <td>red</td>\n",
       "      <td>tabby</td>\n",
       "    </tr>\n",
       "    <tr>\n",
       "      <th>4</th>\n",
       "      <td>brown</td>\n",
       "      <td>solid</td>\n",
       "    </tr>\n",
       "  </tbody>\n",
       "</table>\n",
       "</div>"
      ],
      "text/plain": [
       "  haircolor hairpattern\n",
       "0       red       solid\n",
       "1     black       tabby\n",
       "2     white       tabby\n",
       "3       red       tabby\n",
       "4     brown       solid"
      ]
     },
     "execution_count": 41,
     "metadata": {},
     "output_type": "execute_result"
    }
   ],
   "source": [
    "cat.iloc[0:5,0:2]"
   ]
  },
  {
   "cell_type": "markdown",
   "metadata": {
    "slideshow": {
     "slide_type": "-"
    }
   },
   "source": [
    "$\\rightarrow$ Accès aux 5 premières lignes et 2 premières colonnes. \n",
    "\n",
    "Cette opération est équivalente à celle-ci (mélange de l'accès par noms de colonne et par indices) :"
   ]
  },
  {
   "cell_type": "code",
   "execution_count": 42,
   "metadata": {
    "slideshow": {
     "slide_type": "-"
    }
   },
   "outputs": [
    {
     "data": {
      "text/html": [
       "<div>\n",
       "<style scoped>\n",
       "    .dataframe tbody tr th:only-of-type {\n",
       "        vertical-align: middle;\n",
       "    }\n",
       "\n",
       "    .dataframe tbody tr th {\n",
       "        vertical-align: top;\n",
       "    }\n",
       "\n",
       "    .dataframe thead th {\n",
       "        text-align: right;\n",
       "    }\n",
       "</style>\n",
       "<table border=\"1\" class=\"dataframe\">\n",
       "  <thead>\n",
       "    <tr style=\"text-align: right;\">\n",
       "      <th></th>\n",
       "      <th>haircolor</th>\n",
       "      <th>hairpattern</th>\n",
       "    </tr>\n",
       "  </thead>\n",
       "  <tbody>\n",
       "    <tr>\n",
       "      <th>0</th>\n",
       "      <td>red</td>\n",
       "      <td>solid</td>\n",
       "    </tr>\n",
       "    <tr>\n",
       "      <th>1</th>\n",
       "      <td>black</td>\n",
       "      <td>tabby</td>\n",
       "    </tr>\n",
       "    <tr>\n",
       "      <th>2</th>\n",
       "      <td>white</td>\n",
       "      <td>tabby</td>\n",
       "    </tr>\n",
       "    <tr>\n",
       "      <th>3</th>\n",
       "      <td>red</td>\n",
       "      <td>tabby</td>\n",
       "    </tr>\n",
       "    <tr>\n",
       "      <th>4</th>\n",
       "      <td>brown</td>\n",
       "      <td>solid</td>\n",
       "    </tr>\n",
       "  </tbody>\n",
       "</table>\n",
       "</div>"
      ],
      "text/plain": [
       "  haircolor hairpattern\n",
       "0       red       solid\n",
       "1     black       tabby\n",
       "2     white       tabby\n",
       "3       red       tabby\n",
       "4     brown       solid"
      ]
     },
     "execution_count": 42,
     "metadata": {},
     "output_type": "execute_result"
    }
   ],
   "source": [
    "cat[['haircolor','hairpattern']].iloc[0:5,:]"
   ]
  },
  {
   "cell_type": "markdown",
   "metadata": {
    "slideshow": {
     "slide_type": "slide"
    }
   },
   "source": [
    "ou encore à celle-ci :"
   ]
  },
  {
   "cell_type": "code",
   "execution_count": 43,
   "metadata": {
    "slideshow": {
     "slide_type": "-"
    }
   },
   "outputs": [
    {
     "data": {
      "text/html": [
       "<div>\n",
       "<style scoped>\n",
       "    .dataframe tbody tr th:only-of-type {\n",
       "        vertical-align: middle;\n",
       "    }\n",
       "\n",
       "    .dataframe tbody tr th {\n",
       "        vertical-align: top;\n",
       "    }\n",
       "\n",
       "    .dataframe thead th {\n",
       "        text-align: right;\n",
       "    }\n",
       "</style>\n",
       "<table border=\"1\" class=\"dataframe\">\n",
       "  <thead>\n",
       "    <tr style=\"text-align: right;\">\n",
       "      <th></th>\n",
       "      <th>haircolor</th>\n",
       "      <th>hairpattern</th>\n",
       "    </tr>\n",
       "  </thead>\n",
       "  <tbody>\n",
       "    <tr>\n",
       "      <th>0</th>\n",
       "      <td>red</td>\n",
       "      <td>solid</td>\n",
       "    </tr>\n",
       "    <tr>\n",
       "      <th>1</th>\n",
       "      <td>black</td>\n",
       "      <td>tabby</td>\n",
       "    </tr>\n",
       "    <tr>\n",
       "      <th>2</th>\n",
       "      <td>white</td>\n",
       "      <td>tabby</td>\n",
       "    </tr>\n",
       "    <tr>\n",
       "      <th>3</th>\n",
       "      <td>red</td>\n",
       "      <td>tabby</td>\n",
       "    </tr>\n",
       "    <tr>\n",
       "      <th>4</th>\n",
       "      <td>brown</td>\n",
       "      <td>solid</td>\n",
       "    </tr>\n",
       "  </tbody>\n",
       "</table>\n",
       "</div>"
      ],
      "text/plain": [
       "  haircolor hairpattern\n",
       "0       red       solid\n",
       "1     black       tabby\n",
       "2     white       tabby\n",
       "3       red       tabby\n",
       "4     brown       solid"
      ]
     },
     "execution_count": 43,
     "metadata": {},
     "output_type": "execute_result"
    }
   ],
   "source": [
    "cat[['haircolor','hairpattern']][0:5]"
   ]
  },
  {
   "cell_type": "markdown",
   "metadata": {
    "slideshow": {
     "slide_type": "-"
    }
   },
   "source": [
    "$\\underline{Remarque}$ : Dans les deux cas on constate que lorsqu'au moins deux noms de variables sont donnés (comme ici 'haircolor' et 'hairpattern'), il faut les donner dans une **liste** : `['haircolor','hairpattern']`"
   ]
  },
  {
   "cell_type": "code",
   "execution_count": 44,
   "metadata": {
    "slideshow": {
     "slide_type": "slide"
    }
   },
   "outputs": [
    {
     "data": {
      "text/html": [
       "<div>\n",
       "<style scoped>\n",
       "    .dataframe tbody tr th:only-of-type {\n",
       "        vertical-align: middle;\n",
       "    }\n",
       "\n",
       "    .dataframe tbody tr th {\n",
       "        vertical-align: top;\n",
       "    }\n",
       "\n",
       "    .dataframe thead th {\n",
       "        text-align: right;\n",
       "    }\n",
       "</style>\n",
       "<table border=\"1\" class=\"dataframe\">\n",
       "  <thead>\n",
       "    <tr style=\"text-align: right;\">\n",
       "      <th></th>\n",
       "      <th>hairpattern</th>\n",
       "      <th>weight</th>\n",
       "      <th>foodtype</th>\n",
       "    </tr>\n",
       "  </thead>\n",
       "  <tbody>\n",
       "    <tr>\n",
       "      <th>0</th>\n",
       "      <td>solid</td>\n",
       "      <td>4.6</td>\n",
       "      <td>other</td>\n",
       "    </tr>\n",
       "    <tr>\n",
       "      <th>1</th>\n",
       "      <td>tabby</td>\n",
       "      <td>5.5</td>\n",
       "      <td>dry</td>\n",
       "    </tr>\n",
       "    <tr>\n",
       "      <th>2</th>\n",
       "      <td>tabby</td>\n",
       "      <td>5.6</td>\n",
       "      <td>wet</td>\n",
       "    </tr>\n",
       "    <tr>\n",
       "      <th>3</th>\n",
       "      <td>tabby</td>\n",
       "      <td>6.1</td>\n",
       "      <td>dry</td>\n",
       "    </tr>\n",
       "    <tr>\n",
       "      <th>4</th>\n",
       "      <td>solid</td>\n",
       "      <td>5.3</td>\n",
       "      <td>dry</td>\n",
       "    </tr>\n",
       "  </tbody>\n",
       "</table>\n",
       "</div>"
      ],
      "text/plain": [
       "  hairpattern  weight foodtype\n",
       "0       solid     4.6    other\n",
       "1       tabby     5.5      dry\n",
       "2       tabby     5.6      wet\n",
       "3       tabby     6.1      dry\n",
       "4       solid     5.3      dry"
      ]
     },
     "execution_count": 44,
     "metadata": {},
     "output_type": "execute_result"
    }
   ],
   "source": [
    "cat.iloc[0:5,[1,3,5]]"
   ]
  },
  {
   "cell_type": "markdown",
   "metadata": {
    "slideshow": {
     "slide_type": "-"
    }
   },
   "source": [
    "$\\rightarrow$ Accès aux 5 premières lignes et aux colonnes 1 (\"Hairpattern\"), 3 (\"Weight\") et 5 (\"Foodtype\") (on a donné une **liste** d'indices en colonne). "
   ]
  },
  {
   "cell_type": "code",
   "execution_count": 45,
   "metadata": {
    "slideshow": {
     "slide_type": "slide"
    }
   },
   "outputs": [
    {
     "data": {
      "text/html": [
       "<div>\n",
       "<style scoped>\n",
       "    .dataframe tbody tr th:only-of-type {\n",
       "        vertical-align: middle;\n",
       "    }\n",
       "\n",
       "    .dataframe tbody tr th {\n",
       "        vertical-align: top;\n",
       "    }\n",
       "\n",
       "    .dataframe thead th {\n",
       "        text-align: right;\n",
       "    }\n",
       "</style>\n",
       "<table border=\"1\" class=\"dataframe\">\n",
       "  <thead>\n",
       "    <tr style=\"text-align: right;\">\n",
       "      <th></th>\n",
       "      <th>hairpattern</th>\n",
       "      <th>weight</th>\n",
       "      <th>foodtype</th>\n",
       "    </tr>\n",
       "  </thead>\n",
       "  <tbody>\n",
       "    <tr>\n",
       "      <th>0</th>\n",
       "      <td>solid</td>\n",
       "      <td>4.6</td>\n",
       "      <td>other</td>\n",
       "    </tr>\n",
       "    <tr>\n",
       "      <th>1</th>\n",
       "      <td>tabby</td>\n",
       "      <td>5.5</td>\n",
       "      <td>dry</td>\n",
       "    </tr>\n",
       "    <tr>\n",
       "      <th>2</th>\n",
       "      <td>tabby</td>\n",
       "      <td>5.6</td>\n",
       "      <td>wet</td>\n",
       "    </tr>\n",
       "    <tr>\n",
       "      <th>3</th>\n",
       "      <td>tabby</td>\n",
       "      <td>6.1</td>\n",
       "      <td>dry</td>\n",
       "    </tr>\n",
       "    <tr>\n",
       "      <th>4</th>\n",
       "      <td>solid</td>\n",
       "      <td>5.3</td>\n",
       "      <td>dry</td>\n",
       "    </tr>\n",
       "  </tbody>\n",
       "</table>\n",
       "</div>"
      ],
      "text/plain": [
       "  hairpattern  weight foodtype\n",
       "0       solid     4.6    other\n",
       "1       tabby     5.5      dry\n",
       "2       tabby     5.6      wet\n",
       "3       tabby     6.1      dry\n",
       "4       solid     5.3      dry"
      ]
     },
     "execution_count": 45,
     "metadata": {},
     "output_type": "execute_result"
    }
   ],
   "source": [
    "cat.iloc[0:5,1:6:2]"
   ]
  },
  {
   "cell_type": "markdown",
   "metadata": {
    "slideshow": {
     "slide_type": "-"
    }
   },
   "source": [
    "$\\rightarrow$ On obtient exactement le même résultat que précédemment mais cette fois-ci au lieu de donner une liste d'indices en colonne on donne un *range* : on va de la colonne 1 à la colonne 6-1 par pas de 2. Ce qui donne bien les colonnes : 1, 3 et 5."
   ]
  },
  {
   "cell_type": "markdown",
   "metadata": {
    "slideshow": {
     "slide_type": "slide"
    }
   },
   "source": [
    "## Les requêtes (restrictions avec des conditions)\n",
    "Il est possible d'isoler les sous-ensembles d'observations répondant à des critères définis sur les variables. \n",
    "\n",
    "Pour cela on utilisera la méthode `loc[ , ]`."
   ]
  },
  {
   "cell_type": "code",
   "execution_count": 46,
   "metadata": {
    "slideshow": {
     "slide_type": "slide"
    }
   },
   "outputs": [
    {
     "data": {
      "text/html": [
       "<div>\n",
       "<style scoped>\n",
       "    .dataframe tbody tr th:only-of-type {\n",
       "        vertical-align: middle;\n",
       "    }\n",
       "\n",
       "    .dataframe tbody tr th {\n",
       "        vertical-align: top;\n",
       "    }\n",
       "\n",
       "    .dataframe thead th {\n",
       "        text-align: right;\n",
       "    }\n",
       "</style>\n",
       "<table border=\"1\" class=\"dataframe\">\n",
       "  <thead>\n",
       "    <tr style=\"text-align: right;\">\n",
       "      <th></th>\n",
       "      <th>haircolor</th>\n",
       "      <th>hairpattern</th>\n",
       "      <th>sex</th>\n",
       "      <th>weight</th>\n",
       "      <th>age</th>\n",
       "      <th>foodtype</th>\n",
       "    </tr>\n",
       "  </thead>\n",
       "  <tbody>\n",
       "    <tr>\n",
       "      <th>0</th>\n",
       "      <td>red</td>\n",
       "      <td>solid</td>\n",
       "      <td>female</td>\n",
       "      <td>4.6</td>\n",
       "      <td>12</td>\n",
       "      <td>other</td>\n",
       "    </tr>\n",
       "    <tr>\n",
       "      <th>4</th>\n",
       "      <td>brown</td>\n",
       "      <td>solid</td>\n",
       "      <td>female</td>\n",
       "      <td>5.3</td>\n",
       "      <td>7</td>\n",
       "      <td>dry</td>\n",
       "    </tr>\n",
       "    <tr>\n",
       "      <th>6</th>\n",
       "      <td>brown</td>\n",
       "      <td>solid</td>\n",
       "      <td>male</td>\n",
       "      <td>6.3</td>\n",
       "      <td>5</td>\n",
       "      <td>dry</td>\n",
       "    </tr>\n",
       "    <tr>\n",
       "      <th>9</th>\n",
       "      <td>red</td>\n",
       "      <td>solid</td>\n",
       "      <td>female</td>\n",
       "      <td>2.3</td>\n",
       "      <td>3</td>\n",
       "      <td>dry</td>\n",
       "    </tr>\n",
       "    <tr>\n",
       "      <th>11</th>\n",
       "      <td>black</td>\n",
       "      <td>solid</td>\n",
       "      <td>female</td>\n",
       "      <td>6.7</td>\n",
       "      <td>5</td>\n",
       "      <td>dry</td>\n",
       "    </tr>\n",
       "    <tr>\n",
       "      <th>...</th>\n",
       "      <td>...</td>\n",
       "      <td>...</td>\n",
       "      <td>...</td>\n",
       "      <td>...</td>\n",
       "      <td>...</td>\n",
       "      <td>...</td>\n",
       "    </tr>\n",
       "    <tr>\n",
       "      <th>127</th>\n",
       "      <td>white</td>\n",
       "      <td>solid</td>\n",
       "      <td>male</td>\n",
       "      <td>2.5</td>\n",
       "      <td>3</td>\n",
       "      <td>wet</td>\n",
       "    </tr>\n",
       "    <tr>\n",
       "      <th>134</th>\n",
       "      <td>white</td>\n",
       "      <td>solid</td>\n",
       "      <td>female</td>\n",
       "      <td>4.8</td>\n",
       "      <td>7</td>\n",
       "      <td>dry</td>\n",
       "    </tr>\n",
       "    <tr>\n",
       "      <th>136</th>\n",
       "      <td>black</td>\n",
       "      <td>solid</td>\n",
       "      <td>female</td>\n",
       "      <td>6.2</td>\n",
       "      <td>17</td>\n",
       "      <td>dry</td>\n",
       "    </tr>\n",
       "    <tr>\n",
       "      <th>138</th>\n",
       "      <td>red</td>\n",
       "      <td>solid</td>\n",
       "      <td>female</td>\n",
       "      <td>4.5</td>\n",
       "      <td>5</td>\n",
       "      <td>wet</td>\n",
       "    </tr>\n",
       "    <tr>\n",
       "      <th>141</th>\n",
       "      <td>white</td>\n",
       "      <td>solid</td>\n",
       "      <td>female</td>\n",
       "      <td>4.7</td>\n",
       "      <td>9</td>\n",
       "      <td>dry</td>\n",
       "    </tr>\n",
       "  </tbody>\n",
       "</table>\n",
       "<p>34 rows × 6 columns</p>\n",
       "</div>"
      ],
      "text/plain": [
       "    haircolor hairpattern     sex  weight  age foodtype\n",
       "0         red       solid  female     4.6   12    other\n",
       "4       brown       solid  female     5.3    7      dry\n",
       "6       brown       solid    male     6.3    5      dry\n",
       "9         red       solid  female     2.3    3      dry\n",
       "11      black       solid  female     6.7    5      dry\n",
       "..        ...         ...     ...     ...  ...      ...\n",
       "127     white       solid    male     2.5    3      wet\n",
       "134     white       solid  female     4.8    7      dry\n",
       "136     black       solid  female     6.2   17      dry\n",
       "138       red       solid  female     4.5    5      wet\n",
       "141     white       solid  female     4.7    9      dry\n",
       "\n",
       "[34 rows x 6 columns]"
      ]
     },
     "execution_count": 46,
     "metadata": {},
     "output_type": "execute_result"
    }
   ],
   "source": [
    "cat.loc[cat['hairpattern']=='solid',:]"
   ]
  },
  {
   "cell_type": "markdown",
   "metadata": {
    "slideshow": {
     "slide_type": "-"
    }
   },
   "source": [
    "$\\rightarrow$ On n'affiche que les lignes du DataFrame pour lesquelles la variable \"Hairpattern\" vaut \"solid\". On constate qu'il y a 34 lignes qui vérifient cette condition, autrement dit parmi les 153 chats observés il y en a 34 qui ont la robe de type \"solid\"."
   ]
  },
  {
   "cell_type": "markdown",
   "metadata": {
    "slideshow": {
     "slide_type": "slide"
    }
   },
   "source": [
    "Si on regarde dans le détail, on oberve que l'on indexe en réalité le DataFrame global avec un vecteur de booléens défini à partir de la condition :"
   ]
  },
  {
   "cell_type": "code",
   "execution_count": 47,
   "metadata": {
    "slideshow": {
     "slide_type": "-"
    }
   },
   "outputs": [
    {
     "data": {
      "text/plain": [
       "0       True\n",
       "1      False\n",
       "2      False\n",
       "3      False\n",
       "4       True\n",
       "       ...  \n",
       "148    False\n",
       "149    False\n",
       "150    False\n",
       "151    False\n",
       "152    False\n",
       "Name: hairpattern, Length: 153, dtype: bool"
      ]
     },
     "execution_count": 47,
     "metadata": {},
     "output_type": "execute_result"
    }
   ],
   "source": [
    "cat['hairpattern']=='solid'"
   ]
  },
  {
   "cell_type": "markdown",
   "metadata": {
    "slideshow": {
     "slide_type": "-"
    }
   },
   "source": [
    "Seules les observations correspondant à True sont reprises par `loc[ , ]`."
   ]
  },
  {
   "cell_type": "markdown",
   "metadata": {
    "slideshow": {
     "slide_type": "slide"
    }
   },
   "source": [
    "Il est possible de dénombrer les observations correspondant à True et False avec la fonction `value_counts()` vue précédemment :"
   ]
  },
  {
   "cell_type": "code",
   "execution_count": 48,
   "metadata": {
    "slideshow": {
     "slide_type": "-"
    }
   },
   "outputs": [
    {
     "data": {
      "text/plain": [
       "False    119\n",
       "True      34\n",
       "Name: hairpattern, dtype: int64"
      ]
     },
     "execution_count": 48,
     "metadata": {},
     "output_type": "execute_result"
    }
   ],
   "source": [
    "(cat['hairpattern']=='solid').value_counts()"
   ]
  },
  {
   "cell_type": "markdown",
   "metadata": {
    "slideshow": {
     "slide_type": "-"
    }
   },
   "source": [
    "$\\rightarrow$ Il y a 119 chats qui n'ont pas une robe de type \"solid\" et 34 chats qui ont une robe de type \"solid\"."
   ]
  },
  {
   "cell_type": "markdown",
   "metadata": {
    "slideshow": {
     "slide_type": "slide"
    }
   },
   "source": [
    "$\\underline{Remarque}$ : attention, il faut des parenthèses ici de part et d'autre de la condition. Sinon la fonction value_counts() est appliquée à la chaîne de caractères \"solid\", ce qui n'a pas de sens :"
   ]
  },
  {
   "cell_type": "code",
   "execution_count": 49,
   "metadata": {
    "slideshow": {
     "slide_type": "-"
    }
   },
   "outputs": [
    {
     "ename": "AttributeError",
     "evalue": "'str' object has no attribute 'value_counts'",
     "output_type": "error",
     "traceback": [
      "\u001b[0;31m---------------------------------------------------------------------------\u001b[0m",
      "\u001b[0;31mAttributeError\u001b[0m                            Traceback (most recent call last)",
      "\u001b[0;32m<ipython-input-49-138e1ee674b5>\u001b[0m in \u001b[0;36m<module>\u001b[0;34m\u001b[0m\n\u001b[0;32m----> 1\u001b[0;31m \u001b[0mcat\u001b[0m\u001b[0;34m[\u001b[0m\u001b[0;34m'hairpattern'\u001b[0m\u001b[0;34m]\u001b[0m\u001b[0;34m==\u001b[0m\u001b[0;34m'solid'\u001b[0m\u001b[0;34m.\u001b[0m\u001b[0mvalue_counts\u001b[0m\u001b[0;34m(\u001b[0m\u001b[0;34m)\u001b[0m\u001b[0;34m\u001b[0m\u001b[0;34m\u001b[0m\u001b[0m\n\u001b[0m",
      "\u001b[0;31mAttributeError\u001b[0m: 'str' object has no attribute 'value_counts'"
     ]
    }
   ],
   "source": [
    "cat['hairpattern']=='solid'.value_counts()"
   ]
  },
  {
   "cell_type": "markdown",
   "metadata": {
    "slideshow": {
     "slide_type": "slide"
    }
   },
   "source": [
    "Il est également possible de donner une restriction à plusieurs valeurs d'une même variable. Pour cela on utilise la fonction `isin()` dans laquelle on donne la liste des valeurs souhaitées :"
   ]
  },
  {
   "cell_type": "code",
   "execution_count": 50,
   "metadata": {
    "slideshow": {
     "slide_type": "-"
    }
   },
   "outputs": [
    {
     "data": {
      "text/html": [
       "<div>\n",
       "<style scoped>\n",
       "    .dataframe tbody tr th:only-of-type {\n",
       "        vertical-align: middle;\n",
       "    }\n",
       "\n",
       "    .dataframe tbody tr th {\n",
       "        vertical-align: top;\n",
       "    }\n",
       "\n",
       "    .dataframe thead th {\n",
       "        text-align: right;\n",
       "    }\n",
       "</style>\n",
       "<table border=\"1\" class=\"dataframe\">\n",
       "  <thead>\n",
       "    <tr style=\"text-align: right;\">\n",
       "      <th></th>\n",
       "      <th>haircolor</th>\n",
       "      <th>hairpattern</th>\n",
       "      <th>sex</th>\n",
       "      <th>weight</th>\n",
       "      <th>age</th>\n",
       "      <th>foodtype</th>\n",
       "    </tr>\n",
       "  </thead>\n",
       "  <tbody>\n",
       "    <tr>\n",
       "      <th>0</th>\n",
       "      <td>red</td>\n",
       "      <td>solid</td>\n",
       "      <td>female</td>\n",
       "      <td>4.6</td>\n",
       "      <td>12</td>\n",
       "      <td>other</td>\n",
       "    </tr>\n",
       "    <tr>\n",
       "      <th>1</th>\n",
       "      <td>black</td>\n",
       "      <td>tabby</td>\n",
       "      <td>female</td>\n",
       "      <td>5.5</td>\n",
       "      <td>6</td>\n",
       "      <td>dry</td>\n",
       "    </tr>\n",
       "    <tr>\n",
       "      <th>2</th>\n",
       "      <td>white</td>\n",
       "      <td>tabby</td>\n",
       "      <td>female</td>\n",
       "      <td>5.6</td>\n",
       "      <td>8</td>\n",
       "      <td>wet</td>\n",
       "    </tr>\n",
       "    <tr>\n",
       "      <th>3</th>\n",
       "      <td>red</td>\n",
       "      <td>tabby</td>\n",
       "      <td>female</td>\n",
       "      <td>6.1</td>\n",
       "      <td>5</td>\n",
       "      <td>dry</td>\n",
       "    </tr>\n",
       "    <tr>\n",
       "      <th>4</th>\n",
       "      <td>brown</td>\n",
       "      <td>solid</td>\n",
       "      <td>female</td>\n",
       "      <td>5.3</td>\n",
       "      <td>7</td>\n",
       "      <td>dry</td>\n",
       "    </tr>\n",
       "    <tr>\n",
       "      <th>...</th>\n",
       "      <td>...</td>\n",
       "      <td>...</td>\n",
       "      <td>...</td>\n",
       "      <td>...</td>\n",
       "      <td>...</td>\n",
       "      <td>...</td>\n",
       "    </tr>\n",
       "    <tr>\n",
       "      <th>147</th>\n",
       "      <td>black</td>\n",
       "      <td>tabby</td>\n",
       "      <td>female</td>\n",
       "      <td>4.1</td>\n",
       "      <td>3</td>\n",
       "      <td>wet</td>\n",
       "    </tr>\n",
       "    <tr>\n",
       "      <th>148</th>\n",
       "      <td>brown</td>\n",
       "      <td>tabby</td>\n",
       "      <td>female</td>\n",
       "      <td>6.3</td>\n",
       "      <td>3</td>\n",
       "      <td>dry</td>\n",
       "    </tr>\n",
       "    <tr>\n",
       "      <th>149</th>\n",
       "      <td>black</td>\n",
       "      <td>tabby</td>\n",
       "      <td>female</td>\n",
       "      <td>5.2</td>\n",
       "      <td>5</td>\n",
       "      <td>wet</td>\n",
       "    </tr>\n",
       "    <tr>\n",
       "      <th>150</th>\n",
       "      <td>brown</td>\n",
       "      <td>tabby</td>\n",
       "      <td>female</td>\n",
       "      <td>4.3</td>\n",
       "      <td>3</td>\n",
       "      <td>other</td>\n",
       "    </tr>\n",
       "    <tr>\n",
       "      <th>151</th>\n",
       "      <td>red</td>\n",
       "      <td>tabby</td>\n",
       "      <td>male</td>\n",
       "      <td>3.8</td>\n",
       "      <td>4</td>\n",
       "      <td>wet</td>\n",
       "    </tr>\n",
       "  </tbody>\n",
       "</table>\n",
       "<p>94 rows × 6 columns</p>\n",
       "</div>"
      ],
      "text/plain": [
       "    haircolor hairpattern     sex  weight  age foodtype\n",
       "0         red       solid  female     4.6   12    other\n",
       "1       black       tabby  female     5.5    6      dry\n",
       "2       white       tabby  female     5.6    8      wet\n",
       "3         red       tabby  female     6.1    5      dry\n",
       "4       brown       solid  female     5.3    7      dry\n",
       "..        ...         ...     ...     ...  ...      ...\n",
       "147     black       tabby  female     4.1    3      wet\n",
       "148     brown       tabby  female     6.3    3      dry\n",
       "149     black       tabby  female     5.2    5      wet\n",
       "150     brown       tabby  female     4.3    3    other\n",
       "151       red       tabby    male     3.8    4      wet\n",
       "\n",
       "[94 rows x 6 columns]"
      ]
     },
     "execution_count": 50,
     "metadata": {},
     "output_type": "execute_result"
    }
   ],
   "source": [
    "cat.loc[cat['hairpattern'].isin(['solid','tabby']),:]"
   ]
  },
  {
   "cell_type": "markdown",
   "metadata": {
    "slideshow": {
     "slide_type": "-"
    }
   },
   "source": [
    "$\\rightarrow$ On ne garde ici que les chats ayant une robe de type \"solid\" et \"tabby\" : on autorise 2 valeurs possibles pour la variable \"hairpattern\". Il y a 94 individus sur 153 dans ce cas."
   ]
  },
  {
   "cell_type": "markdown",
   "metadata": {
    "slideshow": {
     "slide_type": "slide"
    }
   },
   "source": [
    "Il est possible de combiner les conditions grâce aux opérateurs logiques : \n",
    "* & : et\n",
    "* | : ou\n",
    "* ~ : négation"
   ]
  },
  {
   "cell_type": "code",
   "execution_count": 51,
   "metadata": {
    "slideshow": {
     "slide_type": "-"
    }
   },
   "outputs": [
    {
     "data": {
      "text/html": [
       "<div>\n",
       "<style scoped>\n",
       "    .dataframe tbody tr th:only-of-type {\n",
       "        vertical-align: middle;\n",
       "    }\n",
       "\n",
       "    .dataframe tbody tr th {\n",
       "        vertical-align: top;\n",
       "    }\n",
       "\n",
       "    .dataframe thead th {\n",
       "        text-align: right;\n",
       "    }\n",
       "</style>\n",
       "<table border=\"1\" class=\"dataframe\">\n",
       "  <thead>\n",
       "    <tr style=\"text-align: right;\">\n",
       "      <th></th>\n",
       "      <th>haircolor</th>\n",
       "      <th>hairpattern</th>\n",
       "      <th>sex</th>\n",
       "      <th>weight</th>\n",
       "      <th>age</th>\n",
       "      <th>foodtype</th>\n",
       "    </tr>\n",
       "  </thead>\n",
       "  <tbody>\n",
       "    <tr>\n",
       "      <th>0</th>\n",
       "      <td>red</td>\n",
       "      <td>solid</td>\n",
       "      <td>female</td>\n",
       "      <td>4.6</td>\n",
       "      <td>12</td>\n",
       "      <td>other</td>\n",
       "    </tr>\n",
       "    <tr>\n",
       "      <th>4</th>\n",
       "      <td>brown</td>\n",
       "      <td>solid</td>\n",
       "      <td>female</td>\n",
       "      <td>5.3</td>\n",
       "      <td>7</td>\n",
       "      <td>dry</td>\n",
       "    </tr>\n",
       "    <tr>\n",
       "      <th>9</th>\n",
       "      <td>red</td>\n",
       "      <td>solid</td>\n",
       "      <td>female</td>\n",
       "      <td>2.3</td>\n",
       "      <td>3</td>\n",
       "      <td>dry</td>\n",
       "    </tr>\n",
       "    <tr>\n",
       "      <th>11</th>\n",
       "      <td>black</td>\n",
       "      <td>solid</td>\n",
       "      <td>female</td>\n",
       "      <td>6.7</td>\n",
       "      <td>5</td>\n",
       "      <td>dry</td>\n",
       "    </tr>\n",
       "    <tr>\n",
       "      <th>33</th>\n",
       "      <td>white</td>\n",
       "      <td>solid</td>\n",
       "      <td>female</td>\n",
       "      <td>6.0</td>\n",
       "      <td>5</td>\n",
       "      <td>dry</td>\n",
       "    </tr>\n",
       "    <tr>\n",
       "      <th>...</th>\n",
       "      <td>...</td>\n",
       "      <td>...</td>\n",
       "      <td>...</td>\n",
       "      <td>...</td>\n",
       "      <td>...</td>\n",
       "      <td>...</td>\n",
       "    </tr>\n",
       "    <tr>\n",
       "      <th>115</th>\n",
       "      <td>black</td>\n",
       "      <td>solid</td>\n",
       "      <td>female</td>\n",
       "      <td>5.3</td>\n",
       "      <td>3</td>\n",
       "      <td>dry</td>\n",
       "    </tr>\n",
       "    <tr>\n",
       "      <th>134</th>\n",
       "      <td>white</td>\n",
       "      <td>solid</td>\n",
       "      <td>female</td>\n",
       "      <td>4.8</td>\n",
       "      <td>7</td>\n",
       "      <td>dry</td>\n",
       "    </tr>\n",
       "    <tr>\n",
       "      <th>136</th>\n",
       "      <td>black</td>\n",
       "      <td>solid</td>\n",
       "      <td>female</td>\n",
       "      <td>6.2</td>\n",
       "      <td>17</td>\n",
       "      <td>dry</td>\n",
       "    </tr>\n",
       "    <tr>\n",
       "      <th>138</th>\n",
       "      <td>red</td>\n",
       "      <td>solid</td>\n",
       "      <td>female</td>\n",
       "      <td>4.5</td>\n",
       "      <td>5</td>\n",
       "      <td>wet</td>\n",
       "    </tr>\n",
       "    <tr>\n",
       "      <th>141</th>\n",
       "      <td>white</td>\n",
       "      <td>solid</td>\n",
       "      <td>female</td>\n",
       "      <td>4.7</td>\n",
       "      <td>9</td>\n",
       "      <td>dry</td>\n",
       "    </tr>\n",
       "  </tbody>\n",
       "</table>\n",
       "<p>19 rows × 6 columns</p>\n",
       "</div>"
      ],
      "text/plain": [
       "    haircolor hairpattern     sex  weight  age foodtype\n",
       "0         red       solid  female     4.6   12    other\n",
       "4       brown       solid  female     5.3    7      dry\n",
       "9         red       solid  female     2.3    3      dry\n",
       "11      black       solid  female     6.7    5      dry\n",
       "33      white       solid  female     6.0    5      dry\n",
       "..        ...         ...     ...     ...  ...      ...\n",
       "115     black       solid  female     5.3    3      dry\n",
       "134     white       solid  female     4.8    7      dry\n",
       "136     black       solid  female     6.2   17      dry\n",
       "138       red       solid  female     4.5    5      wet\n",
       "141     white       solid  female     4.7    9      dry\n",
       "\n",
       "[19 rows x 6 columns]"
      ]
     },
     "execution_count": 51,
     "metadata": {},
     "output_type": "execute_result"
    }
   ],
   "source": [
    "cat.loc[(cat['hairpattern']=='solid') & (cat['sex']=='female'),:]"
   ]
  },
  {
   "cell_type": "markdown",
   "metadata": {
    "slideshow": {
     "slide_type": "-"
    }
   },
   "source": [
    "$\\rightarrow$ On ne garde ici que les chats femelles **et** ayant une robe de type \"solid\". Il n'y a plus que 19 individus dans ce cas."
   ]
  },
  {
   "cell_type": "markdown",
   "metadata": {
    "slideshow": {
     "slide_type": "slide"
    }
   },
   "source": [
    "Il est également possible de n'afficher qu'une partie des colonnes pour une requête donnée. Pour cela on peut définir ces colonnes dans une liste au préalable :"
   ]
  },
  {
   "cell_type": "code",
   "execution_count": 52,
   "metadata": {
    "slideshow": {
     "slide_type": "-"
    }
   },
   "outputs": [],
   "source": [
    "colonnes = ['haircolor','hairpattern','weight','foodtype']"
   ]
  },
  {
   "cell_type": "markdown",
   "metadata": {
    "slideshow": {
     "slide_type": "-"
    }
   },
   "source": [
    "que l'on utilise ensuite en paramètre dans `loc[ , ]` :"
   ]
  },
  {
   "cell_type": "code",
   "execution_count": 53,
   "metadata": {
    "slideshow": {
     "slide_type": "-"
    }
   },
   "outputs": [
    {
     "data": {
      "text/html": [
       "<div>\n",
       "<style scoped>\n",
       "    .dataframe tbody tr th:only-of-type {\n",
       "        vertical-align: middle;\n",
       "    }\n",
       "\n",
       "    .dataframe tbody tr th {\n",
       "        vertical-align: top;\n",
       "    }\n",
       "\n",
       "    .dataframe thead th {\n",
       "        text-align: right;\n",
       "    }\n",
       "</style>\n",
       "<table border=\"1\" class=\"dataframe\">\n",
       "  <thead>\n",
       "    <tr style=\"text-align: right;\">\n",
       "      <th></th>\n",
       "      <th>haircolor</th>\n",
       "      <th>hairpattern</th>\n",
       "      <th>weight</th>\n",
       "      <th>foodtype</th>\n",
       "    </tr>\n",
       "  </thead>\n",
       "  <tbody>\n",
       "    <tr>\n",
       "      <th>0</th>\n",
       "      <td>red</td>\n",
       "      <td>solid</td>\n",
       "      <td>4.6</td>\n",
       "      <td>other</td>\n",
       "    </tr>\n",
       "    <tr>\n",
       "      <th>1</th>\n",
       "      <td>black</td>\n",
       "      <td>tabby</td>\n",
       "      <td>5.5</td>\n",
       "      <td>dry</td>\n",
       "    </tr>\n",
       "    <tr>\n",
       "      <th>2</th>\n",
       "      <td>white</td>\n",
       "      <td>tabby</td>\n",
       "      <td>5.6</td>\n",
       "      <td>wet</td>\n",
       "    </tr>\n",
       "    <tr>\n",
       "      <th>3</th>\n",
       "      <td>red</td>\n",
       "      <td>tabby</td>\n",
       "      <td>6.1</td>\n",
       "      <td>dry</td>\n",
       "    </tr>\n",
       "    <tr>\n",
       "      <th>4</th>\n",
       "      <td>brown</td>\n",
       "      <td>solid</td>\n",
       "      <td>5.3</td>\n",
       "      <td>dry</td>\n",
       "    </tr>\n",
       "    <tr>\n",
       "      <th>...</th>\n",
       "      <td>...</td>\n",
       "      <td>...</td>\n",
       "      <td>...</td>\n",
       "      <td>...</td>\n",
       "    </tr>\n",
       "    <tr>\n",
       "      <th>145</th>\n",
       "      <td>black</td>\n",
       "      <td>tabby</td>\n",
       "      <td>2.6</td>\n",
       "      <td>dry</td>\n",
       "    </tr>\n",
       "    <tr>\n",
       "      <th>147</th>\n",
       "      <td>black</td>\n",
       "      <td>tabby</td>\n",
       "      <td>4.1</td>\n",
       "      <td>wet</td>\n",
       "    </tr>\n",
       "    <tr>\n",
       "      <th>148</th>\n",
       "      <td>brown</td>\n",
       "      <td>tabby</td>\n",
       "      <td>6.3</td>\n",
       "      <td>dry</td>\n",
       "    </tr>\n",
       "    <tr>\n",
       "      <th>149</th>\n",
       "      <td>black</td>\n",
       "      <td>tabby</td>\n",
       "      <td>5.2</td>\n",
       "      <td>wet</td>\n",
       "    </tr>\n",
       "    <tr>\n",
       "      <th>150</th>\n",
       "      <td>brown</td>\n",
       "      <td>tabby</td>\n",
       "      <td>4.3</td>\n",
       "      <td>other</td>\n",
       "    </tr>\n",
       "  </tbody>\n",
       "</table>\n",
       "<p>75 rows × 4 columns</p>\n",
       "</div>"
      ],
      "text/plain": [
       "    haircolor hairpattern  weight foodtype\n",
       "0         red       solid     4.6    other\n",
       "1       black       tabby     5.5      dry\n",
       "2       white       tabby     5.6      wet\n",
       "3         red       tabby     6.1      dry\n",
       "4       brown       solid     5.3      dry\n",
       "..        ...         ...     ...      ...\n",
       "145     black       tabby     2.6      dry\n",
       "147     black       tabby     4.1      wet\n",
       "148     brown       tabby     6.3      dry\n",
       "149     black       tabby     5.2      wet\n",
       "150     brown       tabby     4.3    other\n",
       "\n",
       "[75 rows x 4 columns]"
      ]
     },
     "execution_count": 53,
     "metadata": {},
     "output_type": "execute_result"
    }
   ],
   "source": [
    "cat.loc[(cat['age'] > 2) & (cat['sex']=='female'), colonnes]"
   ]
  },
  {
   "cell_type": "markdown",
   "metadata": {
    "slideshow": {
     "slide_type": "-"
    }
   },
   "source": [
    "$\\rightarrow$ On ne garde ici que les chats femelles de plus de 2 ans et on n'affiche que les colonnes \"haircolor\", \"hairpattern\", \"weight\" et \"foodtype\"."
   ]
  },
  {
   "cell_type": "markdown",
   "metadata": {
    "slideshow": {
     "slide_type": "slide"
    }
   },
   "source": [
    "## Croisement des variables\n",
    "Tout comme on peut faire des tableaux croisés dynamiques avec Excel, il est possible avec Pandas de procéder à des croisements de données et effectuer des calculs récapitulatifs.\n",
    "\n",
    "Les tableaux croisés s'obtiennent à l'aide de la fonction `crosstab()` de pandas :"
   ]
  },
  {
   "cell_type": "code",
   "execution_count": 54,
   "metadata": {
    "slideshow": {
     "slide_type": "-"
    }
   },
   "outputs": [
    {
     "data": {
      "text/html": [
       "<div>\n",
       "<style scoped>\n",
       "    .dataframe tbody tr th:only-of-type {\n",
       "        vertical-align: middle;\n",
       "    }\n",
       "\n",
       "    .dataframe tbody tr th {\n",
       "        vertical-align: top;\n",
       "    }\n",
       "\n",
       "    .dataframe thead th {\n",
       "        text-align: right;\n",
       "    }\n",
       "</style>\n",
       "<table border=\"1\" class=\"dataframe\">\n",
       "  <thead>\n",
       "    <tr style=\"text-align: right;\">\n",
       "      <th>hairpattern</th>\n",
       "      <th>colorpoint</th>\n",
       "      <th>solid</th>\n",
       "      <th>tabby</th>\n",
       "      <th>tipped</th>\n",
       "      <th>tortoise</th>\n",
       "    </tr>\n",
       "    <tr>\n",
       "      <th>sex</th>\n",
       "      <th></th>\n",
       "      <th></th>\n",
       "      <th></th>\n",
       "      <th></th>\n",
       "      <th></th>\n",
       "    </tr>\n",
       "  </thead>\n",
       "  <tbody>\n",
       "    <tr>\n",
       "      <th>female</th>\n",
       "      <td>6</td>\n",
       "      <td>19</td>\n",
       "      <td>31</td>\n",
       "      <td>9</td>\n",
       "      <td>10</td>\n",
       "    </tr>\n",
       "    <tr>\n",
       "      <th>male</th>\n",
       "      <td>12</td>\n",
       "      <td>15</td>\n",
       "      <td>29</td>\n",
       "      <td>13</td>\n",
       "      <td>9</td>\n",
       "    </tr>\n",
       "  </tbody>\n",
       "</table>\n",
       "</div>"
      ],
      "text/plain": [
       "hairpattern  colorpoint  solid  tabby  tipped  tortoise\n",
       "sex                                                    \n",
       "female                6     19     31       9        10\n",
       "male                 12     15     29      13         9"
      ]
     },
     "execution_count": 54,
     "metadata": {},
     "output_type": "execute_result"
    }
   ],
   "source": [
    "pd.crosstab(cat['sex'], cat['hairpattern'])"
   ]
  },
  {
   "cell_type": "markdown",
   "metadata": {
    "slideshow": {
     "slide_type": "-"
    }
   },
   "source": [
    "$\\rightarrow$ Ici avec un crosstab simple on obtient les fréquences selon le sexe et le type de robe."
   ]
  },
  {
   "cell_type": "markdown",
   "metadata": {
    "slideshow": {
     "slide_type": "slide"
    }
   },
   "source": [
    "Il est possible d'effectuer un post-traitement directement dans la fonction `crosstab`, par exemple ici on demande un calcul de **pourcentage en ligne** :"
   ]
  },
  {
   "cell_type": "code",
   "execution_count": 55,
   "metadata": {
    "slideshow": {
     "slide_type": "-"
    }
   },
   "outputs": [
    {
     "data": {
      "text/html": [
       "<div>\n",
       "<style scoped>\n",
       "    .dataframe tbody tr th:only-of-type {\n",
       "        vertical-align: middle;\n",
       "    }\n",
       "\n",
       "    .dataframe tbody tr th {\n",
       "        vertical-align: top;\n",
       "    }\n",
       "\n",
       "    .dataframe thead th {\n",
       "        text-align: right;\n",
       "    }\n",
       "</style>\n",
       "<table border=\"1\" class=\"dataframe\">\n",
       "  <thead>\n",
       "    <tr style=\"text-align: right;\">\n",
       "      <th>hairpattern</th>\n",
       "      <th>colorpoint</th>\n",
       "      <th>solid</th>\n",
       "      <th>tabby</th>\n",
       "      <th>tipped</th>\n",
       "      <th>tortoise</th>\n",
       "    </tr>\n",
       "    <tr>\n",
       "      <th>sex</th>\n",
       "      <th></th>\n",
       "      <th></th>\n",
       "      <th></th>\n",
       "      <th></th>\n",
       "      <th></th>\n",
       "    </tr>\n",
       "  </thead>\n",
       "  <tbody>\n",
       "    <tr>\n",
       "      <th>female</th>\n",
       "      <td>0.080000</td>\n",
       "      <td>0.253333</td>\n",
       "      <td>0.413333</td>\n",
       "      <td>0.120000</td>\n",
       "      <td>0.133333</td>\n",
       "    </tr>\n",
       "    <tr>\n",
       "      <th>male</th>\n",
       "      <td>0.153846</td>\n",
       "      <td>0.192308</td>\n",
       "      <td>0.371795</td>\n",
       "      <td>0.166667</td>\n",
       "      <td>0.115385</td>\n",
       "    </tr>\n",
       "  </tbody>\n",
       "</table>\n",
       "</div>"
      ],
      "text/plain": [
       "hairpattern  colorpoint     solid     tabby    tipped  tortoise\n",
       "sex                                                            \n",
       "female         0.080000  0.253333  0.413333  0.120000  0.133333\n",
       "male           0.153846  0.192308  0.371795  0.166667  0.115385"
      ]
     },
     "execution_count": 55,
     "metadata": {},
     "output_type": "execute_result"
    }
   ],
   "source": [
    "pd.crosstab(cat['sex'], cat['hairpattern'], normalize='index')"
   ]
  },
  {
   "cell_type": "markdown",
   "metadata": {
    "slideshow": {
     "slide_type": "-"
    }
   },
   "source": [
    "$\\rightarrow$ Parmi les femelles, 8% ont une robe \"colorpoint\", 25,33% ont une robe \"solid\", ..., 13,3% ont une robe \"tortoise\"\n",
    "\n",
    "$\\rightarrow$ Parmi les mâles, 15,38% ont une robe \"colorpoint\", 19,23% ont une robe \"solid\", ..., 17,54% ont une robe \"tortoise\""
   ]
  },
  {
   "cell_type": "markdown",
   "metadata": {
    "slideshow": {
     "slide_type": "slide"
    }
   },
   "source": [
    "Même chose ici avec un calcul de **pourcentage en colonne** :"
   ]
  },
  {
   "cell_type": "code",
   "execution_count": 56,
   "metadata": {
    "slideshow": {
     "slide_type": "-"
    }
   },
   "outputs": [
    {
     "data": {
      "text/html": [
       "<div>\n",
       "<style scoped>\n",
       "    .dataframe tbody tr th:only-of-type {\n",
       "        vertical-align: middle;\n",
       "    }\n",
       "\n",
       "    .dataframe tbody tr th {\n",
       "        vertical-align: top;\n",
       "    }\n",
       "\n",
       "    .dataframe thead th {\n",
       "        text-align: right;\n",
       "    }\n",
       "</style>\n",
       "<table border=\"1\" class=\"dataframe\">\n",
       "  <thead>\n",
       "    <tr style=\"text-align: right;\">\n",
       "      <th>hairpattern</th>\n",
       "      <th>colorpoint</th>\n",
       "      <th>solid</th>\n",
       "      <th>tabby</th>\n",
       "      <th>tipped</th>\n",
       "      <th>tortoise</th>\n",
       "    </tr>\n",
       "    <tr>\n",
       "      <th>sex</th>\n",
       "      <th></th>\n",
       "      <th></th>\n",
       "      <th></th>\n",
       "      <th></th>\n",
       "      <th></th>\n",
       "    </tr>\n",
       "  </thead>\n",
       "  <tbody>\n",
       "    <tr>\n",
       "      <th>female</th>\n",
       "      <td>0.333333</td>\n",
       "      <td>0.558824</td>\n",
       "      <td>0.516667</td>\n",
       "      <td>0.409091</td>\n",
       "      <td>0.526316</td>\n",
       "    </tr>\n",
       "    <tr>\n",
       "      <th>male</th>\n",
       "      <td>0.666667</td>\n",
       "      <td>0.441176</td>\n",
       "      <td>0.483333</td>\n",
       "      <td>0.590909</td>\n",
       "      <td>0.473684</td>\n",
       "    </tr>\n",
       "  </tbody>\n",
       "</table>\n",
       "</div>"
      ],
      "text/plain": [
       "hairpattern  colorpoint     solid     tabby    tipped  tortoise\n",
       "sex                                                            \n",
       "female         0.333333  0.558824  0.516667  0.409091  0.526316\n",
       "male           0.666667  0.441176  0.483333  0.590909  0.473684"
      ]
     },
     "execution_count": 56,
     "metadata": {},
     "output_type": "execute_result"
    }
   ],
   "source": [
    "pd.crosstab(cat['sex'], cat['hairpattern'], normalize='columns')"
   ]
  },
  {
   "cell_type": "markdown",
   "metadata": {
    "slideshow": {
     "slide_type": "slide"
    }
   },
   "source": [
    "## Conctruction de variables calculées\n",
    "Il est possible d'effectuer des calculs directs sur les variables du DataFrame (souvent les variables numériques).\n",
    "\n",
    "De la même manière qu'avec Numpy, les calculs seront vectorisés pour les vecteurs de type `Series` de Pandas (c'est à dire pour les colonnes). Cela nous évitera d'avoir recours à des boucles `for` pour manipuler les valeurs des vecteurs."
   ]
  },
  {
   "cell_type": "code",
   "execution_count": 57,
   "metadata": {
    "slideshow": {
     "slide_type": "-"
    }
   },
   "outputs": [
    {
     "name": "stdout",
     "output_type": "stream",
     "text": [
      "<class 'pandas.core.series.Series'>\n"
     ]
    }
   ],
   "source": [
    "humanAge = ((cat['age'] + 4.0) / 2.0) * 7.0\n",
    "print(type(humanAge))"
   ]
  },
  {
   "cell_type": "markdown",
   "metadata": {
    "slideshow": {
     "slide_type": "-"
    }
   },
   "source": [
    "$\\rightarrow$ On créé ici une nouvelle Series appelée `humanAge` qui calcule l'âge de chaque chat en âge humain (cette formule n'a pas de preuve scientifique)."
   ]
  },
  {
   "cell_type": "code",
   "execution_count": 58,
   "metadata": {
    "slideshow": {
     "slide_type": "slide"
    }
   },
   "outputs": [
    {
     "name": "stdout",
     "output_type": "stream",
     "text": [
      "0      56.0\n",
      "1      35.0\n",
      "2      42.0\n",
      "3      31.5\n",
      "4      38.5\n",
      "       ... \n",
      "148    24.5\n",
      "149    31.5\n",
      "150    24.5\n",
      "151    28.0\n",
      "152    35.0\n",
      "Name: age, Length: 153, dtype: float64\n",
      "0      12\n",
      "1       6\n",
      "2       8\n",
      "3       5\n",
      "4       7\n",
      "       ..\n",
      "148     3\n",
      "149     5\n",
      "150     3\n",
      "151     4\n",
      "152     6\n",
      "Name: age, Length: 153, dtype: int64\n"
     ]
    }
   ],
   "source": [
    "print(humanAge)\n",
    "print(cat['age'])"
   ]
  },
  {
   "cell_type": "code",
   "execution_count": 59,
   "metadata": {
    "slideshow": {
     "slide_type": "slide"
    }
   },
   "outputs": [
    {
     "name": "stdout",
     "output_type": "stream",
     "text": [
      "0      10.141252\n",
      "1      12.125410\n",
      "2      12.345872\n",
      "3      13.448182\n",
      "4      11.684486\n",
      "         ...    \n",
      "148    13.889106\n",
      "149    11.464024\n",
      "150     9.479866\n",
      "151     8.377556\n",
      "152     9.259404\n",
      "Name: weight, Length: 153, dtype: float64\n"
     ]
    }
   ],
   "source": [
    "weightPound = cat['weight'] * 2.20462\n",
    "print(weightPound)"
   ]
  },
  {
   "cell_type": "markdown",
   "metadata": {
    "slideshow": {
     "slide_type": "-"
    }
   },
   "source": [
    "$\\rightarrow$ On créé une Series qui correspond au poids en kilo des chats converti en livres (1 kilo = 2,20462 livres)"
   ]
  },
  {
   "cell_type": "code",
   "execution_count": 60,
   "metadata": {
    "slideshow": {
     "slide_type": "slide"
    }
   },
   "outputs": [
    {
     "name": "stdout",
     "output_type": "stream",
     "text": [
      "0      1.526056\n",
      "1      1.704748\n",
      "2      1.722767\n",
      "3      1.808289\n",
      "4      1.667707\n",
      "         ...   \n",
      "148    1.840550\n",
      "149    1.648659\n",
      "150    1.458615\n",
      "151    1.335001\n",
      "152    1.435085\n",
      "Name: weight, Length: 153, dtype: float64\n"
     ]
    }
   ],
   "source": [
    "import numpy as np\n",
    "weightLog = np.log(cat['weight'])\n",
    "print(weightLog)"
   ]
  },
  {
   "cell_type": "markdown",
   "metadata": {
    "slideshow": {
     "slide_type": "-"
    }
   },
   "source": [
    "$\\rightarrow$ On créé une Series qui correspond au logarithme du poids des chats (qui n'a pas de signification particulière)."
   ]
  },
  {
   "cell_type": "markdown",
   "metadata": {
    "slideshow": {
     "slide_type": "slide"
    }
   },
   "source": [
    "## Concaténation\n",
    "\n",
    "Il est possible de combiner ensemble des Series et/ou des DataFrames.\n",
    "\n",
    "La fonction `concat` permet de concaténer ensemble des Series ou DataFrames le long d'un axe (axis = 0 : ligne ou axis = 1 : colonne)."
   ]
  },
  {
   "cell_type": "code",
   "execution_count": 61,
   "metadata": {
    "slideshow": {
     "slide_type": "slide"
    }
   },
   "outputs": [
    {
     "data": {
      "text/html": [
       "<div>\n",
       "<style scoped>\n",
       "    .dataframe tbody tr th:only-of-type {\n",
       "        vertical-align: middle;\n",
       "    }\n",
       "\n",
       "    .dataframe tbody tr th {\n",
       "        vertical-align: top;\n",
       "    }\n",
       "\n",
       "    .dataframe thead th {\n",
       "        text-align: right;\n",
       "    }\n",
       "</style>\n",
       "<table border=\"1\" class=\"dataframe\">\n",
       "  <thead>\n",
       "    <tr style=\"text-align: right;\">\n",
       "      <th></th>\n",
       "      <th>haircolor</th>\n",
       "      <th>hairpattern</th>\n",
       "      <th>sex</th>\n",
       "      <th>weight</th>\n",
       "      <th>age</th>\n",
       "      <th>foodtype</th>\n",
       "      <th>age</th>\n",
       "      <th>weight</th>\n",
       "    </tr>\n",
       "  </thead>\n",
       "  <tbody>\n",
       "    <tr>\n",
       "      <th>0</th>\n",
       "      <td>red</td>\n",
       "      <td>solid</td>\n",
       "      <td>female</td>\n",
       "      <td>4.6</td>\n",
       "      <td>12</td>\n",
       "      <td>other</td>\n",
       "      <td>56.0</td>\n",
       "      <td>10.141252</td>\n",
       "    </tr>\n",
       "    <tr>\n",
       "      <th>1</th>\n",
       "      <td>black</td>\n",
       "      <td>tabby</td>\n",
       "      <td>female</td>\n",
       "      <td>5.5</td>\n",
       "      <td>6</td>\n",
       "      <td>dry</td>\n",
       "      <td>35.0</td>\n",
       "      <td>12.125410</td>\n",
       "    </tr>\n",
       "    <tr>\n",
       "      <th>2</th>\n",
       "      <td>white</td>\n",
       "      <td>tabby</td>\n",
       "      <td>female</td>\n",
       "      <td>5.6</td>\n",
       "      <td>8</td>\n",
       "      <td>wet</td>\n",
       "      <td>42.0</td>\n",
       "      <td>12.345872</td>\n",
       "    </tr>\n",
       "    <tr>\n",
       "      <th>3</th>\n",
       "      <td>red</td>\n",
       "      <td>tabby</td>\n",
       "      <td>female</td>\n",
       "      <td>6.1</td>\n",
       "      <td>5</td>\n",
       "      <td>dry</td>\n",
       "      <td>31.5</td>\n",
       "      <td>13.448182</td>\n",
       "    </tr>\n",
       "    <tr>\n",
       "      <th>4</th>\n",
       "      <td>brown</td>\n",
       "      <td>solid</td>\n",
       "      <td>female</td>\n",
       "      <td>5.3</td>\n",
       "      <td>7</td>\n",
       "      <td>dry</td>\n",
       "      <td>38.5</td>\n",
       "      <td>11.684486</td>\n",
       "    </tr>\n",
       "    <tr>\n",
       "      <th>...</th>\n",
       "      <td>...</td>\n",
       "      <td>...</td>\n",
       "      <td>...</td>\n",
       "      <td>...</td>\n",
       "      <td>...</td>\n",
       "      <td>...</td>\n",
       "      <td>...</td>\n",
       "      <td>...</td>\n",
       "    </tr>\n",
       "    <tr>\n",
       "      <th>148</th>\n",
       "      <td>brown</td>\n",
       "      <td>tabby</td>\n",
       "      <td>female</td>\n",
       "      <td>6.3</td>\n",
       "      <td>3</td>\n",
       "      <td>dry</td>\n",
       "      <td>24.5</td>\n",
       "      <td>13.889106</td>\n",
       "    </tr>\n",
       "    <tr>\n",
       "      <th>149</th>\n",
       "      <td>black</td>\n",
       "      <td>tabby</td>\n",
       "      <td>female</td>\n",
       "      <td>5.2</td>\n",
       "      <td>5</td>\n",
       "      <td>wet</td>\n",
       "      <td>31.5</td>\n",
       "      <td>11.464024</td>\n",
       "    </tr>\n",
       "    <tr>\n",
       "      <th>150</th>\n",
       "      <td>brown</td>\n",
       "      <td>tabby</td>\n",
       "      <td>female</td>\n",
       "      <td>4.3</td>\n",
       "      <td>3</td>\n",
       "      <td>other</td>\n",
       "      <td>24.5</td>\n",
       "      <td>9.479866</td>\n",
       "    </tr>\n",
       "    <tr>\n",
       "      <th>151</th>\n",
       "      <td>red</td>\n",
       "      <td>tabby</td>\n",
       "      <td>male</td>\n",
       "      <td>3.8</td>\n",
       "      <td>4</td>\n",
       "      <td>wet</td>\n",
       "      <td>28.0</td>\n",
       "      <td>8.377556</td>\n",
       "    </tr>\n",
       "    <tr>\n",
       "      <th>152</th>\n",
       "      <td>black</td>\n",
       "      <td>tortoise</td>\n",
       "      <td>male</td>\n",
       "      <td>4.2</td>\n",
       "      <td>6</td>\n",
       "      <td>dry</td>\n",
       "      <td>35.0</td>\n",
       "      <td>9.259404</td>\n",
       "    </tr>\n",
       "  </tbody>\n",
       "</table>\n",
       "<p>153 rows × 8 columns</p>\n",
       "</div>"
      ],
      "text/plain": [
       "    haircolor hairpattern     sex  weight  age foodtype   age     weight\n",
       "0         red       solid  female     4.6   12    other  56.0  10.141252\n",
       "1       black       tabby  female     5.5    6      dry  35.0  12.125410\n",
       "2       white       tabby  female     5.6    8      wet  42.0  12.345872\n",
       "3         red       tabby  female     6.1    5      dry  31.5  13.448182\n",
       "4       brown       solid  female     5.3    7      dry  38.5  11.684486\n",
       "..        ...         ...     ...     ...  ...      ...   ...        ...\n",
       "148     brown       tabby  female     6.3    3      dry  24.5  13.889106\n",
       "149     black       tabby  female     5.2    5      wet  31.5  11.464024\n",
       "150     brown       tabby  female     4.3    3    other  24.5   9.479866\n",
       "151       red       tabby    male     3.8    4      wet  28.0   8.377556\n",
       "152     black    tortoise    male     4.2    6      dry  35.0   9.259404\n",
       "\n",
       "[153 rows x 8 columns]"
      ]
     },
     "execution_count": 61,
     "metadata": {},
     "output_type": "execute_result"
    }
   ],
   "source": [
    "newcat = pd.concat([cat,humanAge,weightPound], axis=1)\n",
    "newcat"
   ]
  },
  {
   "cell_type": "markdown",
   "metadata": {
    "slideshow": {
     "slide_type": "-"
    }
   },
   "source": [
    "$\\rightarrow$ On vient de créer un nouveau DataFrame `catnew` issu de la concaténation du DataFrame `cat` et des deux Series créées auparavant : `humanAge` et `weightPound` $\\Rightarrow$ on a ajouté 2 nouvelles colonnes (`axis=1`) au DataFrame original.\n",
    "\n",
    "Cependant on remarque que les deux Series d'âges et de poids ont le même nom."
   ]
  },
  {
   "cell_type": "markdown",
   "metadata": {
    "slideshow": {
     "slide_type": "slide"
    }
   },
   "source": [
    "### Renommer des colonnes :\n",
    "* On ne peut pas renommer individuellement une colonne (non mutable)"
   ]
  },
  {
   "cell_type": "code",
   "execution_count": 62,
   "metadata": {
    "slideshow": {
     "slide_type": "-"
    }
   },
   "outputs": [
    {
     "ename": "TypeError",
     "evalue": "Index does not support mutable operations",
     "output_type": "error",
     "traceback": [
      "\u001b[0;31m---------------------------------------------------------------------------\u001b[0m",
      "\u001b[0;31mTypeError\u001b[0m                                 Traceback (most recent call last)",
      "\u001b[0;32m<ipython-input-62-3b0bfdd80998>\u001b[0m in \u001b[0;36m<module>\u001b[0;34m\u001b[0m\n\u001b[0;32m----> 1\u001b[0;31m \u001b[0mnewcat\u001b[0m\u001b[0;34m.\u001b[0m\u001b[0mcolumns\u001b[0m\u001b[0;34m[\u001b[0m\u001b[0;34m-\u001b[0m\u001b[0;36m1\u001b[0m\u001b[0;34m]\u001b[0m \u001b[0;34m=\u001b[0m \u001b[0;34m'weightPound'\u001b[0m\u001b[0;34m\u001b[0m\u001b[0;34m\u001b[0m\u001b[0m\n\u001b[0m",
      "\u001b[0;32m/srv/conda/envs/notebook/site-packages/pandas/core/indexes/base.py\u001b[0m in \u001b[0;36m__setitem__\u001b[0;34m(self, key, value)\u001b[0m\n\u001b[1;32m   4079\u001b[0m \u001b[0;34m\u001b[0m\u001b[0m\n\u001b[1;32m   4080\u001b[0m     \u001b[0;32mdef\u001b[0m \u001b[0m__setitem__\u001b[0m\u001b[0;34m(\u001b[0m\u001b[0mself\u001b[0m\u001b[0;34m,\u001b[0m \u001b[0mkey\u001b[0m\u001b[0;34m,\u001b[0m \u001b[0mvalue\u001b[0m\u001b[0;34m)\u001b[0m\u001b[0;34m:\u001b[0m\u001b[0;34m\u001b[0m\u001b[0;34m\u001b[0m\u001b[0m\n\u001b[0;32m-> 4081\u001b[0;31m         \u001b[0;32mraise\u001b[0m \u001b[0mTypeError\u001b[0m\u001b[0;34m(\u001b[0m\u001b[0;34m\"Index does not support mutable operations\"\u001b[0m\u001b[0;34m)\u001b[0m\u001b[0;34m\u001b[0m\u001b[0;34m\u001b[0m\u001b[0m\n\u001b[0m\u001b[1;32m   4082\u001b[0m \u001b[0;34m\u001b[0m\u001b[0m\n\u001b[1;32m   4083\u001b[0m     \u001b[0;32mdef\u001b[0m \u001b[0m__getitem__\u001b[0m\u001b[0;34m(\u001b[0m\u001b[0mself\u001b[0m\u001b[0;34m,\u001b[0m \u001b[0mkey\u001b[0m\u001b[0;34m)\u001b[0m\u001b[0;34m:\u001b[0m\u001b[0;34m\u001b[0m\u001b[0;34m\u001b[0m\u001b[0m\n",
      "\u001b[0;31mTypeError\u001b[0m: Index does not support mutable operations"
     ]
    }
   ],
   "source": [
    "newcat.columns[-1] = 'weightPound'"
   ]
  },
  {
   "cell_type": "markdown",
   "metadata": {
    "slideshow": {
     "slide_type": "slide"
    }
   },
   "source": [
    "* On peut donc soit renommer l'ensemble des colonnes (en définissant la liste complète des noms de colonnes) :"
   ]
  },
  {
   "cell_type": "code",
   "execution_count": 63,
   "metadata": {
    "slideshow": {
     "slide_type": "-"
    }
   },
   "outputs": [
    {
     "data": {
      "text/html": [
       "<div>\n",
       "<style scoped>\n",
       "    .dataframe tbody tr th:only-of-type {\n",
       "        vertical-align: middle;\n",
       "    }\n",
       "\n",
       "    .dataframe tbody tr th {\n",
       "        vertical-align: top;\n",
       "    }\n",
       "\n",
       "    .dataframe thead th {\n",
       "        text-align: right;\n",
       "    }\n",
       "</style>\n",
       "<table border=\"1\" class=\"dataframe\">\n",
       "  <thead>\n",
       "    <tr style=\"text-align: right;\">\n",
       "      <th></th>\n",
       "      <th>haircolor</th>\n",
       "      <th>hairpattern</th>\n",
       "      <th>sex</th>\n",
       "      <th>weight</th>\n",
       "      <th>age</th>\n",
       "      <th>foodtype</th>\n",
       "      <th>humanAge</th>\n",
       "      <th>weightPound</th>\n",
       "    </tr>\n",
       "  </thead>\n",
       "  <tbody>\n",
       "    <tr>\n",
       "      <th>0</th>\n",
       "      <td>red</td>\n",
       "      <td>solid</td>\n",
       "      <td>female</td>\n",
       "      <td>4.6</td>\n",
       "      <td>12</td>\n",
       "      <td>other</td>\n",
       "      <td>56.0</td>\n",
       "      <td>10.141252</td>\n",
       "    </tr>\n",
       "    <tr>\n",
       "      <th>1</th>\n",
       "      <td>black</td>\n",
       "      <td>tabby</td>\n",
       "      <td>female</td>\n",
       "      <td>5.5</td>\n",
       "      <td>6</td>\n",
       "      <td>dry</td>\n",
       "      <td>35.0</td>\n",
       "      <td>12.125410</td>\n",
       "    </tr>\n",
       "    <tr>\n",
       "      <th>2</th>\n",
       "      <td>white</td>\n",
       "      <td>tabby</td>\n",
       "      <td>female</td>\n",
       "      <td>5.6</td>\n",
       "      <td>8</td>\n",
       "      <td>wet</td>\n",
       "      <td>42.0</td>\n",
       "      <td>12.345872</td>\n",
       "    </tr>\n",
       "    <tr>\n",
       "      <th>3</th>\n",
       "      <td>red</td>\n",
       "      <td>tabby</td>\n",
       "      <td>female</td>\n",
       "      <td>6.1</td>\n",
       "      <td>5</td>\n",
       "      <td>dry</td>\n",
       "      <td>31.5</td>\n",
       "      <td>13.448182</td>\n",
       "    </tr>\n",
       "    <tr>\n",
       "      <th>4</th>\n",
       "      <td>brown</td>\n",
       "      <td>solid</td>\n",
       "      <td>female</td>\n",
       "      <td>5.3</td>\n",
       "      <td>7</td>\n",
       "      <td>dry</td>\n",
       "      <td>38.5</td>\n",
       "      <td>11.684486</td>\n",
       "    </tr>\n",
       "    <tr>\n",
       "      <th>...</th>\n",
       "      <td>...</td>\n",
       "      <td>...</td>\n",
       "      <td>...</td>\n",
       "      <td>...</td>\n",
       "      <td>...</td>\n",
       "      <td>...</td>\n",
       "      <td>...</td>\n",
       "      <td>...</td>\n",
       "    </tr>\n",
       "    <tr>\n",
       "      <th>148</th>\n",
       "      <td>brown</td>\n",
       "      <td>tabby</td>\n",
       "      <td>female</td>\n",
       "      <td>6.3</td>\n",
       "      <td>3</td>\n",
       "      <td>dry</td>\n",
       "      <td>24.5</td>\n",
       "      <td>13.889106</td>\n",
       "    </tr>\n",
       "    <tr>\n",
       "      <th>149</th>\n",
       "      <td>black</td>\n",
       "      <td>tabby</td>\n",
       "      <td>female</td>\n",
       "      <td>5.2</td>\n",
       "      <td>5</td>\n",
       "      <td>wet</td>\n",
       "      <td>31.5</td>\n",
       "      <td>11.464024</td>\n",
       "    </tr>\n",
       "    <tr>\n",
       "      <th>150</th>\n",
       "      <td>brown</td>\n",
       "      <td>tabby</td>\n",
       "      <td>female</td>\n",
       "      <td>4.3</td>\n",
       "      <td>3</td>\n",
       "      <td>other</td>\n",
       "      <td>24.5</td>\n",
       "      <td>9.479866</td>\n",
       "    </tr>\n",
       "    <tr>\n",
       "      <th>151</th>\n",
       "      <td>red</td>\n",
       "      <td>tabby</td>\n",
       "      <td>male</td>\n",
       "      <td>3.8</td>\n",
       "      <td>4</td>\n",
       "      <td>wet</td>\n",
       "      <td>28.0</td>\n",
       "      <td>8.377556</td>\n",
       "    </tr>\n",
       "    <tr>\n",
       "      <th>152</th>\n",
       "      <td>black</td>\n",
       "      <td>tortoise</td>\n",
       "      <td>male</td>\n",
       "      <td>4.2</td>\n",
       "      <td>6</td>\n",
       "      <td>dry</td>\n",
       "      <td>35.0</td>\n",
       "      <td>9.259404</td>\n",
       "    </tr>\n",
       "  </tbody>\n",
       "</table>\n",
       "<p>153 rows × 8 columns</p>\n",
       "</div>"
      ],
      "text/plain": [
       "    haircolor hairpattern     sex  weight  age foodtype  humanAge  weightPound\n",
       "0         red       solid  female     4.6   12    other      56.0    10.141252\n",
       "1       black       tabby  female     5.5    6      dry      35.0    12.125410\n",
       "2       white       tabby  female     5.6    8      wet      42.0    12.345872\n",
       "3         red       tabby  female     6.1    5      dry      31.5    13.448182\n",
       "4       brown       solid  female     5.3    7      dry      38.5    11.684486\n",
       "..        ...         ...     ...     ...  ...      ...       ...          ...\n",
       "148     brown       tabby  female     6.3    3      dry      24.5    13.889106\n",
       "149     black       tabby  female     5.2    5      wet      31.5    11.464024\n",
       "150     brown       tabby  female     4.3    3    other      24.5     9.479866\n",
       "151       red       tabby    male     3.8    4      wet      28.0     8.377556\n",
       "152     black    tortoise    male     4.2    6      dry      35.0     9.259404\n",
       "\n",
       "[153 rows x 8 columns]"
      ]
     },
     "execution_count": 63,
     "metadata": {},
     "output_type": "execute_result"
    }
   ],
   "source": [
    "newcat.columns = ['haircolor','hairpattern','sex','weight','age','foodtype','humanAge','weightPound']\n",
    "newcat"
   ]
  },
  {
   "cell_type": "markdown",
   "metadata": {
    "slideshow": {
     "slide_type": "slide"
    }
   },
   "source": [
    "* soit renommer une colonne en particulier, en suivant une démarche de ce type :"
   ]
  },
  {
   "cell_type": "code",
   "execution_count": 64,
   "metadata": {
    "slideshow": {
     "slide_type": "-"
    }
   },
   "outputs": [
    {
     "data": {
      "text/html": [
       "<div>\n",
       "<style scoped>\n",
       "    .dataframe tbody tr th:only-of-type {\n",
       "        vertical-align: middle;\n",
       "    }\n",
       "\n",
       "    .dataframe tbody tr th {\n",
       "        vertical-align: top;\n",
       "    }\n",
       "\n",
       "    .dataframe thead th {\n",
       "        text-align: right;\n",
       "    }\n",
       "</style>\n",
       "<table border=\"1\" class=\"dataframe\">\n",
       "  <thead>\n",
       "    <tr style=\"text-align: right;\">\n",
       "      <th></th>\n",
       "      <th>haircolor</th>\n",
       "      <th>hairpattern</th>\n",
       "      <th>sex</th>\n",
       "      <th>weight</th>\n",
       "      <th>age</th>\n",
       "      <th>foodtype</th>\n",
       "      <th>humanAge</th>\n",
       "      <th>weightPound</th>\n",
       "    </tr>\n",
       "  </thead>\n",
       "  <tbody>\n",
       "    <tr>\n",
       "      <th>0</th>\n",
       "      <td>red</td>\n",
       "      <td>solid</td>\n",
       "      <td>female</td>\n",
       "      <td>4.6</td>\n",
       "      <td>12</td>\n",
       "      <td>other</td>\n",
       "      <td>56.0</td>\n",
       "      <td>10.141252</td>\n",
       "    </tr>\n",
       "    <tr>\n",
       "      <th>1</th>\n",
       "      <td>black</td>\n",
       "      <td>tabby</td>\n",
       "      <td>female</td>\n",
       "      <td>5.5</td>\n",
       "      <td>6</td>\n",
       "      <td>dry</td>\n",
       "      <td>35.0</td>\n",
       "      <td>12.125410</td>\n",
       "    </tr>\n",
       "    <tr>\n",
       "      <th>2</th>\n",
       "      <td>white</td>\n",
       "      <td>tabby</td>\n",
       "      <td>female</td>\n",
       "      <td>5.6</td>\n",
       "      <td>8</td>\n",
       "      <td>wet</td>\n",
       "      <td>42.0</td>\n",
       "      <td>12.345872</td>\n",
       "    </tr>\n",
       "    <tr>\n",
       "      <th>3</th>\n",
       "      <td>red</td>\n",
       "      <td>tabby</td>\n",
       "      <td>female</td>\n",
       "      <td>6.1</td>\n",
       "      <td>5</td>\n",
       "      <td>dry</td>\n",
       "      <td>31.5</td>\n",
       "      <td>13.448182</td>\n",
       "    </tr>\n",
       "    <tr>\n",
       "      <th>4</th>\n",
       "      <td>brown</td>\n",
       "      <td>solid</td>\n",
       "      <td>female</td>\n",
       "      <td>5.3</td>\n",
       "      <td>7</td>\n",
       "      <td>dry</td>\n",
       "      <td>38.5</td>\n",
       "      <td>11.684486</td>\n",
       "    </tr>\n",
       "    <tr>\n",
       "      <th>...</th>\n",
       "      <td>...</td>\n",
       "      <td>...</td>\n",
       "      <td>...</td>\n",
       "      <td>...</td>\n",
       "      <td>...</td>\n",
       "      <td>...</td>\n",
       "      <td>...</td>\n",
       "      <td>...</td>\n",
       "    </tr>\n",
       "    <tr>\n",
       "      <th>148</th>\n",
       "      <td>brown</td>\n",
       "      <td>tabby</td>\n",
       "      <td>female</td>\n",
       "      <td>6.3</td>\n",
       "      <td>3</td>\n",
       "      <td>dry</td>\n",
       "      <td>24.5</td>\n",
       "      <td>13.889106</td>\n",
       "    </tr>\n",
       "    <tr>\n",
       "      <th>149</th>\n",
       "      <td>black</td>\n",
       "      <td>tabby</td>\n",
       "      <td>female</td>\n",
       "      <td>5.2</td>\n",
       "      <td>5</td>\n",
       "      <td>wet</td>\n",
       "      <td>31.5</td>\n",
       "      <td>11.464024</td>\n",
       "    </tr>\n",
       "    <tr>\n",
       "      <th>150</th>\n",
       "      <td>brown</td>\n",
       "      <td>tabby</td>\n",
       "      <td>female</td>\n",
       "      <td>4.3</td>\n",
       "      <td>3</td>\n",
       "      <td>other</td>\n",
       "      <td>24.5</td>\n",
       "      <td>9.479866</td>\n",
       "    </tr>\n",
       "    <tr>\n",
       "      <th>151</th>\n",
       "      <td>red</td>\n",
       "      <td>tabby</td>\n",
       "      <td>male</td>\n",
       "      <td>3.8</td>\n",
       "      <td>4</td>\n",
       "      <td>wet</td>\n",
       "      <td>28.0</td>\n",
       "      <td>8.377556</td>\n",
       "    </tr>\n",
       "    <tr>\n",
       "      <th>152</th>\n",
       "      <td>black</td>\n",
       "      <td>tortoise</td>\n",
       "      <td>male</td>\n",
       "      <td>4.2</td>\n",
       "      <td>6</td>\n",
       "      <td>dry</td>\n",
       "      <td>35.0</td>\n",
       "      <td>9.259404</td>\n",
       "    </tr>\n",
       "  </tbody>\n",
       "</table>\n",
       "<p>153 rows × 8 columns</p>\n",
       "</div>"
      ],
      "text/plain": [
       "    haircolor hairpattern     sex  weight  age foodtype  humanAge  weightPound\n",
       "0         red       solid  female     4.6   12    other      56.0    10.141252\n",
       "1       black       tabby  female     5.5    6      dry      35.0    12.125410\n",
       "2       white       tabby  female     5.6    8      wet      42.0    12.345872\n",
       "3         red       tabby  female     6.1    5      dry      31.5    13.448182\n",
       "4       brown       solid  female     5.3    7      dry      38.5    11.684486\n",
       "..        ...         ...     ...     ...  ...      ...       ...          ...\n",
       "148     brown       tabby  female     6.3    3      dry      24.5    13.889106\n",
       "149     black       tabby  female     5.2    5      wet      31.5    11.464024\n",
       "150     brown       tabby  female     4.3    3    other      24.5     9.479866\n",
       "151       red       tabby    male     3.8    4      wet      28.0     8.377556\n",
       "152     black    tortoise    male     4.2    6      dry      35.0     9.259404\n",
       "\n",
       "[153 rows x 8 columns]"
      ]
     },
     "execution_count": 64,
     "metadata": {},
     "output_type": "execute_result"
    }
   ],
   "source": [
    "myList = list(newcat.columns) # on extrait les noms des colonnes dans une liste\n",
    "myList[-2] = 'humanAge' # on modifie les éléments de cette liste\n",
    "myList[-1] = 'weightPound' \n",
    "newcat.columns = myList # on impose cette liste comme étant la liste des noms de colonnes du DataFrame\n",
    "newcat"
   ]
  },
  {
   "cell_type": "markdown",
   "metadata": {
    "slideshow": {
     "slide_type": "slide"
    }
   },
   "source": [
    "## GroupBy : split-apply-combine\n",
    "\n",
    "Le mot GroupBy fait référence à une manipulation sur le DataFrame d'origine qui implique une ou plusieurs de ces opérations :\n",
    "\n",
    "* **Splitting** : on scinde les données en sous-groupes en fonction de certains critères\n",
    "* **Applying** : on applique une fonction aux sous-groupes indépendamment. Parmi les fonctions que l'on peut appliquer :\n",
    "    * Aggrégation : calcul d'une description statistique pour chaque groupe\n",
    "* **Combining** : on place ces groupes dans une structure de données de type DataFrame (i.e. on créé des sous-DataFrames)"
   ]
  },
  {
   "cell_type": "markdown",
   "metadata": {
    "slideshow": {
     "slide_type": "slide"
    }
   },
   "source": [
    "### Splitting et sélection de groupes\n",
    "\n",
    "#### Splitting\n",
    "On créé des groupes avec la fonction `groupby()`. L'argument à fournir à cette fonction est soit le nom d'une des variables (colonnes) soit un index level (ligne)."
   ]
  },
  {
   "cell_type": "code",
   "execution_count": 65,
   "metadata": {
    "slideshow": {
     "slide_type": "-"
    }
   },
   "outputs": [
    {
     "name": "stdout",
     "output_type": "stream",
     "text": [
      "<pandas.core.groupby.generic.DataFrameGroupBy object at 0x0000559546e92fa8>\n"
     ]
    }
   ],
   "source": [
    "g = cat.groupby('sex')\n",
    "print(g)"
   ]
  },
  {
   "cell_type": "markdown",
   "metadata": {
    "slideshow": {
     "slide_type": "-"
    }
   },
   "source": [
    "$\\rightarrow$ On vient de créer une sorte de masque par rapport au DataFrame original. Ce masque permet de scinder le DataFrame en fonction des différentes valeurs prises par la variable `sex` (le DataFrame est scindé en 2 en fonction des 2 valeurs possibles prises par la varibles `sex` : female ou male)."
   ]
  },
  {
   "cell_type": "markdown",
   "metadata": {
    "slideshow": {
     "slide_type": "slide"
    }
   },
   "source": [
    "On peut lister l'intitulé de chaque sous-groupe (clé) ainsi que les valeurs de chaque sous-groupe à l'aide d'une boucle :"
   ]
  },
  {
   "cell_type": "code",
   "execution_count": 66,
   "metadata": {
    "slideshow": {
     "slide_type": "-"
    }
   },
   "outputs": [
    {
     "name": "stdout",
     "output_type": "stream",
     "text": [
      "intitule du sous-groupe : female\n",
      "    haircolor hairpattern     sex  weight  age foodtype\n",
      "0         red       solid  female     4.6   12    other\n",
      "1       black       tabby  female     5.5    6      dry\n",
      "2       white       tabby  female     5.6    8      wet\n",
      "3         red       tabby  female     6.1    5      dry\n",
      "4       brown       solid  female     5.3    7      dry\n",
      "..        ...         ...     ...     ...  ...      ...\n",
      "145     black       tabby  female     2.6   10      dry\n",
      "147     black       tabby  female     4.1    3      wet\n",
      "148     brown       tabby  female     6.3    3      dry\n",
      "149     black       tabby  female     5.2    5      wet\n",
      "150     brown       tabby  female     4.3    3    other\n",
      "\n",
      "[75 rows x 6 columns]\n",
      "intitule du sous-groupe : male\n",
      "    haircolor hairpattern   sex  weight  age foodtype\n",
      "5       black       tabby  male     6.9    5      wet\n",
      "6       brown       solid  male     6.3    5      dry\n",
      "8       white    tortoise  male     4.3    5      wet\n",
      "10      black       tabby  male     3.6    8      wet\n",
      "12      brown      tipped  male     5.2    7      dry\n",
      "..        ...         ...   ...     ...  ...      ...\n",
      "142     white  colorpoint  male     4.5    5      dry\n",
      "144     white    tortoise  male     6.4    4      wet\n",
      "146     black  colorpoint  male     4.5    4      dry\n",
      "151       red       tabby  male     3.8    4      wet\n",
      "152     black    tortoise  male     4.2    6      dry\n",
      "\n",
      "[78 rows x 6 columns]\n"
     ]
    }
   ],
   "source": [
    "for cle, sg in g :\n",
    "    print('intitule du sous-groupe :', cle)\n",
    "    print(sg)"
   ]
  },
  {
   "cell_type": "markdown",
   "metadata": {
    "slideshow": {
     "slide_type": "slide"
    }
   },
   "source": [
    "#### Sélectionner un groupe\n",
    "\n",
    "A partir d'un groupeby, on peut sélectionner un ou plusieurs des sous-groupes avec la fonction `get_group()` :"
   ]
  },
  {
   "cell_type": "code",
   "execution_count": 67,
   "metadata": {
    "slideshow": {
     "slide_type": "-"
    }
   },
   "outputs": [
    {
     "data": {
      "text/html": [
       "<div>\n",
       "<style scoped>\n",
       "    .dataframe tbody tr th:only-of-type {\n",
       "        vertical-align: middle;\n",
       "    }\n",
       "\n",
       "    .dataframe tbody tr th {\n",
       "        vertical-align: top;\n",
       "    }\n",
       "\n",
       "    .dataframe thead th {\n",
       "        text-align: right;\n",
       "    }\n",
       "</style>\n",
       "<table border=\"1\" class=\"dataframe\">\n",
       "  <thead>\n",
       "    <tr style=\"text-align: right;\">\n",
       "      <th></th>\n",
       "      <th>haircolor</th>\n",
       "      <th>hairpattern</th>\n",
       "      <th>sex</th>\n",
       "      <th>weight</th>\n",
       "      <th>age</th>\n",
       "      <th>foodtype</th>\n",
       "    </tr>\n",
       "  </thead>\n",
       "  <tbody>\n",
       "    <tr>\n",
       "      <th>1</th>\n",
       "      <td>black</td>\n",
       "      <td>tabby</td>\n",
       "      <td>female</td>\n",
       "      <td>5.5</td>\n",
       "      <td>6</td>\n",
       "      <td>dry</td>\n",
       "    </tr>\n",
       "    <tr>\n",
       "      <th>2</th>\n",
       "      <td>white</td>\n",
       "      <td>tabby</td>\n",
       "      <td>female</td>\n",
       "      <td>5.6</td>\n",
       "      <td>8</td>\n",
       "      <td>wet</td>\n",
       "    </tr>\n",
       "    <tr>\n",
       "      <th>3</th>\n",
       "      <td>red</td>\n",
       "      <td>tabby</td>\n",
       "      <td>female</td>\n",
       "      <td>6.1</td>\n",
       "      <td>5</td>\n",
       "      <td>dry</td>\n",
       "    </tr>\n",
       "    <tr>\n",
       "      <th>5</th>\n",
       "      <td>black</td>\n",
       "      <td>tabby</td>\n",
       "      <td>male</td>\n",
       "      <td>6.9</td>\n",
       "      <td>5</td>\n",
       "      <td>wet</td>\n",
       "    </tr>\n",
       "    <tr>\n",
       "      <th>10</th>\n",
       "      <td>black</td>\n",
       "      <td>tabby</td>\n",
       "      <td>male</td>\n",
       "      <td>3.6</td>\n",
       "      <td>8</td>\n",
       "      <td>wet</td>\n",
       "    </tr>\n",
       "    <tr>\n",
       "      <th>...</th>\n",
       "      <td>...</td>\n",
       "      <td>...</td>\n",
       "      <td>...</td>\n",
       "      <td>...</td>\n",
       "      <td>...</td>\n",
       "      <td>...</td>\n",
       "    </tr>\n",
       "    <tr>\n",
       "      <th>147</th>\n",
       "      <td>black</td>\n",
       "      <td>tabby</td>\n",
       "      <td>female</td>\n",
       "      <td>4.1</td>\n",
       "      <td>3</td>\n",
       "      <td>wet</td>\n",
       "    </tr>\n",
       "    <tr>\n",
       "      <th>148</th>\n",
       "      <td>brown</td>\n",
       "      <td>tabby</td>\n",
       "      <td>female</td>\n",
       "      <td>6.3</td>\n",
       "      <td>3</td>\n",
       "      <td>dry</td>\n",
       "    </tr>\n",
       "    <tr>\n",
       "      <th>149</th>\n",
       "      <td>black</td>\n",
       "      <td>tabby</td>\n",
       "      <td>female</td>\n",
       "      <td>5.2</td>\n",
       "      <td>5</td>\n",
       "      <td>wet</td>\n",
       "    </tr>\n",
       "    <tr>\n",
       "      <th>150</th>\n",
       "      <td>brown</td>\n",
       "      <td>tabby</td>\n",
       "      <td>female</td>\n",
       "      <td>4.3</td>\n",
       "      <td>3</td>\n",
       "      <td>other</td>\n",
       "    </tr>\n",
       "    <tr>\n",
       "      <th>151</th>\n",
       "      <td>red</td>\n",
       "      <td>tabby</td>\n",
       "      <td>male</td>\n",
       "      <td>3.8</td>\n",
       "      <td>4</td>\n",
       "      <td>wet</td>\n",
       "    </tr>\n",
       "  </tbody>\n",
       "</table>\n",
       "<p>60 rows × 6 columns</p>\n",
       "</div>"
      ],
      "text/plain": [
       "    haircolor hairpattern     sex  weight  age foodtype\n",
       "1       black       tabby  female     5.5    6      dry\n",
       "2       white       tabby  female     5.6    8      wet\n",
       "3         red       tabby  female     6.1    5      dry\n",
       "5       black       tabby    male     6.9    5      wet\n",
       "10      black       tabby    male     3.6    8      wet\n",
       "..        ...         ...     ...     ...  ...      ...\n",
       "147     black       tabby  female     4.1    3      wet\n",
       "148     brown       tabby  female     6.3    3      dry\n",
       "149     black       tabby  female     5.2    5      wet\n",
       "150     brown       tabby  female     4.3    3    other\n",
       "151       red       tabby    male     3.8    4      wet\n",
       "\n",
       "[60 rows x 6 columns]"
      ]
     },
     "execution_count": 67,
     "metadata": {},
     "output_type": "execute_result"
    }
   ],
   "source": [
    "g = cat.groupby('hairpattern')\n",
    "g.get_group('tabby')"
   ]
  },
  {
   "cell_type": "markdown",
   "metadata": {
    "slideshow": {
     "slide_type": "-"
    }
   },
   "source": [
    "$\\rightarrow$ On applique un masque par rapport à la variable `'hairpattern'` et on accède ensuite seulement au sous-groupe `tabby`.\n",
    "\n",
    "Du DataFrame orginal on ne garde que les individus ayant un hairpattern de type **tabby**."
   ]
  },
  {
   "cell_type": "markdown",
   "metadata": {
    "slideshow": {
     "slide_type": "slide"
    }
   },
   "source": [
    "Il est possible de faire un `groupeby` à partir de plusieurs variables (données dans une liste) et d'accéder ensuite aux sous-groupes de ces variables avec un `get_group` :"
   ]
  },
  {
   "cell_type": "code",
   "execution_count": 68,
   "metadata": {
    "slideshow": {
     "slide_type": "-"
    }
   },
   "outputs": [
    {
     "data": {
      "text/html": [
       "<div>\n",
       "<style scoped>\n",
       "    .dataframe tbody tr th:only-of-type {\n",
       "        vertical-align: middle;\n",
       "    }\n",
       "\n",
       "    .dataframe tbody tr th {\n",
       "        vertical-align: top;\n",
       "    }\n",
       "\n",
       "    .dataframe thead th {\n",
       "        text-align: right;\n",
       "    }\n",
       "</style>\n",
       "<table border=\"1\" class=\"dataframe\">\n",
       "  <thead>\n",
       "    <tr style=\"text-align: right;\">\n",
       "      <th></th>\n",
       "      <th>haircolor</th>\n",
       "      <th>hairpattern</th>\n",
       "      <th>sex</th>\n",
       "      <th>weight</th>\n",
       "      <th>age</th>\n",
       "      <th>foodtype</th>\n",
       "    </tr>\n",
       "  </thead>\n",
       "  <tbody>\n",
       "    <tr>\n",
       "      <th>5</th>\n",
       "      <td>black</td>\n",
       "      <td>tabby</td>\n",
       "      <td>male</td>\n",
       "      <td>6.9</td>\n",
       "      <td>5</td>\n",
       "      <td>wet</td>\n",
       "    </tr>\n",
       "    <tr>\n",
       "      <th>10</th>\n",
       "      <td>black</td>\n",
       "      <td>tabby</td>\n",
       "      <td>male</td>\n",
       "      <td>3.6</td>\n",
       "      <td>8</td>\n",
       "      <td>wet</td>\n",
       "    </tr>\n",
       "    <tr>\n",
       "      <th>13</th>\n",
       "      <td>brown</td>\n",
       "      <td>tabby</td>\n",
       "      <td>male</td>\n",
       "      <td>4.6</td>\n",
       "      <td>5</td>\n",
       "      <td>wet</td>\n",
       "    </tr>\n",
       "    <tr>\n",
       "      <th>17</th>\n",
       "      <td>white</td>\n",
       "      <td>tabby</td>\n",
       "      <td>male</td>\n",
       "      <td>4.1</td>\n",
       "      <td>8</td>\n",
       "      <td>wet</td>\n",
       "    </tr>\n",
       "    <tr>\n",
       "      <th>28</th>\n",
       "      <td>brown</td>\n",
       "      <td>tabby</td>\n",
       "      <td>male</td>\n",
       "      <td>5.7</td>\n",
       "      <td>8</td>\n",
       "      <td>dry</td>\n",
       "    </tr>\n",
       "    <tr>\n",
       "      <th>...</th>\n",
       "      <td>...</td>\n",
       "      <td>...</td>\n",
       "      <td>...</td>\n",
       "      <td>...</td>\n",
       "      <td>...</td>\n",
       "      <td>...</td>\n",
       "    </tr>\n",
       "    <tr>\n",
       "      <th>129</th>\n",
       "      <td>black</td>\n",
       "      <td>tabby</td>\n",
       "      <td>male</td>\n",
       "      <td>5.7</td>\n",
       "      <td>5</td>\n",
       "      <td>dry</td>\n",
       "    </tr>\n",
       "    <tr>\n",
       "      <th>130</th>\n",
       "      <td>white</td>\n",
       "      <td>tabby</td>\n",
       "      <td>male</td>\n",
       "      <td>4.0</td>\n",
       "      <td>4</td>\n",
       "      <td>dry</td>\n",
       "    </tr>\n",
       "    <tr>\n",
       "      <th>133</th>\n",
       "      <td>black</td>\n",
       "      <td>tabby</td>\n",
       "      <td>male</td>\n",
       "      <td>5.9</td>\n",
       "      <td>11</td>\n",
       "      <td>dry</td>\n",
       "    </tr>\n",
       "    <tr>\n",
       "      <th>135</th>\n",
       "      <td>white</td>\n",
       "      <td>tabby</td>\n",
       "      <td>male</td>\n",
       "      <td>5.1</td>\n",
       "      <td>2</td>\n",
       "      <td>dry</td>\n",
       "    </tr>\n",
       "    <tr>\n",
       "      <th>151</th>\n",
       "      <td>red</td>\n",
       "      <td>tabby</td>\n",
       "      <td>male</td>\n",
       "      <td>3.8</td>\n",
       "      <td>4</td>\n",
       "      <td>wet</td>\n",
       "    </tr>\n",
       "  </tbody>\n",
       "</table>\n",
       "<p>29 rows × 6 columns</p>\n",
       "</div>"
      ],
      "text/plain": [
       "    haircolor hairpattern   sex  weight  age foodtype\n",
       "5       black       tabby  male     6.9    5      wet\n",
       "10      black       tabby  male     3.6    8      wet\n",
       "13      brown       tabby  male     4.6    5      wet\n",
       "17      white       tabby  male     4.1    8      wet\n",
       "28      brown       tabby  male     5.7    8      dry\n",
       "..        ...         ...   ...     ...  ...      ...\n",
       "129     black       tabby  male     5.7    5      dry\n",
       "130     white       tabby  male     4.0    4      dry\n",
       "133     black       tabby  male     5.9   11      dry\n",
       "135     white       tabby  male     5.1    2      dry\n",
       "151       red       tabby  male     3.8    4      wet\n",
       "\n",
       "[29 rows x 6 columns]"
      ]
     },
     "execution_count": 68,
     "metadata": {},
     "output_type": "execute_result"
    }
   ],
   "source": [
    "g = cat.groupby(['hairpattern','sex']).get_group(('tabby','male'))\n",
    "g"
   ]
  },
  {
   "cell_type": "markdown",
   "metadata": {
    "slideshow": {
     "slide_type": "-"
    }
   },
   "source": [
    "$\\rightarrow$ On applique un masque par rapport aux variables 'hairpattern' et 'sex' et on ne garde que les individus **mâles** ayant un hairpattern de type **tabby**."
   ]
  },
  {
   "cell_type": "code",
   "execution_count": 69,
   "metadata": {
    "slideshow": {
     "slide_type": "slide"
    }
   },
   "outputs": [
    {
     "name": "stderr",
     "output_type": "stream",
     "text": [
      "/srv/conda/envs/notebook/site-packages/ipykernel_launcher.py:2: FutureWarning: Indexing with multiple keys (implicitly converted to a tuple of keys) will be deprecated, use a list instead.\n",
      "  \n"
     ]
    },
    {
     "data": {
      "text/html": [
       "<div>\n",
       "<style scoped>\n",
       "    .dataframe tbody tr th:only-of-type {\n",
       "        vertical-align: middle;\n",
       "    }\n",
       "\n",
       "    .dataframe tbody tr th {\n",
       "        vertical-align: top;\n",
       "    }\n",
       "\n",
       "    .dataframe thead th {\n",
       "        text-align: right;\n",
       "    }\n",
       "</style>\n",
       "<table border=\"1\" class=\"dataframe\">\n",
       "  <thead>\n",
       "    <tr style=\"text-align: right;\">\n",
       "      <th></th>\n",
       "      <th>hairpattern</th>\n",
       "      <th>foodtype</th>\n",
       "    </tr>\n",
       "  </thead>\n",
       "  <tbody>\n",
       "    <tr>\n",
       "      <th>0</th>\n",
       "      <td>solid</td>\n",
       "      <td>other</td>\n",
       "    </tr>\n",
       "    <tr>\n",
       "      <th>1</th>\n",
       "      <td>tabby</td>\n",
       "      <td>dry</td>\n",
       "    </tr>\n",
       "    <tr>\n",
       "      <th>2</th>\n",
       "      <td>tabby</td>\n",
       "      <td>wet</td>\n",
       "    </tr>\n",
       "    <tr>\n",
       "      <th>3</th>\n",
       "      <td>tabby</td>\n",
       "      <td>dry</td>\n",
       "    </tr>\n",
       "    <tr>\n",
       "      <th>4</th>\n",
       "      <td>solid</td>\n",
       "      <td>dry</td>\n",
       "    </tr>\n",
       "    <tr>\n",
       "      <th>...</th>\n",
       "      <td>...</td>\n",
       "      <td>...</td>\n",
       "    </tr>\n",
       "    <tr>\n",
       "      <th>145</th>\n",
       "      <td>tabby</td>\n",
       "      <td>dry</td>\n",
       "    </tr>\n",
       "    <tr>\n",
       "      <th>147</th>\n",
       "      <td>tabby</td>\n",
       "      <td>wet</td>\n",
       "    </tr>\n",
       "    <tr>\n",
       "      <th>148</th>\n",
       "      <td>tabby</td>\n",
       "      <td>dry</td>\n",
       "    </tr>\n",
       "    <tr>\n",
       "      <th>149</th>\n",
       "      <td>tabby</td>\n",
       "      <td>wet</td>\n",
       "    </tr>\n",
       "    <tr>\n",
       "      <th>150</th>\n",
       "      <td>tabby</td>\n",
       "      <td>other</td>\n",
       "    </tr>\n",
       "  </tbody>\n",
       "</table>\n",
       "<p>75 rows × 2 columns</p>\n",
       "</div>"
      ],
      "text/plain": [
       "    hairpattern foodtype\n",
       "0         solid    other\n",
       "1         tabby      dry\n",
       "2         tabby      wet\n",
       "3         tabby      dry\n",
       "4         solid      dry\n",
       "..          ...      ...\n",
       "145       tabby      dry\n",
       "147       tabby      wet\n",
       "148       tabby      dry\n",
       "149       tabby      wet\n",
       "150       tabby    other\n",
       "\n",
       "[75 rows x 2 columns]"
      ]
     },
     "execution_count": 69,
     "metadata": {},
     "output_type": "execute_result"
    }
   ],
   "source": [
    "g = cat.groupby('sex')\n",
    "g['hairpattern', 'foodtype'].get_group('female')"
   ]
  },
  {
   "cell_type": "markdown",
   "metadata": {
    "slideshow": {
     "slide_type": "-"
    }
   },
   "source": [
    "$\\rightarrow$ On fait d'abord un groupby 'sex' (masque). Ce groupe comprend deux sous-groupes : male et female.\n",
    "\n",
    "$\\rightarrow$ On accède ensuite seulement au sous-groupe `female` (cela créé un sous-DataFrame) et on ne sélectionne que les colonnes `hairpattern` et `foodtype` de ce sous-DataFrame. "
   ]
  },
  {
   "cell_type": "markdown",
   "metadata": {
    "slideshow": {
     "slide_type": "slide"
    }
   },
   "source": [
    "### Applying : aggrégation\n",
    "\n",
    "Une fois qu'un object groupeby a été crée il est possible d'appliquer différents types de calcul à l'ensemble des  données de cet objet. Pour cela on utilise la fonction `aggregate` :"
   ]
  },
  {
   "cell_type": "code",
   "execution_count": 70,
   "metadata": {
    "slideshow": {
     "slide_type": "-"
    }
   },
   "outputs": [
    {
     "data": {
      "text/html": [
       "<div>\n",
       "<style scoped>\n",
       "    .dataframe tbody tr th:only-of-type {\n",
       "        vertical-align: middle;\n",
       "    }\n",
       "\n",
       "    .dataframe tbody tr th {\n",
       "        vertical-align: top;\n",
       "    }\n",
       "\n",
       "    .dataframe thead th {\n",
       "        text-align: right;\n",
       "    }\n",
       "</style>\n",
       "<table border=\"1\" class=\"dataframe\">\n",
       "  <thead>\n",
       "    <tr style=\"text-align: right;\">\n",
       "      <th></th>\n",
       "      <th>weight</th>\n",
       "      <th>age</th>\n",
       "    </tr>\n",
       "    <tr>\n",
       "      <th>foodtype</th>\n",
       "      <th></th>\n",
       "      <th></th>\n",
       "    </tr>\n",
       "  </thead>\n",
       "  <tbody>\n",
       "    <tr>\n",
       "      <th>dry</th>\n",
       "      <td>4.989216</td>\n",
       "      <td>6.019608</td>\n",
       "    </tr>\n",
       "    <tr>\n",
       "      <th>other</th>\n",
       "      <td>4.300000</td>\n",
       "      <td>6.555556</td>\n",
       "    </tr>\n",
       "    <tr>\n",
       "      <th>wet</th>\n",
       "      <td>4.780952</td>\n",
       "      <td>6.285714</td>\n",
       "    </tr>\n",
       "  </tbody>\n",
       "</table>\n",
       "</div>"
      ],
      "text/plain": [
       "            weight       age\n",
       "foodtype                    \n",
       "dry       4.989216  6.019608\n",
       "other     4.300000  6.555556\n",
       "wet       4.780952  6.285714"
      ]
     },
     "execution_count": 70,
     "metadata": {},
     "output_type": "execute_result"
    }
   ],
   "source": [
    "g = cat.groupby('foodtype')\n",
    "g.aggregate(np.mean)"
   ]
  },
  {
   "cell_type": "markdown",
   "metadata": {
    "slideshow": {
     "slide_type": "-"
    }
   },
   "source": [
    "$\\rightarrow$ Ici on ne voit que les colonnes `age` et `weight` car l'opération `mean` est un indicateur statistique qui ne fonctionne que sur les données numériques."
   ]
  },
  {
   "cell_type": "markdown",
   "metadata": {
    "slideshow": {
     "slide_type": "slide"
    }
   },
   "source": [
    "De manière générale, pour obtenir l'ensemble des indicateurs statistiques **de l'objet groupby** on peut appliquer la fonction `describe()` vue précédemment:"
   ]
  },
  {
   "cell_type": "code",
   "execution_count": 71,
   "metadata": {
    "slideshow": {
     "slide_type": "-"
    }
   },
   "outputs": [
    {
     "data": {
      "text/html": [
       "<div>\n",
       "<style scoped>\n",
       "    .dataframe tbody tr th:only-of-type {\n",
       "        vertical-align: middle;\n",
       "    }\n",
       "\n",
       "    .dataframe tbody tr th {\n",
       "        vertical-align: top;\n",
       "    }\n",
       "\n",
       "    .dataframe thead tr th {\n",
       "        text-align: left;\n",
       "    }\n",
       "\n",
       "    .dataframe thead tr:last-of-type th {\n",
       "        text-align: right;\n",
       "    }\n",
       "</style>\n",
       "<table border=\"1\" class=\"dataframe\">\n",
       "  <thead>\n",
       "    <tr>\n",
       "      <th></th>\n",
       "      <th colspan=\"8\" halign=\"left\">weight</th>\n",
       "      <th colspan=\"8\" halign=\"left\">age</th>\n",
       "    </tr>\n",
       "    <tr>\n",
       "      <th></th>\n",
       "      <th>count</th>\n",
       "      <th>mean</th>\n",
       "      <th>std</th>\n",
       "      <th>min</th>\n",
       "      <th>25%</th>\n",
       "      <th>50%</th>\n",
       "      <th>75%</th>\n",
       "      <th>max</th>\n",
       "      <th>count</th>\n",
       "      <th>mean</th>\n",
       "      <th>std</th>\n",
       "      <th>min</th>\n",
       "      <th>25%</th>\n",
       "      <th>50%</th>\n",
       "      <th>75%</th>\n",
       "      <th>max</th>\n",
       "    </tr>\n",
       "    <tr>\n",
       "      <th>foodtype</th>\n",
       "      <th></th>\n",
       "      <th></th>\n",
       "      <th></th>\n",
       "      <th></th>\n",
       "      <th></th>\n",
       "      <th></th>\n",
       "      <th></th>\n",
       "      <th></th>\n",
       "      <th></th>\n",
       "      <th></th>\n",
       "      <th></th>\n",
       "      <th></th>\n",
       "      <th></th>\n",
       "      <th></th>\n",
       "      <th></th>\n",
       "      <th></th>\n",
       "    </tr>\n",
       "  </thead>\n",
       "  <tbody>\n",
       "    <tr>\n",
       "      <th>dry</th>\n",
       "      <td>102.0</td>\n",
       "      <td>4.989216</td>\n",
       "      <td>1.022703</td>\n",
       "      <td>1.9</td>\n",
       "      <td>4.400</td>\n",
       "      <td>5.1</td>\n",
       "      <td>5.7</td>\n",
       "      <td>7.5</td>\n",
       "      <td>102.0</td>\n",
       "      <td>6.019608</td>\n",
       "      <td>2.594665</td>\n",
       "      <td>2.0</td>\n",
       "      <td>4.0</td>\n",
       "      <td>6.0</td>\n",
       "      <td>7.00</td>\n",
       "      <td>17.0</td>\n",
       "    </tr>\n",
       "    <tr>\n",
       "      <th>other</th>\n",
       "      <td>9.0</td>\n",
       "      <td>4.300000</td>\n",
       "      <td>0.759934</td>\n",
       "      <td>3.2</td>\n",
       "      <td>3.900</td>\n",
       "      <td>4.3</td>\n",
       "      <td>4.6</td>\n",
       "      <td>5.4</td>\n",
       "      <td>9.0</td>\n",
       "      <td>6.555556</td>\n",
       "      <td>3.320810</td>\n",
       "      <td>3.0</td>\n",
       "      <td>4.0</td>\n",
       "      <td>6.0</td>\n",
       "      <td>7.00</td>\n",
       "      <td>12.0</td>\n",
       "    </tr>\n",
       "    <tr>\n",
       "      <th>wet</th>\n",
       "      <td>42.0</td>\n",
       "      <td>4.780952</td>\n",
       "      <td>1.112509</td>\n",
       "      <td>2.5</td>\n",
       "      <td>4.025</td>\n",
       "      <td>4.6</td>\n",
       "      <td>5.5</td>\n",
       "      <td>7.1</td>\n",
       "      <td>42.0</td>\n",
       "      <td>6.285714</td>\n",
       "      <td>2.787478</td>\n",
       "      <td>3.0</td>\n",
       "      <td>5.0</td>\n",
       "      <td>5.0</td>\n",
       "      <td>7.75</td>\n",
       "      <td>17.0</td>\n",
       "    </tr>\n",
       "  </tbody>\n",
       "</table>\n",
       "</div>"
      ],
      "text/plain": [
       "         weight                                                   age  \\\n",
       "          count      mean       std  min    25%  50%  75%  max  count   \n",
       "foodtype                                                                \n",
       "dry       102.0  4.989216  1.022703  1.9  4.400  5.1  5.7  7.5  102.0   \n",
       "other       9.0  4.300000  0.759934  3.2  3.900  4.3  4.6  5.4    9.0   \n",
       "wet        42.0  4.780952  1.112509  2.5  4.025  4.6  5.5  7.1   42.0   \n",
       "\n",
       "                                                         \n",
       "              mean       std  min  25%  50%   75%   max  \n",
       "foodtype                                                 \n",
       "dry       6.019608  2.594665  2.0  4.0  6.0  7.00  17.0  \n",
       "other     6.555556  3.320810  3.0  4.0  6.0  7.00  12.0  \n",
       "wet       6.285714  2.787478  3.0  5.0  5.0  7.75  17.0  "
      ]
     },
     "execution_count": 71,
     "metadata": {},
     "output_type": "execute_result"
    }
   ],
   "source": [
    "g.describe()"
   ]
  },
  {
   "cell_type": "markdown",
   "metadata": {
    "slideshow": {
     "slide_type": "slide"
    }
   },
   "source": [
    "On peut aussi effectuer des opérations d'aggrégation sur un groupby ayant plusieurs clés :"
   ]
  },
  {
   "cell_type": "code",
   "execution_count": 72,
   "metadata": {
    "slideshow": {
     "slide_type": "-"
    }
   },
   "outputs": [
    {
     "data": {
      "text/html": [
       "<div>\n",
       "<style scoped>\n",
       "    .dataframe tbody tr th:only-of-type {\n",
       "        vertical-align: middle;\n",
       "    }\n",
       "\n",
       "    .dataframe tbody tr th {\n",
       "        vertical-align: top;\n",
       "    }\n",
       "\n",
       "    .dataframe thead th {\n",
       "        text-align: right;\n",
       "    }\n",
       "</style>\n",
       "<table border=\"1\" class=\"dataframe\">\n",
       "  <thead>\n",
       "    <tr style=\"text-align: right;\">\n",
       "      <th></th>\n",
       "      <th></th>\n",
       "      <th>weight</th>\n",
       "      <th>age</th>\n",
       "    </tr>\n",
       "    <tr>\n",
       "      <th>foodtype</th>\n",
       "      <th>sex</th>\n",
       "      <th></th>\n",
       "      <th></th>\n",
       "    </tr>\n",
       "  </thead>\n",
       "  <tbody>\n",
       "    <tr>\n",
       "      <th rowspan=\"2\" valign=\"top\">dry</th>\n",
       "      <th>female</th>\n",
       "      <td>4.802041</td>\n",
       "      <td>6.244898</td>\n",
       "    </tr>\n",
       "    <tr>\n",
       "      <th>male</th>\n",
       "      <td>5.162264</td>\n",
       "      <td>5.811321</td>\n",
       "    </tr>\n",
       "    <tr>\n",
       "      <th rowspan=\"2\" valign=\"top\">other</th>\n",
       "      <th>female</th>\n",
       "      <td>4.337500</td>\n",
       "      <td>6.875000</td>\n",
       "    </tr>\n",
       "    <tr>\n",
       "      <th>male</th>\n",
       "      <td>4.000000</td>\n",
       "      <td>4.000000</td>\n",
       "    </tr>\n",
       "    <tr>\n",
       "      <th rowspan=\"2\" valign=\"top\">wet</th>\n",
       "      <th>female</th>\n",
       "      <td>4.605556</td>\n",
       "      <td>6.888889</td>\n",
       "    </tr>\n",
       "    <tr>\n",
       "      <th>male</th>\n",
       "      <td>4.912500</td>\n",
       "      <td>5.833333</td>\n",
       "    </tr>\n",
       "  </tbody>\n",
       "</table>\n",
       "</div>"
      ],
      "text/plain": [
       "                   weight       age\n",
       "foodtype sex                       \n",
       "dry      female  4.802041  6.244898\n",
       "         male    5.162264  5.811321\n",
       "other    female  4.337500  6.875000\n",
       "         male    4.000000  4.000000\n",
       "wet      female  4.605556  6.888889\n",
       "         male    4.912500  5.833333"
      ]
     },
     "execution_count": 72,
     "metadata": {},
     "output_type": "execute_result"
    }
   ],
   "source": [
    "g = cat.groupby(['foodtype','sex'])\n",
    "g.aggregate(np.mean)"
   ]
  }
 ],
 "metadata": {
  "celltoolbar": "Slideshow",
  "kernelspec": {
   "display_name": "Python 3",
   "language": "python",
   "name": "python3"
  },
  "language_info": {
   "codemirror_mode": {
    "name": "ipython",
    "version": 3
   },
   "file_extension": ".py",
   "mimetype": "text/x-python",
   "name": "python",
   "nbconvert_exporter": "python",
   "pygments_lexer": "ipython3",
   "version": "3.6.9"
  }
 },
 "nbformat": 4,
 "nbformat_minor": 2
}
