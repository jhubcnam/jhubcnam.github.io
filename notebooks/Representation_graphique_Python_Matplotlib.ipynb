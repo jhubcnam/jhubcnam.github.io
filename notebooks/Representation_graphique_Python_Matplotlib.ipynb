{
 "cells": [
  {
   "cell_type": "markdown",
   "metadata": {},
   "source": [
    "<img\n",
    "    src=\"https://upload.wikimedia.org/wikipedia/commons/4/42/CNAM_Logo.svg\" \n",
    "    alt=\"\"\n",
    "    height=\"200px\" \n",
    "    width=\"200px\"\n",
    "    align=left\n",
    "/> \n",
    "\n",
    "<center> <br>\n",
    "  <h1 style=\"color:#7c7979\";></h1>\n",
    "</center>  \n",
    "\n",
    "<center>\n",
    "  <h1 style=\"color:#000000\";>Représenter graphiquement des données avec Matplotlib en Python</h1>\n",
    "</center> \n"
   ]
  },
  {
   "cell_type": "code",
   "execution_count": 1,
   "metadata": {},
   "outputs": [],
   "source": [
    "import pandas as pd\n",
    "import numpy as np"
   ]
  },
  {
   "cell_type": "code",
   "execution_count": 2,
   "metadata": {},
   "outputs": [],
   "source": [
    "import warnings\n",
    "warnings.filterwarnings('ignore')"
   ]
  },
  {
   "cell_type": "code",
   "execution_count": 3,
   "metadata": {},
   "outputs": [],
   "source": [
    "pd.options.display.max_rows = 10"
   ]
  },
  {
   "cell_type": "markdown",
   "metadata": {},
   "source": [
    "## Composantes d'un graphique \n",
    "\n",
    "Pour tracer un graphique on doit définir les composantes suivantes :\n",
    "* type de graphique (ligne, points, diagramme, ...)\n",
    "* titre\n",
    "* axes\n",
    "* légendes\n",
    "* unités\n",
    "\n",
    "Dans ce carnet nous nous servirons principalement de la librairie `matplotlib` de python pour tracer des graphiques."
   ]
  },
  {
   "cell_type": "markdown",
   "metadata": {},
   "source": [
    "Import de la librairie `matplotlib` et de l'objet `matplotlib.pyplot` que l'on renomme avec l'alias `plt`.  \n",
    "On ajoute aussi la ligne `%matplotlib inline` qui permettra d'afficher les graphiques directement dans le notebook."
   ]
  },
  {
   "cell_type": "code",
   "execution_count": 4,
   "metadata": {},
   "outputs": [],
   "source": [
    "import matplotlib.pyplot as plt\n",
    "%matplotlib inline"
   ]
  },
  {
   "cell_type": "markdown",
   "metadata": {},
   "source": [
    "## Types de graphiques "
   ]
  },
  {
   "cell_type": "markdown",
   "metadata": {},
   "source": [
    "## Ligne / courbe\n",
    "\n",
    "**But** : Représenter l'évolution d'une variable continue.  \n",
    "Ce type de graphique est notamment utilisé pour les séries chronologiques (évolution d'une variable continue dans le temps)."
   ]
  },
  {
   "cell_type": "markdown",
   "metadata": {},
   "source": [
    "On s'intéresse ici au jeu de données `gasprice.csv` qui donne la valeur du prix du pétrole (en dollars) aux Etats-Unis pour toutes les semaines entre 1990 (8ème semaine) et 2003 (26ème semaine)."
   ]
  },
  {
   "cell_type": "code",
   "execution_count": 5,
   "metadata": {},
   "outputs": [
    {
     "data": {
      "text/html": [
       "<div>\n",
       "<style scoped>\n",
       "    .dataframe tbody tr th:only-of-type {\n",
       "        vertical-align: middle;\n",
       "    }\n",
       "\n",
       "    .dataframe tbody tr th {\n",
       "        vertical-align: top;\n",
       "    }\n",
       "\n",
       "    .dataframe thead th {\n",
       "        text-align: right;\n",
       "    }\n",
       "</style>\n",
       "<table border=\"1\" class=\"dataframe\">\n",
       "  <thead>\n",
       "    <tr style=\"text-align: right;\">\n",
       "      <th></th>\n",
       "      <th>Unnamed: 0</th>\n",
       "      <th>time</th>\n",
       "      <th>value</th>\n",
       "    </tr>\n",
       "  </thead>\n",
       "  <tbody>\n",
       "    <tr>\n",
       "      <th>0</th>\n",
       "      <td>1</td>\n",
       "      <td>1990.134615</td>\n",
       "      <td>126.6</td>\n",
       "    </tr>\n",
       "    <tr>\n",
       "      <th>1</th>\n",
       "      <td>2</td>\n",
       "      <td>1990.153846</td>\n",
       "      <td>127.2</td>\n",
       "    </tr>\n",
       "    <tr>\n",
       "      <th>2</th>\n",
       "      <td>3</td>\n",
       "      <td>1990.173077</td>\n",
       "      <td>132.1</td>\n",
       "    </tr>\n",
       "    <tr>\n",
       "      <th>3</th>\n",
       "      <td>4</td>\n",
       "      <td>1990.192308</td>\n",
       "      <td>133.3</td>\n",
       "    </tr>\n",
       "    <tr>\n",
       "      <th>4</th>\n",
       "      <td>5</td>\n",
       "      <td>1990.211538</td>\n",
       "      <td>133.9</td>\n",
       "    </tr>\n",
       "    <tr>\n",
       "      <th>...</th>\n",
       "      <td>...</td>\n",
       "      <td>...</td>\n",
       "      <td>...</td>\n",
       "    </tr>\n",
       "    <tr>\n",
       "      <th>690</th>\n",
       "      <td>691</td>\n",
       "      <td>2003.403846</td>\n",
       "      <td>157.9</td>\n",
       "    </tr>\n",
       "    <tr>\n",
       "      <th>691</th>\n",
       "      <td>692</td>\n",
       "      <td>2003.423077</td>\n",
       "      <td>160.4</td>\n",
       "    </tr>\n",
       "    <tr>\n",
       "      <th>692</th>\n",
       "      <td>693</td>\n",
       "      <td>2003.442308</td>\n",
       "      <td>159.1</td>\n",
       "    </tr>\n",
       "    <tr>\n",
       "      <th>693</th>\n",
       "      <td>694</td>\n",
       "      <td>2003.461538</td>\n",
       "      <td>160.9</td>\n",
       "    </tr>\n",
       "    <tr>\n",
       "      <th>694</th>\n",
       "      <td>695</td>\n",
       "      <td>2003.480769</td>\n",
       "      <td>161.7</td>\n",
       "    </tr>\n",
       "  </tbody>\n",
       "</table>\n",
       "<p>695 rows × 3 columns</p>\n",
       "</div>"
      ],
      "text/plain": [
       "     Unnamed: 0         time  value\n",
       "0             1  1990.134615  126.6\n",
       "1             2  1990.153846  127.2\n",
       "2             3  1990.173077  132.1\n",
       "3             4  1990.192308  133.3\n",
       "4             5  1990.211538  133.9\n",
       "..          ...          ...    ...\n",
       "690         691  2003.403846  157.9\n",
       "691         692  2003.423077  160.4\n",
       "692         693  2003.442308  159.1\n",
       "693         694  2003.461538  160.9\n",
       "694         695  2003.480769  161.7\n",
       "\n",
       "[695 rows x 3 columns]"
      ]
     },
     "execution_count": 5,
     "metadata": {},
     "output_type": "execute_result"
    }
   ],
   "source": [
    "gas = pd.read_csv('./gasprice.csv')\n",
    "gas"
   ]
  },
  {
   "cell_type": "markdown",
   "metadata": {},
   "source": [
    "Le tracé de lignes ou courbes se fait avec la fonction `plot()` de matplotlib.  \n",
    "L'ajout d'un titre au graphique se fait en appelant `plt.title` et les noms des axes se nomment en appelant `plt.xlabel` et `plt.ylabel`.  \n",
    "A ce stade, le graphique n'est pas encore visible, car il est toujours en cours de création. Pour afficher la fenêtre contenant le graphique, on appelle `plt.show()`."
   ]
  },
  {
   "cell_type": "code",
   "execution_count": 6,
   "metadata": {},
   "outputs": [
    {
     "data": {
      "image/png": "[encoded data removed]",
      "text/plain": [
       "<Figure size 432x288 with 1 Axes>"
      ]
     },
     "metadata": {
      "needs_background": "light"
     },
     "output_type": "display_data"
    }
   ],
   "source": [
    "plt.plot(gas['time'], gas['value'])\n",
    "plt.title('Evolution du prix du pétrole aux USA')\n",
    "plt.xlabel('Années')\n",
    "plt.ylabel('Prix du pétrole (en dollars US)')\n",
    "plt.show()"
   ]
  },
  {
   "cell_type": "markdown",
   "metadata": {},
   "source": [
    "## Histogramme ou diagramme en bâton (histogram or barchart)\n",
    "\n",
    "**But** : Représenter des modalités d'une variable discrète."
   ]
  },
  {
   "cell_type": "markdown",
   "metadata": {},
   "source": [
    "On considère le jeu de données `catdata.csv` vu lors des séances précédentes.  \n",
    "On souhaite représenter à l'aide d'un histogramme les modalités de la variable 'hairpattern'."
   ]
  },
  {
   "cell_type": "code",
   "execution_count": 7,
   "metadata": {},
   "outputs": [
    {
     "data": {
      "text/html": [
       "<div>\n",
       "<style scoped>\n",
       "    .dataframe tbody tr th:only-of-type {\n",
       "        vertical-align: middle;\n",
       "    }\n",
       "\n",
       "    .dataframe tbody tr th {\n",
       "        vertical-align: top;\n",
       "    }\n",
       "\n",
       "    .dataframe thead th {\n",
       "        text-align: right;\n",
       "    }\n",
       "</style>\n",
       "<table border=\"1\" class=\"dataframe\">\n",
       "  <thead>\n",
       "    <tr style=\"text-align: right;\">\n",
       "      <th></th>\n",
       "      <th>haircolor</th>\n",
       "      <th>hairpattern</th>\n",
       "      <th>sex</th>\n",
       "      <th>weight</th>\n",
       "      <th>age</th>\n",
       "      <th>foodtype</th>\n",
       "    </tr>\n",
       "  </thead>\n",
       "  <tbody>\n",
       "    <tr>\n",
       "      <th>0</th>\n",
       "      <td>red</td>\n",
       "      <td>solid</td>\n",
       "      <td>female</td>\n",
       "      <td>4.6</td>\n",
       "      <td>12</td>\n",
       "      <td>other</td>\n",
       "    </tr>\n",
       "    <tr>\n",
       "      <th>1</th>\n",
       "      <td>black</td>\n",
       "      <td>tabby</td>\n",
       "      <td>female</td>\n",
       "      <td>5.5</td>\n",
       "      <td>6</td>\n",
       "      <td>dry</td>\n",
       "    </tr>\n",
       "    <tr>\n",
       "      <th>2</th>\n",
       "      <td>white</td>\n",
       "      <td>tabby</td>\n",
       "      <td>female</td>\n",
       "      <td>5.6</td>\n",
       "      <td>8</td>\n",
       "      <td>wet</td>\n",
       "    </tr>\n",
       "    <tr>\n",
       "      <th>3</th>\n",
       "      <td>red</td>\n",
       "      <td>tabby</td>\n",
       "      <td>female</td>\n",
       "      <td>6.1</td>\n",
       "      <td>5</td>\n",
       "      <td>dry</td>\n",
       "    </tr>\n",
       "    <tr>\n",
       "      <th>4</th>\n",
       "      <td>brown</td>\n",
       "      <td>solid</td>\n",
       "      <td>female</td>\n",
       "      <td>5.3</td>\n",
       "      <td>7</td>\n",
       "      <td>dry</td>\n",
       "    </tr>\n",
       "    <tr>\n",
       "      <th>...</th>\n",
       "      <td>...</td>\n",
       "      <td>...</td>\n",
       "      <td>...</td>\n",
       "      <td>...</td>\n",
       "      <td>...</td>\n",
       "      <td>...</td>\n",
       "    </tr>\n",
       "    <tr>\n",
       "      <th>148</th>\n",
       "      <td>brown</td>\n",
       "      <td>tabby</td>\n",
       "      <td>female</td>\n",
       "      <td>6.3</td>\n",
       "      <td>3</td>\n",
       "      <td>dry</td>\n",
       "    </tr>\n",
       "    <tr>\n",
       "      <th>149</th>\n",
       "      <td>black</td>\n",
       "      <td>tabby</td>\n",
       "      <td>female</td>\n",
       "      <td>5.2</td>\n",
       "      <td>5</td>\n",
       "      <td>wet</td>\n",
       "    </tr>\n",
       "    <tr>\n",
       "      <th>150</th>\n",
       "      <td>brown</td>\n",
       "      <td>tabby</td>\n",
       "      <td>female</td>\n",
       "      <td>4.3</td>\n",
       "      <td>3</td>\n",
       "      <td>other</td>\n",
       "    </tr>\n",
       "    <tr>\n",
       "      <th>151</th>\n",
       "      <td>red</td>\n",
       "      <td>tabby</td>\n",
       "      <td>male</td>\n",
       "      <td>3.8</td>\n",
       "      <td>4</td>\n",
       "      <td>wet</td>\n",
       "    </tr>\n",
       "    <tr>\n",
       "      <th>152</th>\n",
       "      <td>black</td>\n",
       "      <td>tortoise</td>\n",
       "      <td>male</td>\n",
       "      <td>4.2</td>\n",
       "      <td>6</td>\n",
       "      <td>dry</td>\n",
       "    </tr>\n",
       "  </tbody>\n",
       "</table>\n",
       "<p>153 rows × 6 columns</p>\n",
       "</div>"
      ],
      "text/plain": [
       "    haircolor hairpattern     sex  weight  age foodtype\n",
       "0         red       solid  female     4.6   12    other\n",
       "1       black       tabby  female     5.5    6      dry\n",
       "2       white       tabby  female     5.6    8      wet\n",
       "3         red       tabby  female     6.1    5      dry\n",
       "4       brown       solid  female     5.3    7      dry\n",
       "..        ...         ...     ...     ...  ...      ...\n",
       "148     brown       tabby  female     6.3    3      dry\n",
       "149     black       tabby  female     5.2    5      wet\n",
       "150     brown       tabby  female     4.3    3    other\n",
       "151       red       tabby    male     3.8    4      wet\n",
       "152     black    tortoise    male     4.2    6      dry\n",
       "\n",
       "[153 rows x 6 columns]"
      ]
     },
     "execution_count": 7,
     "metadata": {},
     "output_type": "execute_result"
    }
   ],
   "source": [
    "cat = pd.read_csv('./catdata.csv', sep=';')\n",
    "cat"
   ]
  },
  {
   "cell_type": "markdown",
   "metadata": {},
   "source": [
    "Pour rappel, le nombre de sous-groupes associés à la variable \"haipattern\" est :"
   ]
  },
  {
   "cell_type": "code",
   "execution_count": 8,
   "metadata": {},
   "outputs": [
    {
     "name": "stdout",
     "output_type": "stream",
     "text": [
      "Il y a 5 sous-groupes distincts\n"
     ]
    }
   ],
   "source": [
    "g = cat.groupby('hairpattern')\n",
    "print('Il y a', np.shape(g)[0], 'sous-groupes distincts')"
   ]
  },
  {
   "cell_type": "markdown",
   "metadata": {},
   "source": [
    "### Création d'un histogramme simple"
   ]
  },
  {
   "cell_type": "markdown",
   "metadata": {},
   "source": [
    "Le tracé d'un histogramme se fait avec la fonction `hist()` de matplotlib."
   ]
  },
  {
   "cell_type": "code",
   "execution_count": 9,
   "metadata": {},
   "outputs": [
    {
     "data": {
      "image/png": "[encoded data removed]",
      "text/plain": [
       "<Figure size 432x288 with 1 Axes>"
      ]
     },
     "metadata": {
      "needs_background": "light"
     },
     "output_type": "display_data"
    }
   ],
   "source": [
    "plt.hist(cat['hairpattern'])\n",
    "plt.title('Histogramme des Hairpattern')\n",
    "plt.xlabel('types de hairpattern')\n",
    "plt.ylabel('effectifs')\n",
    "plt.show()"
   ]
  },
  {
   "cell_type": "markdown",
   "metadata": {},
   "source": [
    "### Création de plusieurs histogrammes dans une même figure"
   ]
  },
  {
   "cell_type": "markdown",
   "metadata": {},
   "source": [
    "A l'intérieur d'une fenêtre ou d'un espace graphique notebook, il est possible d'insérer plusieurs graphiques en les plaçant dans un quadrillage. Pour cela on utilise la fonction `subplot()`. Cette dernière renvoie un tuple contenant deux objets, que l'on nomme communément `fig` et `ax` :\n",
    "* `fig` représente l'objet figure dans lequel on viendra tracer des courbes \n",
    "* `ax` tuple contenant les différents graphiques que l'on souhaite créer (ils seront crées par la suite)\n",
    "\n",
    "Les arguments de la fonction `subplots()` permettent de définir le quadrillage dans lequel seront tracés les graphiques:\n",
    "* `nrows=` : nombre de lignes dans le quadrillage de graphiques\n",
    "* `ncols=` : nombre de colonnes dans le quadrillage de graphiques\n",
    "* `figsize=` : taille de la figure globale (taille du quadrillage)\n",
    "\n",
    "On peut insérer un titre général en haut du quadrillage avec la fonction `suptitle()` et un titre pour chacun des sous graphiques du quadrillage avec la fonction `set_title()`."
   ]
  },
  {
   "cell_type": "code",
   "execution_count": 10,
   "metadata": {},
   "outputs": [
    {
     "data": {
      "image/png": "[encoded data removed]",
      "text/plain": [
       "<Figure size 1080x360 with 2 Axes>"
      ]
     },
     "metadata": {
      "needs_background": "light"
     },
     "output_type": "display_data"
    }
   ],
   "source": [
    "fig, (ax1, ax2) = plt.subplots(nrows=1, ncols=2, figsize=(15, 5))\n",
    "plt.suptitle('Histogrammes des Hairpattern et Haircolor', fontsize=16)\n",
    "ax1.hist(cat['hairpattern'])\n",
    "ax2.hist(cat['haircolor'], color='green')\n",
    "ax1.set_title('Histogramme des Hairpattern')\n",
    "ax2.set_title('Histogramme des Haircolor')\n",
    "plt.subplots_adjust(left=0.2, wspace=0.2, top=0.85) # ajuster la position et l'espacement des graphes\n",
    "plt.show()"
   ]
  },
  {
   "cell_type": "markdown",
   "metadata": {},
   "source": [
    "### Création de diagrammes en bâtons (empilés ou côte-à-côte)\n",
    "\n",
    "#### Diagrammes en bâtons empilés"
   ]
  },
  {
   "cell_type": "code",
   "execution_count": 12,
   "metadata": {},
   "outputs": [
    {
     "data": {
      "image/png": "[encoded data removed]",
      "text/plain": [
       "<Figure size 432x288 with 1 Axes>"
      ]
     },
     "metadata": {
      "needs_background": "light"
     },
     "output_type": "display_data"
    }
   ],
   "source": [
    "# Création du groupe \"sex\", et décompte des individus de chaque sous-grouê (male, female)\n",
    "g = cat.groupby('sex')\n",
    "c_female = g.get_group('female')['hairpattern'].value_counts()\n",
    "c_male = g.get_group('male')['hairpattern'].value_counts()\n",
    "\n",
    "# On extrait les noms des différents hairpattern et des différents sexes\n",
    "hairpat = cat['hairpattern'].value_counts().index\n",
    "gender = cat['sex'].value_counts().index\n",
    "pos = np.arange(len(hairpat))\n",
    "\n",
    "# Création du diagramme en bâtons empilés\n",
    "plt.bar(pos, c_male,color='lightsteelblue')\n",
    "plt.bar(pos, c_female,color='IndianRed', bottom=c_male) # bâtons \"male\" en-dessous des bâtons \"female\"\n",
    "plt.xticks(pos, hairpat)\n",
    "plt.xlabel('Hairpattern', fontsize=14)\n",
    "plt.title('Diagramme en bâtons empilés - répartition des hairpattern en fonction du sexe',fontsize=15)\n",
    "plt.legend(gender,loc=1) # loc=1 ==> légende placée dans le coin n°1, cad en haut à droite.\n",
    "plt.show()"
   ]
  },
  {
   "cell_type": "markdown",
   "metadata": {},
   "source": [
    "#### Diagrammes en bâtons côte-à-côte"
   ]
  },
  {
   "cell_type": "code",
   "execution_count": 13,
   "metadata": {},
   "outputs": [
    {
     "data": {
      "image/png": "[encoded data removed]",
      "text/plain": [
       "<Figure size 432x288 with 1 Axes>"
      ]
     },
     "metadata": {
      "needs_background": "light"
     },
     "output_type": "display_data"
    }
   ],
   "source": [
    "# Création du groupe \"sex\", et décompte des individus de chaque sous-grouê (male, female)\n",
    "g = cat.groupby('sex')\n",
    "c_female = g.get_group('female')['hairpattern'].value_counts()\n",
    "c_male = g.get_group('male')['hairpattern'].value_counts()\n",
    "\n",
    "# On extrait les noms des différents hairpattern et des différents sexes\n",
    "hairpat = cat['hairpattern'].value_counts().index\n",
    "gender = cat['sex'].value_counts().index\n",
    "pos = np.arange(len(hairpat))\n",
    "width = 0.35  # épaisseur de chaque bâton\n",
    "\n",
    "# Création du diagramme en bâtons (bâtons côte à côte)\n",
    "plt.bar(pos - width/2, c_male, width, color='lightsteelblue')\n",
    "plt.bar(pos + width/2,c_female, width, color='IndianRed')\n",
    "plt.xticks(pos, hairpat)\n",
    "plt.xlabel('Hairpattern', fontsize=14)\n",
    "plt.title('Diagramme en bâtons - répartition des hairpattern en fonction du sexe',fontsize=15)\n",
    "plt.legend(gender,loc=1)\n",
    "plt.show()"
   ]
  },
  {
   "cell_type": "markdown",
   "metadata": {},
   "source": [
    "## Diagramme circulaire (pie chart)\n",
    "\n",
    "**But** : Représenter les proportions des modalités d'une variable discrète."
   ]
  },
  {
   "cell_type": "markdown",
   "metadata": {},
   "source": [
    "Considérons ici à nouveau le jeu de données `catdata.csv`.  \n",
    "On souhaite représenter dans un diagramme circulaire la proportion des différents *hair patterns*.  \n",
    "Cette quantité n'est pas directement disponible dans le dataframe d'origine. Mais il suffit d'utiliser la fonction `value_counts` :"
   ]
  },
  {
   "cell_type": "code",
   "execution_count": 14,
   "metadata": {},
   "outputs": [
    {
     "data": {
      "text/plain": [
       "tabby         60\n",
       "solid         34\n",
       "tipped        22\n",
       "tortoise      19\n",
       "colorpoint    18\n",
       "Name: hairpattern, dtype: int64"
      ]
     },
     "execution_count": 14,
     "metadata": {},
     "output_type": "execute_result"
    }
   ],
   "source": [
    "proportion_pattern = cat['hairpattern'].value_counts() \n",
    "proportion_pattern # la variable proportion_pattern est ici une Pandas Series "
   ]
  },
  {
   "cell_type": "markdown",
   "metadata": {},
   "source": [
    "On extrait les noms des différents type de *hair patterns*. Ils correspondent aux lignes (`index`) de la série 'proportion_pattern' créée précédemment."
   ]
  },
  {
   "cell_type": "code",
   "execution_count": 15,
   "metadata": {},
   "outputs": [
    {
     "data": {
      "text/plain": [
       "Index(['tabby', 'solid', 'tipped', 'tortoise', 'colorpoint'], dtype='object')"
      ]
     },
     "execution_count": 15,
     "metadata": {},
     "output_type": "execute_result"
    }
   ],
   "source": [
    "labels = proportion_pattern.index\n",
    "labels"
   ]
  },
  {
   "cell_type": "markdown",
   "metadata": {},
   "source": [
    "Le diagramme circulaire se trace à l'aide de la fonction `pie` de matplotlib. On peut citer quelques options de base comme :\n",
    "* `labels` : les étiquettes données à chaque part du diagramme\n",
    "* `startangle` : angle qui marque le début du diagramme\n",
    "\n",
    "La ligne `ax.axis('equal')` permet d'assurer que la forme finale du diagramme sera bien un cercle et non une ellipse.\n",
    "\n",
    "*Remarque* : Le diagramme tourne dans le sens contraire des aiguilles d'une montre (ici il commence donc par 'Tabby' puis 'Solid', etc ... jusqu'à 'Colorpoint')."
   ]
  },
  {
   "cell_type": "code",
   "execution_count": 16,
   "metadata": {},
   "outputs": [
    {
     "data": {
      "image/png": "[encoded data removed]",
      "text/plain": [
       "<Figure size 432x288 with 1 Axes>"
      ]
     },
     "metadata": {},
     "output_type": "display_data"
    }
   ],
   "source": [
    "fig, ax = plt.subplots()\n",
    "ax.pie(proportion_pattern, labels=labels, startangle=90)\n",
    "ax.axis('equal')\n",
    "plt.show()"
   ]
  },
  {
   "cell_type": "markdown",
   "metadata": {},
   "source": [
    "Il est possible de tracer des diagrammes circulaires un peu plus sophistiqués avec les options suivantes :\n",
    "* `explode` : permet d'extraire une ou plusieurs des parts du diagramme pour les mettre en valeur. La valeur à donner à cet argument optionnel est un tuple indiquant la distance de chaque part du diagramme par rapport au centre.\n",
    "* `autopct` : permet d'afficher la valeur de la proportion de chaque modalité. La valeur à donner à cet argument optionnel est le format d'affichage.\n",
    "* `shadow` (=True ou False) : affiche une ombre projetée"
   ]
  },
  {
   "cell_type": "code",
   "execution_count": 17,
   "metadata": {},
   "outputs": [
    {
     "data": {
      "image/png": "[encoded data removed]",
      "text/plain": [
       "<Figure size 432x288 with 1 Axes>"
      ]
     },
     "metadata": {},
     "output_type": "display_data"
    }
   ],
   "source": [
    "explode = (0, 0.2, 0, 0, 0)  # on isole seulement la deuxième part (c.a.d 'solid')\n",
    "\n",
    "fig, ax = plt.subplots()\n",
    "ax.pie(proportion_pattern, labels=labels, explode=explode, \n",
    "       autopct='%1.1f%%', shadow=True, startangle=90)\n",
    "ax.axis('equal')\n",
    "plt.title('Répartition des hair patterns', fontsize=14)\n",
    "plt.show()"
   ]
  },
  {
   "cell_type": "markdown",
   "metadata": {},
   "source": [
    "## Nuages de points (scatter plots)\n",
    "\n",
    "**But** : Représenter la relation entre deux variables continues."
   ]
  },
  {
   "cell_type": "markdown",
   "metadata": {},
   "source": [
    "On considère le jeu de données `mtcars.csv` vu lors des séances précédentes.  \n",
    "On souhaite représenter à l'aide d'un nuage de points la variable 'Qsec' (temps pour atteidre le quart de miles) en fonction de la variable 'wt' (poids de la voiture)."
   ]
  },
  {
   "cell_type": "code",
   "execution_count": 18,
   "metadata": {},
   "outputs": [
    {
     "data": {
      "text/html": [
       "<div>\n",
       "<style scoped>\n",
       "    .dataframe tbody tr th:only-of-type {\n",
       "        vertical-align: middle;\n",
       "    }\n",
       "\n",
       "    .dataframe tbody tr th {\n",
       "        vertical-align: top;\n",
       "    }\n",
       "\n",
       "    .dataframe thead th {\n",
       "        text-align: right;\n",
       "    }\n",
       "</style>\n",
       "<table border=\"1\" class=\"dataframe\">\n",
       "  <thead>\n",
       "    <tr style=\"text-align: right;\">\n",
       "      <th></th>\n",
       "      <th>Unnamed: 0</th>\n",
       "      <th>mpg</th>\n",
       "      <th>cyl</th>\n",
       "      <th>disp</th>\n",
       "      <th>hp</th>\n",
       "      <th>drat</th>\n",
       "      <th>wt</th>\n",
       "      <th>qsec</th>\n",
       "      <th>vs</th>\n",
       "      <th>am</th>\n",
       "      <th>gear</th>\n",
       "      <th>carb</th>\n",
       "    </tr>\n",
       "  </thead>\n",
       "  <tbody>\n",
       "    <tr>\n",
       "      <th>0</th>\n",
       "      <td>Mazda RX4</td>\n",
       "      <td>21.0</td>\n",
       "      <td>6</td>\n",
       "      <td>160.0</td>\n",
       "      <td>110</td>\n",
       "      <td>3.90</td>\n",
       "      <td>2.620</td>\n",
       "      <td>16.46</td>\n",
       "      <td>0</td>\n",
       "      <td>1</td>\n",
       "      <td>4</td>\n",
       "      <td>4</td>\n",
       "    </tr>\n",
       "    <tr>\n",
       "      <th>1</th>\n",
       "      <td>Mazda RX4 Wag</td>\n",
       "      <td>21.0</td>\n",
       "      <td>6</td>\n",
       "      <td>160.0</td>\n",
       "      <td>110</td>\n",
       "      <td>3.90</td>\n",
       "      <td>2.875</td>\n",
       "      <td>17.02</td>\n",
       "      <td>0</td>\n",
       "      <td>1</td>\n",
       "      <td>4</td>\n",
       "      <td>4</td>\n",
       "    </tr>\n",
       "    <tr>\n",
       "      <th>2</th>\n",
       "      <td>Datsun 710</td>\n",
       "      <td>22.8</td>\n",
       "      <td>4</td>\n",
       "      <td>108.0</td>\n",
       "      <td>93</td>\n",
       "      <td>3.85</td>\n",
       "      <td>2.320</td>\n",
       "      <td>18.61</td>\n",
       "      <td>1</td>\n",
       "      <td>1</td>\n",
       "      <td>4</td>\n",
       "      <td>1</td>\n",
       "    </tr>\n",
       "    <tr>\n",
       "      <th>3</th>\n",
       "      <td>Hornet 4 Drive</td>\n",
       "      <td>21.4</td>\n",
       "      <td>6</td>\n",
       "      <td>258.0</td>\n",
       "      <td>110</td>\n",
       "      <td>3.08</td>\n",
       "      <td>3.215</td>\n",
       "      <td>19.44</td>\n",
       "      <td>1</td>\n",
       "      <td>0</td>\n",
       "      <td>3</td>\n",
       "      <td>1</td>\n",
       "    </tr>\n",
       "    <tr>\n",
       "      <th>4</th>\n",
       "      <td>Hornet Sportabout</td>\n",
       "      <td>18.7</td>\n",
       "      <td>8</td>\n",
       "      <td>360.0</td>\n",
       "      <td>175</td>\n",
       "      <td>3.15</td>\n",
       "      <td>3.440</td>\n",
       "      <td>17.02</td>\n",
       "      <td>0</td>\n",
       "      <td>0</td>\n",
       "      <td>3</td>\n",
       "      <td>2</td>\n",
       "    </tr>\n",
       "    <tr>\n",
       "      <th>...</th>\n",
       "      <td>...</td>\n",
       "      <td>...</td>\n",
       "      <td>...</td>\n",
       "      <td>...</td>\n",
       "      <td>...</td>\n",
       "      <td>...</td>\n",
       "      <td>...</td>\n",
       "      <td>...</td>\n",
       "      <td>...</td>\n",
       "      <td>...</td>\n",
       "      <td>...</td>\n",
       "      <td>...</td>\n",
       "    </tr>\n",
       "    <tr>\n",
       "      <th>27</th>\n",
       "      <td>Lotus Europa</td>\n",
       "      <td>30.4</td>\n",
       "      <td>4</td>\n",
       "      <td>95.1</td>\n",
       "      <td>113</td>\n",
       "      <td>3.77</td>\n",
       "      <td>1.513</td>\n",
       "      <td>16.90</td>\n",
       "      <td>1</td>\n",
       "      <td>1</td>\n",
       "      <td>5</td>\n",
       "      <td>2</td>\n",
       "    </tr>\n",
       "    <tr>\n",
       "      <th>28</th>\n",
       "      <td>Ford Pantera L</td>\n",
       "      <td>15.8</td>\n",
       "      <td>8</td>\n",
       "      <td>351.0</td>\n",
       "      <td>264</td>\n",
       "      <td>4.22</td>\n",
       "      <td>3.170</td>\n",
       "      <td>14.50</td>\n",
       "      <td>0</td>\n",
       "      <td>1</td>\n",
       "      <td>5</td>\n",
       "      <td>4</td>\n",
       "    </tr>\n",
       "    <tr>\n",
       "      <th>29</th>\n",
       "      <td>Ferrari Dino</td>\n",
       "      <td>19.7</td>\n",
       "      <td>6</td>\n",
       "      <td>145.0</td>\n",
       "      <td>175</td>\n",
       "      <td>3.62</td>\n",
       "      <td>2.770</td>\n",
       "      <td>15.50</td>\n",
       "      <td>0</td>\n",
       "      <td>1</td>\n",
       "      <td>5</td>\n",
       "      <td>6</td>\n",
       "    </tr>\n",
       "    <tr>\n",
       "      <th>30</th>\n",
       "      <td>Maserati Bora</td>\n",
       "      <td>15.0</td>\n",
       "      <td>8</td>\n",
       "      <td>301.0</td>\n",
       "      <td>335</td>\n",
       "      <td>3.54</td>\n",
       "      <td>3.570</td>\n",
       "      <td>14.60</td>\n",
       "      <td>0</td>\n",
       "      <td>1</td>\n",
       "      <td>5</td>\n",
       "      <td>8</td>\n",
       "    </tr>\n",
       "    <tr>\n",
       "      <th>31</th>\n",
       "      <td>Volvo 142E</td>\n",
       "      <td>21.4</td>\n",
       "      <td>4</td>\n",
       "      <td>121.0</td>\n",
       "      <td>109</td>\n",
       "      <td>4.11</td>\n",
       "      <td>2.780</td>\n",
       "      <td>18.60</td>\n",
       "      <td>1</td>\n",
       "      <td>1</td>\n",
       "      <td>4</td>\n",
       "      <td>2</td>\n",
       "    </tr>\n",
       "  </tbody>\n",
       "</table>\n",
       "<p>32 rows × 12 columns</p>\n",
       "</div>"
      ],
      "text/plain": [
       "           Unnamed: 0   mpg  cyl   disp   hp  drat     wt   qsec  vs  am  \\\n",
       "0           Mazda RX4  21.0    6  160.0  110  3.90  2.620  16.46   0   1   \n",
       "1       Mazda RX4 Wag  21.0    6  160.0  110  3.90  2.875  17.02   0   1   \n",
       "2          Datsun 710  22.8    4  108.0   93  3.85  2.320  18.61   1   1   \n",
       "3      Hornet 4 Drive  21.4    6  258.0  110  3.08  3.215  19.44   1   0   \n",
       "4   Hornet Sportabout  18.7    8  360.0  175  3.15  3.440  17.02   0   0   \n",
       "..                ...   ...  ...    ...  ...   ...    ...    ...  ..  ..   \n",
       "27       Lotus Europa  30.4    4   95.1  113  3.77  1.513  16.90   1   1   \n",
       "28     Ford Pantera L  15.8    8  351.0  264  4.22  3.170  14.50   0   1   \n",
       "29       Ferrari Dino  19.7    6  145.0  175  3.62  2.770  15.50   0   1   \n",
       "30      Maserati Bora  15.0    8  301.0  335  3.54  3.570  14.60   0   1   \n",
       "31         Volvo 142E  21.4    4  121.0  109  4.11  2.780  18.60   1   1   \n",
       "\n",
       "    gear  carb  \n",
       "0      4     4  \n",
       "1      4     4  \n",
       "2      4     1  \n",
       "3      3     1  \n",
       "4      3     2  \n",
       "..   ...   ...  \n",
       "27     5     2  \n",
       "28     5     4  \n",
       "29     5     6  \n",
       "30     5     8  \n",
       "31     4     2  \n",
       "\n",
       "[32 rows x 12 columns]"
      ]
     },
     "execution_count": 18,
     "metadata": {},
     "output_type": "execute_result"
    }
   ],
   "source": [
    "cars = pd.read_csv('./mtcars.csv')\n",
    "cars"
   ]
  },
  {
   "cell_type": "markdown",
   "metadata": {},
   "source": [
    "Un nuage de points se trace à l'aide de la fonction `scatter` de matplotlib. Il est possible de spécifier les options suivantes :\n",
    "* `marker` : le type de symboles utilisés pour représenter le nuage de points (par défaut : marker='o', un point)\n",
    "* `color` : la couleur des symboles (par défaut : color=blue)\n",
    "* `s`: la taille des symboles (par défaut : s=20) \n",
    "\n",
    "$\\underline{\\it{Remarque}}$ : Pour plus d'options et de détails sur la construction d'un nuage de points on pourra se référer à : http://www.python-simple.com/python-matplotlib/scatterplot.php"
   ]
  },
  {
   "cell_type": "code",
   "execution_count": 19,
   "metadata": {},
   "outputs": [
    {
     "data": {
      "image/png": "[encoded data removed]",
      "text/plain": [
       "<Figure size 432x288 with 1 Axes>"
      ]
     },
     "metadata": {
      "needs_background": "light"
     },
     "output_type": "display_data"
    }
   ],
   "source": [
    "plt.scatter(cars['wt'], cars['qsec'], color='purple', s=100, marker='*')\n",
    "plt.title('Qsec en fonction du poids de la voiture')\n",
    "plt.xlabel('poids')\n",
    "plt.ylabel('1/4 mile time (qsec)')\n",
    "plt.show()"
   ]
  },
  {
   "cell_type": "markdown",
   "metadata": {},
   "source": [
    "## Diagramme en boîte (box plot)\n",
    "\n",
    "**But** : Le diagramme en boîte (aussi appelé boîte à moustaches) résume graphiquement les caractéristiques statistiques principales (médiane, quartiles, minimum, maximum ou déciles) d'une variable continue.\n",
    "\n",
    "**Rappel** : Le *quartile* est calculé en tant que 4-quantiles :\n",
    "\n",
    "* le 1er quartile est la donnée de la série qui sépare les 25 % inférieurs des données\n",
    "* le 2e quartile est la donnée de la série qui sépare la série en deux parties (50 %) de la série. il est également appelé médiane\n",
    "* le 3e quartile est la donnée de la série qui sépare les 25 % supérieurs des données.\n"
   ]
  },
  {
   "cell_type": "markdown",
   "metadata": {},
   "source": [
    "On considère le jeu de donneés `catdata.csv`.  \n",
    "On souhaite représenter les caractéristiques principales de la variable 'age' pour chaque type de 'hairpattern'.  \n",
    "Pour tracer un diagramme en boîte on peut utiliser la fonction `boxplot` de `matplotlib`, mais dans le cas où on manipule des dataframes (comme dans le cadre de ce cours), on pourra utiliser la fonction `boxplot` de `pandas` (ie pandas.DataFrame.boxplot) : le tracé du diagramme en boîte sera alors bien plus simple et se fera en 1 ou 2 lignes.  \n",
    "\n",
    "On applique donc la fonction `boxplot` directement à notre dataframe pandas. Les arguments principaux à donner sont :\n",
    "* `column` : colonne du dataframe dont on souhaite connaître les caractéristiques statistiques. Ici colomn='age'.\n",
    "* `by` : colonne du dataframe par rapport à laquelle on souhaite faire un group_by (ici by='hairpattern')"
   ]
  },
  {
   "cell_type": "code",
   "execution_count": 20,
   "metadata": {},
   "outputs": [
    {
     "data": {
      "image/png": "[encoded data removed]",
      "text/plain": [
       "<Figure size 432x288 with 1 Axes>"
      ]
     },
     "metadata": {
      "needs_background": "light"
     },
     "output_type": "display_data"
    }
   ],
   "source": [
    "axes = cat.boxplot(column='age', by='hairpattern')"
   ]
  },
  {
   "cell_type": "markdown",
   "metadata": {},
   "source": [
    "$\\rightarrow$ Chaque boîte donne les limites du premier et dernier **quartile** d'âge, la barre du milieu donne la **médiane**, les moustaches vont jusqu'à la **valeur** la plus **extrême** dans la limite de 1.5 fois la hauteur de la boîte, et les points au-delà des moustaches sont représentés par des points isolés."
   ]
  },
  {
   "cell_type": "markdown",
   "metadata": {},
   "source": [
    "Pour supprimer le titre automatique \"Boxplot grouped by hairpattern\", on peut ajouter la ligne `plt.suptitle(\"\")` :"
   ]
  },
  {
   "cell_type": "code",
   "execution_count": 21,
   "metadata": {},
   "outputs": [
    {
     "data": {
      "text/plain": [
       "Text(0.5, 0.98, '')"
      ]
     },
     "execution_count": 21,
     "metadata": {},
     "output_type": "execute_result"
    },
    {
     "data": {
      "image/png": "[encoded data removed]",
      "text/plain": [
       "<Figure size 432x288 with 1 Axes>"
      ]
     },
     "metadata": {
      "needs_background": "light"
     },
     "output_type": "display_data"
    }
   ],
   "source": [
    "axes = cat.boxplot(column='age', by='hairpattern')\n",
    "plt.suptitle(\"\")"
   ]
  },
  {
   "cell_type": "markdown",
   "metadata": {},
   "source": [
    "Si on omet de spécifier la variable `column`, alors une figure à quadrillage sera automatiquement créée et chaque case du quadrillage sera complétée par un diagramme en boîte correspondant à chacune des variables quantitatives du dataframe :"
   ]
  },
  {
   "cell_type": "code",
   "execution_count": 22,
   "metadata": {},
   "outputs": [
    {
     "data": {
      "image/png": "[encoded data removed]",
      "text/plain": [
       "<Figure size 1152x360 with 2 Axes>"
      ]
     },
     "metadata": {
      "needs_background": "light"
     },
     "output_type": "display_data"
    }
   ],
   "source": [
    "cat.boxplot(by='hairpattern', figsize=(16,5))\n",
    "plt.suptitle(\"Diagrammes en boîte pour les différents hairpattern\", fontsize=14)\n",
    "plt.subplots_adjust(left=0.2, wspace=0.2, top=0.85)"
   ]
  },
  {
   "cell_type": "markdown",
   "metadata": {},
   "source": [
    "## Mise en page, personnalisation des graphiques\n",
    "\n",
    "Voici une liste non exhaustive de liens de référence pour la création et la customisation de graphiques :\n",
    "\n",
    "* **ensemble des graphes réalisables avec matplotlib** : https://matplotlib.org/gallery/index.html\n",
    "* **ajout de texte sur un graphique** : http://www.python-simple.com/python-matplotlib/ajout-text.php\n",
    "* **liste des couleurs possibles pour les graphes** : https://matplotlib.org/gallery/color/named_colors.html#sphx-glr-gallery-color-named-colors-py"
   ]
  }
 ],
 "metadata": {
  "kernelspec": {
   "display_name": "Python 3",
   "language": "python",
   "name": "python3"
  },
  "language_info": {
   "codemirror_mode": {
    "name": "ipython",
    "version": 3
   },
   "file_extension": ".py",
   "mimetype": "text/x-python",
   "name": "python",
   "nbconvert_exporter": "python",
   "pygments_lexer": "ipython3",
   "version": "3.6.9"
  }
 },
 "nbformat": 4,
 "nbformat_minor": 2
}
