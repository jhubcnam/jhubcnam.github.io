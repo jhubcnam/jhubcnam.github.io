{
 "cells": [
  {
   "cell_type": "markdown",
   "metadata": {},
   "source": [
    "<img\n",
    "    src=\"https://upload.wikimedia.org/wikipedia/commons/4/42/CNAM_Logo.svg\" \n",
    "    alt=\"\"\n",
    "    height=\"200px\" \n",
    "    width=\"200px\"\n",
    "    align=left\n",
    "/> \n",
    "\n",
    "<center> <br>\n",
    "  <h1 style=\"color:#7c7979\";></h1>\n",
    "</center>  \n",
    "\n",
    "<center>\n",
    "  <h1 style=\"color:#000000\";>Interactivité des carnets avec IPywidgets en Python</h1>\n",
    "</center> \n"
   ]
  },
  {
   "cell_type": "markdown",
   "metadata": {
    "slideshow": {
     "slide_type": "slide"
    }
   },
   "source": [
    "Ce carnet n'a pas vocation à faire une démonstration exaustive de toutes les fonctionnalités de la librairie `IPywidgets`. Il fournit quelques éléments essentiels pour rendre intéractif l'affichage et le tracé des données.\n",
    "\n",
    "Pour une description complète de la librairie IPywidgets consulter la [documentation de Jupyter Widgets](http://ipywidgets.readthedocs.io/en/latest/index.html)."
   ]
  },
  {
   "cell_type": "markdown",
   "metadata": {
    "slideshow": {
     "slide_type": "slide"
    }
   },
   "source": [
    "## 1 - Qu'est-ce qu'un widget ?\n",
    "**Widget** : contraction de l'anglais *windows* et *gadget* (gadget fenêtre).   \n",
    "Les widgets sont tous les objets graphiques que l'on peut insérer dans une interface (fenêtre).\n",
    "\n",
    "Chaque widget a des propriétés et des méthodes qui permettent de régler son apparence et les interactions avec l'utilisateur."
   ]
  },
  {
   "cell_type": "markdown",
   "metadata": {
    "slideshow": {
     "slide_type": "slide"
    }
   },
   "source": [
    "La librairie `IPywidgets` met à disposition un ensemble de widgets HTML interactifs pour les notebooks Jupyter (avec un noyau python).\n",
    "\n",
    "Ces widgets interactifs rendent les notebooks dynamiques en donnant la possibilité à l'utilisateur de contrôler ses données et de visualiser les changements directement au niveau des données ou des graphes qui en sont issus."
   ]
  },
  {
   "cell_type": "markdown",
   "metadata": {
    "slideshow": {
     "slide_type": "slide"
    }
   },
   "source": [
    "Pour utiliser la librairie `IPywidgets` on fait l'import suivant (où un alias est utilisé pour renommer ipywidgets en widgets) :"
   ]
  },
  {
   "cell_type": "code",
   "execution_count": 15,
   "metadata": {
    "slideshow": {
     "slide_type": "-"
    }
   },
   "outputs": [],
   "source": [
    "import ipywidgets as widgets\n",
    "import warnings\n",
    "warnings.filterwarnings('ignore')"
   ]
  },
  {
   "cell_type": "markdown",
   "metadata": {
    "slideshow": {
     "slide_type": "slide"
    }
   },
   "source": [
    "## 2 - Les widgets de IPywidgets\n",
    "\n",
    "Il existe de nombreux widgets distribués avec IPython. Les principaux sont les suivants\n",
    "* les **widgets numériques** : ils permettent le choix et l'affichage de nombres entiers ou flottants\n",
    "    * les curseurs (*sliders*)\n",
    "    * les barres de progression\n",
    "    * les barre de texte avec saisie numérique (*IntText, FloatText*)\n",
    "    * ...\n",
    "* les **widgets booléens** : ils permettent de choisir entre deux options (binaire)\n",
    "    * les boutons de commande (*toggle boxes*)\n",
    "    * les cases à cocher (*checkboxes*)\n",
    "    * ...\n",
    "* les **widgets de selection** : ils permettent d'afficher une liste de choix\n",
    "    * les menus déroulant (*dropdown*)\n",
    "    * les *radiobuttons* (façon cases de QCM à cocher)\n",
    "    * les listes de choix (*select*)\n",
    "    * ...\n",
    "* les **widgets de chaînes de caractères** : ils permettent l'affichage d'une zone de texte dédiée à la saisie\n",
    "\n",
    "$\\rightarrow$ Tous ces widgets sont répertoriés et documentés en détail dans la [Widget List](http://ipywidgets.readthedocs.io/en/latest/examples/Widget%20List.html) de la documentation de Jupyter Widgets."
   ]
  },
  {
   "cell_type": "markdown",
   "metadata": {
    "slideshow": {
     "slide_type": "slide"
    }
   },
   "source": [
    "On décrit seulement ici à titre d'illustration les widgets de type *Sliders* et *Select*.\n",
    "\n",
    "### Les *Sliders*\n",
    "\n",
    "#### Les *sliders* à valeurs entières : `IntSlider` "
   ]
  },
  {
   "cell_type": "code",
   "execution_count": 2,
   "metadata": {
    "slideshow": {
     "slide_type": "-"
    }
   },
   "outputs": [
    {
     "data": {
      "application/vnd.jupyter.widget-view+json": {
       "model_id": "c92962e51acf44a5a95f45d77afc7d9b",
       "version_major": 2,
       "version_minor": 0
      },
      "text/plain": [
       "IntSlider(value=7, description='Test:', max=10)"
      ]
     },
     "metadata": {},
     "output_type": "display_data"
    }
   ],
   "source": [
    "widgets.IntSlider(\n",
    "    value=7,\n",
    "    min=0,\n",
    "    max=10,\n",
    "    step=1,\n",
    "    description='Test:',\n",
    "    orientation='horizontal'\n",
    ")"
   ]
  },
  {
   "cell_type": "markdown",
   "metadata": {
    "slideshow": {
     "slide_type": "slide"
    }
   },
   "source": [
    "#### Les *sliders* à valeurs entières : `FloatSlider` "
   ]
  },
  {
   "cell_type": "code",
   "execution_count": 3,
   "metadata": {
    "slideshow": {
     "slide_type": "-"
    }
   },
   "outputs": [
    {
     "data": {
      "application/vnd.jupyter.widget-view+json": {
       "model_id": "6062e5065d7b439686fe03949ecaf360",
       "version_major": 2,
       "version_minor": 0
      },
      "text/plain": [
       "FloatSlider(value=7.5, description='Test:', max=10.0)"
      ]
     },
     "metadata": {},
     "output_type": "display_data"
    }
   ],
   "source": [
    "widgets.FloatSlider(\n",
    "    value=7.5,\n",
    "    min=0,\n",
    "    max=10.0,\n",
    "    step=0.1,\n",
    "    description='Test:',\n",
    "    orientation='horizontal',\n",
    ")"
   ]
  },
  {
   "cell_type": "markdown",
   "metadata": {
    "slideshow": {
     "slide_type": "slide"
    }
   },
   "source": [
    "### Les *Select*"
   ]
  },
  {
   "cell_type": "code",
   "execution_count": 4,
   "metadata": {
    "slideshow": {
     "slide_type": "-"
    }
   },
   "outputs": [
    {
     "data": {
      "application/vnd.jupyter.widget-view+json": {
       "model_id": "90b14f9b003e4c779f0afb2246d2d9b8",
       "version_major": 2,
       "version_minor": 0
      },
      "text/plain": [
       "Select(description='Langage:', index=1, options=('R', 'Python'), value='Python')"
      ]
     },
     "metadata": {},
     "output_type": "display_data"
    }
   ],
   "source": [
    "widgets.Select(\n",
    "    options=['R', 'Python'],\n",
    "    value='Python',\n",
    "    # rows=10,\n",
    "    description='Langage:',\n",
    "    disabled=False\n",
    ")"
   ]
  },
  {
   "cell_type": "markdown",
   "metadata": {
    "slideshow": {
     "slide_type": "slide"
    }
   },
   "source": [
    "## 3 - La fonction `interactive`"
   ]
  },
  {
   "cell_type": "markdown",
   "metadata": {
    "slideshow": {
     "slide_type": "-"
    }
   },
   "source": [
    "La fonction `interactive` de ipywidgets créé automatiquement une interface utilisateur (UI) pour explorer du code et des données de façon intéractive."
   ]
  },
  {
   "cell_type": "code",
   "execution_count": 5,
   "metadata": {
    "slideshow": {
     "slide_type": "-"
    }
   },
   "outputs": [],
   "source": [
    "from ipywidgets import interactive"
   ]
  },
  {
   "cell_type": "markdown",
   "metadata": {
    "slideshow": {
     "slide_type": "-"
    }
   },
   "source": [
    "Pour utiliser `interactive`, il suffit de définir une fonction ainsi que les arguments de cette fonction que l'on souhaite pouvoir contrôler et modifier de façon intéractive, et `interactive` génère une UI."
   ]
  },
  {
   "cell_type": "code",
   "execution_count": 6,
   "metadata": {
    "slideshow": {
     "slide_type": "slide"
    }
   },
   "outputs": [],
   "source": [
    "def f(x):\n",
    "    print(x + 1)\n",
    "    return x + 1"
   ]
  },
  {
   "cell_type": "markdown",
   "metadata": {
    "slideshow": {
     "slide_type": "-"
    }
   },
   "source": [
    "$\\rightarrow$ On définit une simple fonction `f` ayant pour argument `x` et qui renvoie `x+1`.  \n",
    "\n",
    "Lorsque l'on donne cette fonction `f` comme premier argument à `interactive` suivie de l'argument `x=10`, un widget de type `IntSlider` est alors généré automatiquement. La valeur choisie par l'utilisateur sur ce slider déterminera la valeur de l'argument `x` qui sera passé à la fonction `f`."
   ]
  },
  {
   "cell_type": "code",
   "execution_count": 7,
   "metadata": {
    "slideshow": {
     "slide_type": "-"
    }
   },
   "outputs": [
    {
     "data": {
      "application/vnd.jupyter.widget-view+json": {
       "model_id": "686982d11d1f4c51970d41cf2a245888",
       "version_major": 2,
       "version_minor": 0
      },
      "text/plain": [
       "interactive(children=(IntSlider(value=10, description='x', max=30, min=-10), Output()), _dom_classes=('widget-…"
      ]
     },
     "metadata": {},
     "output_type": "display_data"
    }
   ],
   "source": [
    "interactive(f, x=10)"
   ]
  },
  {
   "cell_type": "code",
   "execution_count": 8,
   "metadata": {
    "slideshow": {
     "slide_type": "slide"
    }
   },
   "outputs": [],
   "source": [
    "w = interactive(f, x=10)"
   ]
  },
  {
   "cell_type": "markdown",
   "metadata": {
    "slideshow": {
     "slide_type": "-"
    }
   },
   "source": [
    "$\\rightarrow$ On peut stocker ce widget dans une variable afin de pouvoir le réutiliser ultérieurement."
   ]
  },
  {
   "cell_type": "code",
   "execution_count": 9,
   "metadata": {
    "slideshow": {
     "slide_type": "-"
    }
   },
   "outputs": [
    {
     "data": {
      "text/plain": [
       "ipywidgets.widgets.interaction.interactive"
      ]
     },
     "execution_count": 9,
     "metadata": {},
     "output_type": "execute_result"
    }
   ],
   "source": [
    "type(w)"
   ]
  },
  {
   "cell_type": "markdown",
   "metadata": {
    "slideshow": {
     "slide_type": "-"
    }
   },
   "source": [
    "$\\rightarrow$ Le type de la variable `w` est bien un *widget interactive*."
   ]
  },
  {
   "cell_type": "code",
   "execution_count": 10,
   "metadata": {
    "slideshow": {
     "slide_type": "slide"
    }
   },
   "outputs": [
    {
     "data": {
      "application/vnd.jupyter.widget-view+json": {
       "model_id": "7bf1e1f7b3044cafa0cb95576c0b2880",
       "version_major": 2,
       "version_minor": 0
      },
      "text/plain": [
       "interactive(children=(IntSlider(value=10, description='x', max=30, min=-10), Output()), _dom_classes=('widget-…"
      ]
     },
     "metadata": {},
     "output_type": "display_data"
    }
   ],
   "source": [
    "w"
   ]
  },
  {
   "cell_type": "markdown",
   "metadata": {
    "slideshow": {
     "slide_type": "-"
    }
   },
   "source": [
    "$\\rightarrow$ Lorsque l'on appelle la variable `w`, le widget s'affiche.  \n",
    "Tout comme précédemment, la fonction `f` sera appelée à partir de la valeur de son argument `x` choisie par l'utilisateur sur le slider."
   ]
  },
  {
   "cell_type": "markdown",
   "metadata": {
    "slideshow": {
     "slide_type": "slide"
    }
   },
   "source": [
    "### Les abréviations"
   ]
  },
  {
   "cell_type": "markdown",
   "metadata": {
    "slideshow": {
     "slide_type": "-"
    }
   },
   "source": [
    "Lorsque l'on passe l'argument `x=10` à `interactive`, un *slider* de valeurs entières est automatiquement créé avec des valeurs comprises dans l'intervalle [-10,+3 x 10].  \n",
    "Dans ce cas `10` est une abréviation pour désigner un widget de type `IntSlider`, dont seul l'argument `value` est renseigné et mis à `10` (les autres sont laissés à leur valeur par défaut):\n",
    "```\n",
    "widgets.IntSlider(value=10)\n",
    "``` \n",
    "\n",
    "A présent, on peut donc appeler `interactive` en spécifiant les propriétés du *slider* :"
   ]
  },
  {
   "cell_type": "code",
   "execution_count": 11,
   "metadata": {
    "slideshow": {
     "slide_type": "-"
    }
   },
   "outputs": [
    {
     "data": {
      "application/vnd.jupyter.widget-view+json": {
       "model_id": "d948b19408a34fb79e53aa863f3edfd4",
       "version_major": 2,
       "version_minor": 0
      },
      "text/plain": [
       "interactive(children=(IntSlider(value=30, description='x', max=50, min=-10, step=2), Output()), _dom_classes=(…"
      ]
     },
     "metadata": {},
     "output_type": "display_data"
    }
   ],
   "source": [
    "interactive(f, x=widgets.IntSlider(min=-10,max=50,step=2,value=30))"
   ]
  },
  {
   "cell_type": "markdown",
   "metadata": {
    "slideshow": {
     "slide_type": "slide"
    }
   },
   "source": [
    "Pour une syntaxte plus compacte, on peut donner comme valeur à l'argument `x` un tuple de taille 3 correspondant aux valeurs `(min,max,step)`. \n",
    "* Si les valeurs du tuple sont des nombres entiers, un IntSlider sera créé\n",
    "* Si les valeurs du tuple sont des nombres flottants, un FloatSlider sera créé"
   ]
  },
  {
   "cell_type": "code",
   "execution_count": 12,
   "metadata": {
    "slideshow": {
     "slide_type": "-"
    }
   },
   "outputs": [
    {
     "data": {
      "application/vnd.jupyter.widget-view+json": {
       "model_id": "a7c44f25c60d4bdd84b5cc99401c659a",
       "version_major": 2,
       "version_minor": 0
      },
      "text/plain": [
       "interactive(children=(IntSlider(value=0, description='x', max=10, min=-10, step=2), Output()), _dom_classes=('…"
      ]
     },
     "metadata": {},
     "output_type": "display_data"
    }
   ],
   "source": [
    "interactive(f, x=(-10,10,2))"
   ]
  },
  {
   "cell_type": "code",
   "execution_count": 13,
   "metadata": {
    "slideshow": {
     "slide_type": "-"
    }
   },
   "outputs": [
    {
     "data": {
      "application/vnd.jupyter.widget-view+json": {
       "model_id": "6a75b9d89c0149eba664b0c145046e56",
       "version_major": 2,
       "version_minor": 0
      },
      "text/plain": [
       "interactive(children=(FloatSlider(value=0.0, description='x', max=10.0, min=-10.0), Output()), _dom_classes=('…"
      ]
     },
     "metadata": {},
     "output_type": "display_data"
    }
   ],
   "source": [
    "interactive(f, x=(-10.0,10.0,0.1))"
   ]
  },
  {
   "cell_type": "markdown",
   "metadata": {
    "slideshow": {
     "slide_type": "slide"
    }
   },
   "source": [
    "### *Exemple avec 2 sliders dont les valeurs pilotent le tracé d'un graphique* :"
   ]
  },
  {
   "cell_type": "code",
   "execution_count": 16,
   "metadata": {
    "slideshow": {
     "slide_type": "-"
    }
   },
   "outputs": [
    {
     "data": {
      "application/vnd.jupyter.widget-view+json": {
       "model_id": "503a74e34b2c4b4da5ac0d52ac56270c",
       "version_major": 2,
       "version_minor": 0
      },
      "text/plain": [
       "interactive(children=(FloatSlider(value=0.0, description='a', max=2.0, min=-2.0), FloatSlider(value=0.0, descr…"
      ]
     },
     "metadata": {},
     "output_type": "display_data"
    }
   ],
   "source": [
    "%matplotlib inline\n",
    "import matplotlib.pyplot as plt\n",
    "import numpy as np\n",
    "\n",
    "# définition d'une fonction qui trace une droite d'équation ax + b\n",
    "def f(a, b):\n",
    "    x = np.linspace(-10, 10, num=1000)\n",
    "    plt.plot(x, a * x + b)\n",
    "    plt.ylim(-5, 5)\n",
    "    plt.show()\n",
    "\n",
    "# Création de 2 widgets \"sliders\" a et b et appel de la fonction f avec les valeurs de a et b     \n",
    "w = interactive(f, a=(-2.0, 2.0), b=(-3, 3, 0.5))\n",
    "\n",
    "# appel de w (=affichage du contenu de la variable w)\n",
    "w"
   ]
  },
  {
   "cell_type": "markdown",
   "metadata": {
    "slideshow": {
     "slide_type": "slide"
    }
   },
   "source": [
    "### Arguments dépendants l'un de l'autre\n",
    "\n",
    "Les arguments dépendants l'un de l'autre peuvent être définis manuellement grâce à la fonction `observe`.  \n",
    "\n",
    "Dans l'exemple suivant, une variable est utilisée pour borner l'autre. Plus précisément on considère deux variables `x` et `y` matérialisées chacune par un *slider* numérique. On souhaite que la valeur maximale de `x` soit égale à 2 fois la valeur de `y` :"
   ]
  },
  {
   "cell_type": "code",
   "execution_count": 17,
   "metadata": {
    "slideshow": {
     "slide_type": "slide"
    }
   },
   "outputs": [
    {
     "data": {
      "application/vnd.jupyter.widget-view+json": {
       "model_id": "212ededbe1344be8841633831b286f5c",
       "version_major": 2,
       "version_minor": 0
      },
      "text/plain": [
       "interactive(children=(FloatSlider(value=0.0, description='x', max=10.0, step=0.05), FloatSlider(value=5.0, des…"
      ]
     },
     "metadata": {},
     "output_type": "display_data"
    }
   ],
   "source": [
    "# création de 2 sliders indépendants\n",
    "x_widget = widgets.FloatSlider(min=0.0, max=10.0, step=0.05)\n",
    "y_widget = widgets.FloatSlider(min=0.5, max=10.0, step=0.05, value=5.0)\n",
    "\n",
    "# fonction qui permet de définir la valeur maximale de x par rapport à y\n",
    "def update_x_range(*args):\n",
    "    x_widget.max = 2.0 * y_widget.value\n",
    "\n",
    "# appel de la fonction \"observe\" : \n",
    "# la valeur de y est \"mise en attente\" pendant que la fonction update_x_range est appelée\n",
    "y_widget.observe(update_x_range)\n",
    "\n",
    "def printer(x, y):\n",
    "    print(x, y)\n",
    "interactive(printer,x=x_widget, y=y_widget)"
   ]
  },
  {
   "cell_type": "markdown",
   "metadata": {
    "slideshow": {
     "slide_type": "-"
    }
   },
   "source": [
    "$\\rightarrow$ On voit que lorsqu'on change la valeur de y sur le slider `y`, la valeur maximale de x varie automatiquement sur le slider `x`."
   ]
  },
  {
   "cell_type": "markdown",
   "metadata": {
    "slideshow": {
     "slide_type": "slide"
    }
   },
   "source": [
    "## 3 - IPywidgets et Pandas\n",
    "\n",
    "On applique ici les widgets et les fonctionnalités d'interactivité à des jeux de données stockés dans des Dataframes."
   ]
  },
  {
   "cell_type": "code",
   "execution_count": 18,
   "metadata": {
    "slideshow": {
     "slide_type": "-"
    }
   },
   "outputs": [],
   "source": [
    "import pandas as pd\n",
    "import numpy as np"
   ]
  },
  {
   "cell_type": "code",
   "execution_count": 19,
   "metadata": {
    "slideshow": {
     "slide_type": "-"
    }
   },
   "outputs": [],
   "source": [
    "pd.options.display.max_rows = 10"
   ]
  },
  {
   "cell_type": "markdown",
   "metadata": {
    "slideshow": {
     "slide_type": "slide"
    }
   },
   "source": [
    "### 3 - a) Contrôler l'affichage d'un dataframe\n",
    "\n",
    "On considère le jeu de données `catdata.csv` des séances précédentes."
   ]
  },
  {
   "cell_type": "code",
   "execution_count": 20,
   "metadata": {
    "slideshow": {
     "slide_type": "-"
    }
   },
   "outputs": [],
   "source": [
    "cat = pd.read_csv('./catdata.csv', sep=';')"
   ]
  },
  {
   "cell_type": "markdown",
   "metadata": {
    "slideshow": {
     "slide_type": "slide"
    }
   },
   "source": [
    "L'objectif est de proposer un menu de type *Select* permettant d'afficher le dataframe seulement constitué des individus mangeant le même type de nourriture. En pratique, on souhaite créer un widget de type *Select* proposant à l'utilisateur de choisir parmi les différentes instances de la variable \"foodtype\".\n",
    "\n",
    "$\\underline{Remarque}$ : Avec Pandas, l'extraction des différentes instances prises par une variable catégorielle se fait avec la fonction `unique()`.\n",
    "\n",
    "*Ex* : ici pour extraire les 3 instances différentes de \"foodtype\" (à savoir \"other\", \"dry\" et \"wet\") on fait :"
   ]
  },
  {
   "cell_type": "code",
   "execution_count": 21,
   "metadata": {
    "slideshow": {
     "slide_type": "-"
    }
   },
   "outputs": [
    {
     "data": {
      "text/plain": [
       "array(['other', 'dry', 'wet'], dtype=object)"
      ]
     },
     "execution_count": 21,
     "metadata": {},
     "output_type": "execute_result"
    }
   ],
   "source": [
    "cat['foodtype'].unique()"
   ]
  },
  {
   "cell_type": "code",
   "execution_count": 22,
   "metadata": {
    "slideshow": {
     "slide_type": "slide"
    }
   },
   "outputs": [
    {
     "data": {
      "application/vnd.jupyter.widget-view+json": {
       "model_id": "b06f50b24e7d4aee88fb83a77d3cae85",
       "version_major": 2,
       "version_minor": 0
      },
      "text/plain": [
       "interactive(children=(Select(description='Nourriture :', options=('All', 'dry', 'other', 'wet'), value='All'),…"
      ]
     },
     "metadata": {},
     "output_type": "display_data"
    }
   ],
   "source": [
    "# import de la fonction display qui permettra d'afficher le dataframe\n",
    "from IPython.display import display \n",
    "\n",
    "# Définition de la fonction qui définit le dataframe à afficher selon l'item choisi par l'utilisateur \n",
    "def view(x=''):\n",
    "    if x=='All': \n",
    "        display(cat)\n",
    "        return cat\n",
    "    new_cat = cat[cat['foodtype']==x]\n",
    "    display(new_cat)\n",
    "\n",
    "    return new_cat\n",
    "\n",
    "# Définition de tous les items à proposer à l'utilisateur\n",
    "# L'option “All” permet de considérer toutes les instances de \"foodtype\"\n",
    "items = ['All'] + sorted(cat['foodtype'].unique())\n",
    "\n",
    "# Définition du widget Select avec les items définis ci-dessus\n",
    "w = widgets.Select(options=items, description='Nourriture :')\n",
    "\n",
    "# appel de la fonction view à partir du widget Select (à travers \"interactive\")\n",
    "interactive(view, x=w)"
   ]
  },
  {
   "cell_type": "markdown",
   "metadata": {
    "slideshow": {
     "slide_type": "slide"
    }
   },
   "source": [
    "On souhaite maintenant afficher pour chaque sous-dataframe sélectionné le diagramme circulaire de \"hairpattern\" associé :"
   ]
  },
  {
   "cell_type": "code",
   "execution_count": 23,
   "metadata": {
    "slideshow": {
     "slide_type": "slide"
    }
   },
   "outputs": [
    {
     "data": {
      "application/vnd.jupyter.widget-view+json": {
       "model_id": "bc26cce1b67a4275981a7066837f95e5",
       "version_major": 2,
       "version_minor": 0
      },
      "text/plain": [
       "interactive(children=(Select(description='Nourriture :', options=('All', 'dry', 'other', 'wet'), value='All'),…"
      ]
     },
     "metadata": {},
     "output_type": "display_data"
    }
   ],
   "source": [
    "def view(x=''):\n",
    "    if x=='All': \n",
    "        display(cat)\n",
    "        return cat\n",
    "    new_cat = cat[cat['foodtype']==x]\n",
    "    display(new_cat)\n",
    "    \n",
    "    # Tracé du diagramme circulaire associé au sous-dataframe \"new_cat\"\n",
    "    proportion_pattern = new_cat['hairpattern'].value_counts() \n",
    "    labels = proportion_pattern.index\n",
    "    plt.pie(proportion_pattern, labels=labels, \n",
    "       autopct='%1.1f%%', shadow=True, startangle=90)\n",
    "    plt.axis('equal')\n",
    "    titre = 'Répartition des hair patterns pour les chats mangeant de la nourriture de type ' + x \n",
    "    plt.title(titre, fontsize=14)\n",
    "    plt.show()\n",
    "    return new_cat\n",
    " \n",
    "items = ['All'] + sorted(cat['foodtype'].unique())\n",
    "w = widgets.Select(options=items, description='Nourriture :')\n",
    "interactive(view, x=w)"
   ]
  },
  {
   "cell_type": "markdown",
   "metadata": {
    "slideshow": {
     "slide_type": "slide"
    }
   },
   "source": [
    "### 3 - b) Contrôler l'affichage d'un graphique\n",
    "\n",
    "### *Exemple 1*\n",
    "Considérons à nouveau le jeu de données `catdata.csv`.  \n",
    "On souhaite proposer à l'utilisateur un menu de type *Select* lui proposant l'ensemble des variables catégorielles du jeu de données et ensuite de tracer l'histogramme associé à la variable sélectionnée :"
   ]
  },
  {
   "cell_type": "code",
   "execution_count": 24,
   "metadata": {
    "slideshow": {
     "slide_type": "slide"
    }
   },
   "outputs": [
    {
     "data": {
      "application/vnd.jupyter.widget-view+json": {
       "model_id": "1b6cc412270c425982b760beeda6ce48",
       "version_major": 2,
       "version_minor": 0
      },
      "text/plain": [
       "interactive(children=(Select(description='Variable :', options=('haircolor', 'hairpattern', 'sex', 'foodtype')…"
      ]
     },
     "metadata": {},
     "output_type": "display_data"
    }
   ],
   "source": [
    "def view(x=''):\n",
    "    plt.hist(cat[x], color='crimson')\n",
    "    titre = 'Histogramme relatif à la variable ' + x \n",
    "    plt.title(titre)\n",
    "    plt.xlabel(x)\n",
    "    plt.ylabel('effectifs')\n",
    "    plt.show()\n",
    "    return\n",
    "\n",
    "items = ['haircolor', 'hairpattern', 'sex', 'foodtype']\n",
    "w = widgets.Select(options=items, description='Variable :')\n",
    "interactive(view, x=w)"
   ]
  },
  {
   "cell_type": "markdown",
   "metadata": {
    "slideshow": {
     "slide_type": "slide"
    }
   },
   "source": [
    "### *Exemple 2*\n",
    "\n",
    "Considérons le jeu de données `taux_interet_france.xlsx`, donnant l'évolution du taux d'intérêt à court terme et long terme pour l'immobilier en France entre 1800 et 2015."
   ]
  },
  {
   "cell_type": "code",
   "execution_count": 85,
   "metadata": {
    "slideshow": {
     "slide_type": "-"
    }
   },
   "outputs": [
    {
     "data": {
      "text/html": [
       "<div>\n",
       "<style>\n",
       "    .dataframe thead tr:only-child th {\n",
       "        text-align: right;\n",
       "    }\n",
       "\n",
       "    .dataframe thead th {\n",
       "        text-align: left;\n",
       "    }\n",
       "\n",
       "    .dataframe tbody tr th {\n",
       "        vertical-align: top;\n",
       "    }\n",
       "</style>\n",
       "<table border=\"1\" class=\"dataframe\">\n",
       "  <thead>\n",
       "    <tr style=\"text-align: right;\">\n",
       "      <th></th>\n",
       "      <th>1800</th>\n",
       "      <th>1801</th>\n",
       "      <th>1802</th>\n",
       "      <th>1803</th>\n",
       "      <th>1804</th>\n",
       "      <th>1805</th>\n",
       "      <th>1806</th>\n",
       "      <th>1807</th>\n",
       "      <th>1808</th>\n",
       "      <th>1809</th>\n",
       "      <th>...</th>\n",
       "      <th>2006</th>\n",
       "      <th>2007</th>\n",
       "      <th>2008</th>\n",
       "      <th>2009</th>\n",
       "      <th>2010</th>\n",
       "      <th>2011</th>\n",
       "      <th>2012</th>\n",
       "      <th>2013</th>\n",
       "      <th>2014</th>\n",
       "      <th>2015</th>\n",
       "    </tr>\n",
       "    <tr>\n",
       "      <th>Serie</th>\n",
       "      <th></th>\n",
       "      <th></th>\n",
       "      <th></th>\n",
       "      <th></th>\n",
       "      <th></th>\n",
       "      <th></th>\n",
       "      <th></th>\n",
       "      <th></th>\n",
       "      <th></th>\n",
       "      <th></th>\n",
       "      <th></th>\n",
       "      <th></th>\n",
       "      <th></th>\n",
       "      <th></th>\n",
       "      <th></th>\n",
       "      <th></th>\n",
       "      <th></th>\n",
       "      <th></th>\n",
       "      <th></th>\n",
       "      <th></th>\n",
       "      <th></th>\n",
       "    </tr>\n",
       "  </thead>\n",
       "  <tbody>\n",
       "    <tr>\n",
       "      <th>TauxInteretLongTerme</th>\n",
       "      <td>20,0 %</td>\n",
       "      <td>10,2 %</td>\n",
       "      <td>9,5 %</td>\n",
       "      <td>9,8 %</td>\n",
       "      <td>9,2 %</td>\n",
       "      <td>8,8 %</td>\n",
       "      <td>7,9 %</td>\n",
       "      <td>6,5 %</td>\n",
       "      <td>6,1 %</td>\n",
       "      <td>6,5 %</td>\n",
       "      <td>...</td>\n",
       "      <td>3,9 %</td>\n",
       "      <td>4,4 %</td>\n",
       "      <td>4,3 %</td>\n",
       "      <td>3,7 %</td>\n",
       "      <td>3,2 %</td>\n",
       "      <td>3,4 %</td>\n",
       "      <td>2,6 %</td>\n",
       "      <td>2,3 %</td>\n",
       "      <td>1,7 %</td>\n",
       "      <td>0,9 %</td>\n",
       "    </tr>\n",
       "    <tr>\n",
       "      <th>TauxInteretCourtTerme</th>\n",
       "      <td>6,0 %</td>\n",
       "      <td>6,0 %</td>\n",
       "      <td>6,0 %</td>\n",
       "      <td>6,0 %</td>\n",
       "      <td>6,0 %</td>\n",
       "      <td>6,0 %</td>\n",
       "      <td>6,5 %</td>\n",
       "      <td>5,4 %</td>\n",
       "      <td>4,0 %</td>\n",
       "      <td>4,0 %</td>\n",
       "      <td>...</td>\n",
       "      <td>2,8 %</td>\n",
       "      <td>3,9 %</td>\n",
       "      <td>3,9 %</td>\n",
       "      <td>0,7 %</td>\n",
       "      <td>0,4 %</td>\n",
       "      <td>0,9 %</td>\n",
       "      <td>0,2 %</td>\n",
       "      <td>0,1 %</td>\n",
       "      <td>0,1 %</td>\n",
       "      <td>-0,1 %</td>\n",
       "    </tr>\n",
       "  </tbody>\n",
       "</table>\n",
       "<p>2 rows × 216 columns</p>\n",
       "</div>"
      ],
      "text/plain": [
       "                         1800    1801   1802   1803   1804   1805   1806  \\\n",
       "Serie                                                                      \n",
       "TauxInteretLongTerme   20,0 %  10,2 %  9,5 %  9,8 %  9,2 %  8,8 %  7,9 %   \n",
       "TauxInteretCourtTerme   6,0 %   6,0 %  6,0 %  6,0 %  6,0 %  6,0 %  6,5 %   \n",
       "\n",
       "                        1807   1808   1809   ...     2006   2007   2008  \\\n",
       "Serie                                        ...                          \n",
       "TauxInteretLongTerme   6,5 %  6,1 %  6,5 %   ...    3,9 %  4,4 %  4,3 %   \n",
       "TauxInteretCourtTerme  5,4 %  4,0 %  4,0 %   ...    2,8 %  3,9 %  3,9 %   \n",
       "\n",
       "                        2009   2010   2011   2012   2013   2014    2015  \n",
       "Serie                                                                    \n",
       "TauxInteretLongTerme   3,7 %  3,2 %  3,4 %  2,6 %  2,3 %  1,7 %   0,9 %  \n",
       "TauxInteretCourtTerme  0,7 %  0,4 %  0,9 %  0,2 %  0,1 %  0,1 %  -0,1 %  \n",
       "\n",
       "[2 rows x 216 columns]"
      ]
     },
     "execution_count": 85,
     "metadata": {},
     "output_type": "execute_result"
    }
   ],
   "source": [
    "taux = pd.read_excel('taux_interet_france.xlsx',index_col=0)\n",
    "taux"
   ]
  },
  {
   "cell_type": "markdown",
   "metadata": {
    "slideshow": {
     "slide_type": "slide"
    }
   },
   "source": [
    "Ce dataframe nécéssite d'être transposé afin de mettre les deux variables 'TauxInteretLongTerme' et 'TauxInteretLongTerme' en colonnes et les années en lignes.  \n",
    "On retire également le symbôle % pour toutes les valeurs du dataframe (cf cours sur le nettoyage de données, séance 5) :"
   ]
  },
  {
   "cell_type": "code",
   "execution_count": 86,
   "metadata": {
    "slideshow": {
     "slide_type": "-"
    }
   },
   "outputs": [
    {
     "data": {
      "text/html": [
       "<div>\n",
       "<style>\n",
       "    .dataframe thead tr:only-child th {\n",
       "        text-align: right;\n",
       "    }\n",
       "\n",
       "    .dataframe thead th {\n",
       "        text-align: left;\n",
       "    }\n",
       "\n",
       "    .dataframe tbody tr th {\n",
       "        vertical-align: top;\n",
       "    }\n",
       "</style>\n",
       "<table border=\"1\" class=\"dataframe\">\n",
       "  <thead>\n",
       "    <tr style=\"text-align: right;\">\n",
       "      <th>Serie</th>\n",
       "      <th>TauxInteretLongTerme</th>\n",
       "      <th>TauxInteretCourtTerme</th>\n",
       "    </tr>\n",
       "  </thead>\n",
       "  <tbody>\n",
       "    <tr>\n",
       "      <th>1800</th>\n",
       "      <td>20.0</td>\n",
       "      <td>6.0</td>\n",
       "    </tr>\n",
       "    <tr>\n",
       "      <th>1801</th>\n",
       "      <td>10.2</td>\n",
       "      <td>6.0</td>\n",
       "    </tr>\n",
       "    <tr>\n",
       "      <th>1802</th>\n",
       "      <td>9.5</td>\n",
       "      <td>6.0</td>\n",
       "    </tr>\n",
       "    <tr>\n",
       "      <th>1803</th>\n",
       "      <td>9.8</td>\n",
       "      <td>6.0</td>\n",
       "    </tr>\n",
       "    <tr>\n",
       "      <th>1804</th>\n",
       "      <td>9.2</td>\n",
       "      <td>6.0</td>\n",
       "    </tr>\n",
       "    <tr>\n",
       "      <th>...</th>\n",
       "      <td>...</td>\n",
       "      <td>...</td>\n",
       "    </tr>\n",
       "    <tr>\n",
       "      <th>2011</th>\n",
       "      <td>3.4</td>\n",
       "      <td>0.9</td>\n",
       "    </tr>\n",
       "    <tr>\n",
       "      <th>2012</th>\n",
       "      <td>2.6</td>\n",
       "      <td>0.2</td>\n",
       "    </tr>\n",
       "    <tr>\n",
       "      <th>2013</th>\n",
       "      <td>2.3</td>\n",
       "      <td>0.1</td>\n",
       "    </tr>\n",
       "    <tr>\n",
       "      <th>2014</th>\n",
       "      <td>1.7</td>\n",
       "      <td>0.1</td>\n",
       "    </tr>\n",
       "    <tr>\n",
       "      <th>2015</th>\n",
       "      <td>0.9</td>\n",
       "      <td>-0.1</td>\n",
       "    </tr>\n",
       "  </tbody>\n",
       "</table>\n",
       "<p>216 rows × 2 columns</p>\n",
       "</div>"
      ],
      "text/plain": [
       "Serie  TauxInteretLongTerme  TauxInteretCourtTerme\n",
       "1800                   20.0                    6.0\n",
       "1801                   10.2                    6.0\n",
       "1802                    9.5                    6.0\n",
       "1803                    9.8                    6.0\n",
       "1804                    9.2                    6.0\n",
       "...                     ...                    ...\n",
       "2011                    3.4                    0.9\n",
       "2012                    2.6                    0.2\n",
       "2013                    2.3                    0.1\n",
       "2014                    1.7                    0.1\n",
       "2015                    0.9                   -0.1\n",
       "\n",
       "[216 rows x 2 columns]"
      ]
     },
     "execution_count": 86,
     "metadata": {},
     "output_type": "execute_result"
    }
   ],
   "source": [
    "taux = taux.T\n",
    "\n",
    "for col in ['TauxInteretLongTerme', 'TauxInteretCourtTerme'] :\n",
    "    taux[col] = taux[col].astype(str)\n",
    "    taux[col] = taux[col].str.replace(\"%\", \"\")\n",
    "    taux[col] = taux[col].str.replace(\",\", \".\")\n",
    "    taux[col] = taux[col].astype(float)\n",
    "taux"
   ]
  },
  {
   "cell_type": "markdown",
   "metadata": {
    "slideshow": {
     "slide_type": "slide"
    }
   },
   "source": [
    "Traçons dans un premier temps le graphique (non intéractif) représentant l'évolution du taux d intérêt à long terme en France au cours des années :"
   ]
  },
  {
   "cell_type": "code",
   "execution_count": 87,
   "metadata": {
    "slideshow": {
     "slide_type": "-"
    }
   },
   "outputs": [
    {
     "data": {
      "image/png": "[encoded data removed]",
      "text/plain": [
       "<matplotlib.figure.Figure at 0x7fb471d00470>"
      ]
     },
     "metadata": {},
     "output_type": "display_data"
    }
   ],
   "source": [
    "plt.plot(taux.index, taux['TauxInteretLongTerme'])\n",
    "plt.title('Evolution du taux d intérêt à long terme en France')\n",
    "plt.xlabel('Années')\n",
    "plt.ylabel('taux d intérêt à long terme (en %)')\n",
    "plt.show()"
   ]
  },
  {
   "cell_type": "markdown",
   "metadata": {
    "slideshow": {
     "slide_type": "slide"
    }
   },
   "source": [
    "On souhaite maintenant rendre l'affichage de ce graphique interactif en permettant à l'utilisateur de choisir l'année de début et l'année de fin pour le tracé de la courbe :"
   ]
  },
  {
   "cell_type": "code",
   "execution_count": 103,
   "metadata": {
    "slideshow": {
     "slide_type": "slide"
    }
   },
   "outputs": [
    {
     "data": {
      "application/vnd.jupyter.widget-view+json": {
       "model_id": "9a25db3b5c2941e6901e73a54db2a7e5",
       "version_major": 2,
       "version_minor": 0
      },
      "text/plain": [
       "interactive(children=(IntSlider(value=1947, description='x', max=2014, min=1880), IntSlider(value=1948, descri…"
      ]
     },
     "metadata": {},
     "output_type": "display_data"
    }
   ],
   "source": [
    "def view(x, y):\n",
    "    print(x, y)\n",
    "    taux_loc = taux.loc[(taux.index >= x) & (taux.index <= y),:]\n",
    "    plt.plot(taux_loc.index, taux_loc['TauxInteretLongTerme'])\n",
    "    plt.title('Evolution du taux d intérêt à long terme en France')\n",
    "    plt.xlabel('Années')\n",
    "    plt.ylabel('taux d intérêt à long terme (en %)')\n",
    "    plt.show()\n",
    "\n",
    "interactive(view,x=(1880,2014), y=(1881,2015))"
   ]
  },
  {
   "cell_type": "markdown",
   "metadata": {
    "slideshow": {
     "slide_type": "slide"
    }
   },
   "source": [
    "L'année de fin devant être strictement supérieure à l'année de début pour qu'un graphe s'affiche, on pourrait enrichit le code en utilisant la fonction `observe` vue précédemment (cela fait l'objet de la première question de la feuille d'exercice de cette séance)."
   ]
  }
 ],
 "metadata": {
  "celltoolbar": "Slideshow",
  "kernelspec": {
   "display_name": "Python 3",
   "language": "python",
   "name": "python3"
  },
  "language_info": {
   "codemirror_mode": {
    "name": "ipython",
    "version": 3
   },
   "file_extension": ".py",
   "mimetype": "text/x-python",
   "name": "python",
   "nbconvert_exporter": "python",
   "pygments_lexer": "ipython3",
   "version": "3.6.9"
  }
 },
 "nbformat": 4,
 "nbformat_minor": 2
}
