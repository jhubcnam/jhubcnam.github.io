{
 "cells": [
  {
   "cell_type": "markdown",
   "metadata": {},
   "source": [
    "<img\n",
    "    src=\"https://upload.wikimedia.org/wikipedia/commons/4/42/CNAM_Logo.svg\" \n",
    "    alt=\"\"\n",
    "    height=\"200px\" \n",
    "    width=\"200px\"\n",
    "    align=left\n",
    "/> \n",
    "\n",
    "<center> <br>\n",
    "  <h1 style=\"color:#7c7979\";></h1>\n",
    "</center>  \n",
    "\n",
    "<center>\n",
    "  <h1 style=\"color:#000000\";>Nettoyer un jeu de données avec Pandas en Python</h1>\n",
    "</center> \n",
    "\n",
    "Notebook inspiré de [Jean-Nicholas Hould](http://www.jeannicholashould.com/) et de [Hadley Wickham](http://vita.had.co.nz/papers/tidy-data.pdf)"
   ]
  },
  {
   "cell_type": "markdown",
   "metadata": {},
   "source": [
    "Lorsque l'on s'attaque à l'analyse d'un jeu de données, celui-ci est rarement \"prêt à l'emploi\", et bien souvent il faut procéder à un nettoyage plus ou moins important des données, aussi bien sur la forme (apparence) que sur le fond (structure)."
   ]
  },
  {
   "cell_type": "code",
   "execution_count": null,
   "metadata": {},
   "outputs": [],
   "source": [
    "import pandas as pd\n",
    "import datetime\n",
    "import glob\n",
    "import re"
   ]
  },
  {
   "cell_type": "code",
   "execution_count": null,
   "metadata": {},
   "outputs": [],
   "source": [
    "pd.options.display.max_rows = 10"
   ]
  },
  {
   "cell_type": "markdown",
   "metadata": {},
   "source": [
    "## I - Premiers nettoyages concernant la mise en forme du jeu de données \n",
    "\n",
    "Dans la première partie de ce cours nous allons nous intéresser au nettoyage \"de forme\" du jeu de données contenu dans le fichier excel `chomage.xls`. Ce jeu de données correspond au taux de chômage trimestriel par sexe et âge (en %)."
   ]
  },
  {
   "cell_type": "code",
   "execution_count": null,
   "metadata": {},
   "outputs": [],
   "source": [
    "chom = pd.read_excel('chomage.xls')\n",
    "chom"
   ]
  },
  {
   "cell_type": "code",
   "execution_count": null,
   "metadata": {},
   "outputs": [],
   "source": [
    "chom.shape"
   ]
  },
  {
   "cell_type": "markdown",
   "metadata": {},
   "source": [
    "$\\rightarrow$ Comme on peut le remarquer, ce jeu de données n'est pas du tout prêt à être manipulé et analysé. Une importante phase de nettoyage s'impose."
   ]
  },
  {
   "cell_type": "markdown",
   "metadata": {},
   "source": [
    "### 1 - Retrait de lignes/colonnes superflues\n",
    "\n",
    "La fonction `read_excel` de pandas possède de nombreux arguments pour formater le chargement d'un dataframe à partir d'un fichier .xls\n",
    "\n",
    "#### a - Retrait des lignes superflues\n",
    "\n",
    "* Le retrait des **lignes d'en-tête** se fait avec l'argument `skiprows`. La valeur attendue est le nombre de lignes d'en-tête du fichier à retirer.\n",
    "\n",
    "* Le retrait des **lignes de bas de page** se fait avec l'argument `skip_footer`. La valeur attendue est le nombre de lignes de bas de page du fichier à retirer."
   ]
  },
  {
   "cell_type": "code",
   "execution_count": null,
   "metadata": {},
   "outputs": [],
   "source": [
    "chom = pd.read_excel('chomage.xls', skiprows=7, skip_footer=1)\n",
    "chom"
   ]
  },
  {
   "cell_type": "markdown",
   "metadata": {},
   "source": [
    "#### b - Retrait de colonnes, sélection des colonnes à garder\n",
    "\n",
    "* L'argument `usecols` permet de spécifier l'ensemble des colonnes à conserver. La valeur attendue peut-être :\n",
    "    * une liste d'entiers : dans ce cas cette liste indique la liste des colonnes à prendre en compte\n",
    "    * une chaîne de caractères comportant les lettres des colonnes Excel à prendre en compte, séparées pas des virgules ou par \":\" pour les ranges (ex: “A:E” ou “A,C,E:F”)"
   ]
  },
  {
   "cell_type": "code",
   "execution_count": null,
   "metadata": {},
   "outputs": [],
   "source": [
    "cols = [x for x in range (chom.shape[1]-1)] # retrait de la dernière colonne, inutile ici\n",
    "chom = pd.read_excel('chomage.xls', skiprows=7, skip_footer=1, usecols=cols)\n",
    "chom"
   ]
  },
  {
   "cell_type": "markdown",
   "metadata": {},
   "source": [
    "### 2 - Renommer les colonnes"
   ]
  },
  {
   "cell_type": "code",
   "execution_count": null,
   "metadata": {},
   "outputs": [],
   "source": [
    "age_labels = [\"15-24\",\"25-49\",\">49\",\"Total\"]\n",
    "sexe_labels = [\"Hommes\", \"Femmes\", \"TOTAL\"]\n",
    "\n",
    "new_col_names = [\"Trimestres\"]\n",
    "for i in range (len(sexe_labels)):\n",
    "    for j in range (len(age_labels)):\n",
    "        new_col_names.append(sexe_labels[i] + \" \" + age_labels[j])\n",
    "print(new_col_names)"
   ]
  },
  {
   "cell_type": "code",
   "execution_count": null,
   "metadata": {},
   "outputs": [],
   "source": [
    "chom.columns = new_col_names\n",
    "chom"
   ]
  },
  {
   "cell_type": "markdown",
   "metadata": {},
   "source": [
    "### 3 - S'assurer que les valeurs ont le bon format/type\n",
    "\n",
    "Ici on remarque que dans la première colonne \"Hommes 15-24\", le symbole % a été inséré dans certaines cellules. Or ces cellules ne sont censées contenir que des données numériques, aucun caractère non-numérique ne doit y figurer.\n",
    "\n",
    "Pour retirer le symbôle `%` on utilise a fonction `str.replace()`. \n",
    "\n",
    "**Attention** : Dans la colonne \"Hommes 15-24\" il y a à la fois des valeurs de type `str` (celles avec le %) et des valeurs de type `float` (celles qui n'ont pas le %). Il faut donc d'abord tout convertir en `str` puis appliquer la fonction `str.replace()` et enfin tout reconvertir en `float`."
   ]
  },
  {
   "cell_type": "code",
   "execution_count": null,
   "metadata": {},
   "outputs": [],
   "source": [
    "chom[\"Hommes 15-24\"] = chom[\"Hommes 15-24\"].astype(str)\n",
    "chom[\"Hommes 15-24\"] = chom[\"Hommes 15-24\"].str.replace(\"%\", \"\")\n",
    "chom[\"Hommes 15-24\"] = chom[\"Hommes 15-24\"].str.replace(\",\", \".\")\n",
    "chom[\"Hommes 15-24\"] = chom[\"Hommes 15-24\"].astype(float)\n",
    "chom"
   ]
  },
  {
   "cell_type": "markdown",
   "metadata": {},
   "source": [
    "### 4 - Gérer les valeurs manquantes\n",
    "\n",
    "Pandas utilise la valeur `NaN` (Not a Number) pour réprésenter les valeurs manquantes dans un jeu de données.\n",
    "\n",
    "Une fonction Pandas que l'on peut utiliser pour savoir si certaines données sont manquantes dans le Dataframe est la fonction `isnull()` : cette fonction retourne `True` lorsque la valeur testée est manquante (`NaN`) et `False` sinon. "
   ]
  },
  {
   "cell_type": "code",
   "execution_count": null,
   "metadata": {},
   "outputs": [],
   "source": [
    "chom.isnull()"
   ]
  },
  {
   "cell_type": "markdown",
   "metadata": {},
   "source": [
    "#### a - Filtrer les valeurs manquantes\n",
    "\n",
    "Dans un premier temps, il peut être souhaitable de filtrer/retirer les valeurs manquantes dans le dataframe.\n",
    "\n",
    "Pour cela on utilise la fonction `dropna()`. Cette fonction possède plusieurs arguments, permettant de moduler le niveau de filtrage des valeurs manquantes :\n",
    "* `axis=` (0 ou 1) : filtrage des valeurs manquantes selon les lignes (axis = 0) ou les colonnes (axis=1). Valeur par défaut : axis=0.\n",
    "* `how=all` : argument permettant de ne retirer que les lignes (pour axis=0) ou toutes les colonnes (pour axis=1) du dataframe pour lequelles **toutes** les valeurs sont manquantes. \n",
    "\n",
    "$\\rightarrow$ **Attention** : si cet argument n'est pas spécifié, chaque ligne (resp. chaque colonne) contenant **au moins une** donnée manquante sera supprimée !\n",
    "* `inplace=True` : applique directement la modification dans le dataframe (sans créer un autre dataframe).\n",
    "* `thresh=` (nombre entier *n*) : permet de ne conserver que les lignes (resp. les colonnes) contenant *au moins n* valeurs non manquantes."
   ]
  },
  {
   "cell_type": "code",
   "execution_count": null,
   "metadata": {},
   "outputs": [],
   "source": [
    "chom.dropna(how='all', inplace=True)\n",
    "chom"
   ]
  },
  {
   "cell_type": "markdown",
   "metadata": {},
   "source": [
    "$\\rightarrow$ Auncun ligne n'a été supprimée (même celle correspondant à l'observation \"T4.1996\"), car la colonne \"Trimestres\" possède toujours une valeur.  Pour pouvoir supprimer les lignes sans intérêt comme par exemple \"T4.1996\" on pourra alors utiliser l'argument `thresh` :"
   ]
  },
  {
   "cell_type": "code",
   "execution_count": null,
   "metadata": {},
   "outputs": [],
   "source": [
    "chom.dropna(thresh=12, inplace=True)\n",
    "chom"
   ]
  },
  {
   "cell_type": "markdown",
   "metadata": {},
   "source": [
    "$\\rightarrow$ La ligne correspondant à l'observation \"T4.1996\" a bien été supprimée, ainsi que \"T2.1996\" (elle ne contenait que 11 valeurs non manquantes et non 12)."
   ]
  },
  {
   "cell_type": "markdown",
   "metadata": {},
   "source": [
    "#### b - Remplacer les valeurs manquantes\n",
    "\n",
    "Plutôt que de retirer les valeurs manquantes (et potentiellement supprimer aussi des valeurs existantes), on peut aussi vouloir remplacer les valeurs manquantes par n'importe quel nombre. \n",
    "\n",
    "Pour cela il existe en Pandas la fonction `fillna()`. Cette fonction peut être appelée de différentes manières :\n",
    "* en lui donnant une valeur chiffrée : dans ce cas, chaque valeur manquante du dataframe sera remplacée par cette valeur chiffrée\n",
    "* en lui donnant un dictionnaire où les clés seront les noms des colonnes et les valeurs du dictionnaire seront les valeurs chiffrées qui remplaceront les `NaN` : cela permet de spécifier une valeur de remplacement distincte pour chaque colonne\n",
    "\n",
    "$\\underline{Remarque}$ : il existe de nombreuses fonctionnalités avec la fonction `fillna()`, comme par exemple celle de remplacer des valeurs manquantes par la moyenne de la colonne, de la ligne ou toute autre sous-partie du dataframe."
   ]
  },
  {
   "cell_type": "code",
   "execution_count": null,
   "metadata": {},
   "outputs": [],
   "source": [
    "chom.fillna({'Hommes 25-49': 0, 'Femmes 25-49': 0.5}, inplace=True)\n",
    "chom"
   ]
  },
  {
   "cell_type": "markdown",
   "metadata": {},
   "source": [
    "$\\rightarrow$ Les valeurs manquantes de la colonne 'Hommes 25-49' sont remplacées par 0 et celles de la colonne 'Femmes 25-49' sont remplacées par 0.5."
   ]
  },
  {
   "cell_type": "code",
   "execution_count": null,
   "metadata": {},
   "outputs": [],
   "source": [
    "chom.fillna(0, inplace=True)\n",
    "chom"
   ]
  },
  {
   "cell_type": "markdown",
   "metadata": {},
   "source": [
    "$\\rightarrow$ Toutes les valeurs manquantes restantes dans le dataframe sont remplacées par 0."
   ]
  },
  {
   "cell_type": "markdown",
   "metadata": {},
   "source": [
    "### 5 - Retirer les données dupliquées\n",
    "\n",
    "Des lignes dupliquées peuvent être présentes dans un jeu de données. \n",
    "\n",
    "La fonction `duplicated()` de Pandas retourne pour chaque ligne un booléen indiquant si la ligne en question est un duplicata d'une ligne précédente :"
   ]
  },
  {
   "cell_type": "code",
   "execution_count": null,
   "metadata": {},
   "outputs": [],
   "source": [
    "chom.duplicated()"
   ]
  },
  {
   "cell_type": "markdown",
   "metadata": {},
   "source": [
    "$\\rightarrow$ La dernière ligne est un duplicata (c'est un duplicata de l'avant dernière)."
   ]
  },
  {
   "cell_type": "markdown",
   "metadata": {},
   "source": [
    "Pour supprimer les lignes dupliquées on utilise la fonction `drop_duplicates()` :"
   ]
  },
  {
   "cell_type": "code",
   "execution_count": null,
   "metadata": {},
   "outputs": [],
   "source": [
    "chom.drop_duplicates()"
   ]
  },
  {
   "cell_type": "markdown",
   "metadata": {},
   "source": [
    "$\\rightarrow$ La dernière ligne qui était un duplicata de l'avant dernière a bien été supprimée."
   ]
  },
  {
   "cell_type": "markdown",
   "metadata": {},
   "source": [
    "## II - Transformations du jeu de données"
   ]
  },
  {
   "cell_type": "markdown",
   "metadata": {},
   "source": [
    "Une fois le jeu de données nettoyé du point de vue de sa forme, il reste à le nettoyer du point de vue de sa structure. Mieux le jeu de données sera structuré, plus aisées seront les analyses que l'on effectuera ensuite.\n",
    "\n",
    "Pour cela il est important de rappeler les 3 **règles qui définissent un jeu de données \"propre et ordonné\"** :\n",
    "* Chaque variable représente une *unique* colonne et contient des valeurs\n",
    "* Chaque observation forme une ligne\n",
    "* Chaque type d'unité d'observation représente un dataframe\n",
    "\n",
    "Rappels de quelques **définitions** :\n",
    "\n",
    "* *variable* : intitulé d'une mesure ou d'un attribut. *ex : taille, poids, sexe, etc*.\n",
    "* *valeur* : la mesure ou l'attribut en question. *ex : 152 cm, 80 kg, femme, etc*.\n",
    "* *observation* : toutes les entitées mesurées sur la même unité. *ex : chaque personne*.\n",
    "\n",
    "\n",
    "Voici 4 types de **dataframes désordonnés** que nous allons étudier et nettoyer :\n",
    "* 1) Les intitulés des colonnes sont des valeurs et pas des noms\n",
    "* 2) Plusieurs variables sont stockées dans une colonne\n",
    "* 3) Certaines variables sont stockées à la fois dans des lignes et des colonnes\n",
    "* 4) Un même type d'unité d'observation est stocké dans différents dataframes\n"
   ]
  },
  {
   "cell_type": "markdown",
   "metadata": {},
   "source": [
    "### 1 - Les intitulés des colonnes sont des valeurs et pas des noms\n",
    "\n",
    "Prenons ce jeu de données issu du Pew Research Center, donnant la répartition des salaires selon les religions."
   ]
  },
  {
   "cell_type": "code",
   "execution_count": null,
   "metadata": {},
   "outputs": [],
   "source": [
    "df = pd.read_csv(\"religion.csv\")\n",
    "df"
   ]
  },
  {
   "cell_type": "markdown",
   "metadata": {},
   "source": [
    "Le problème de ce dataframe est que les intitulés des colonnes sont précisément des valeurs, en l'occurence ce sont des valeurs possibles de salaire. Cet agencement des données n'est pas du tout favorable aux analyses, notamment aux études de corrélation etc ...\n",
    "\n",
    "Pour ordonner ce dataframe il faut en quelques sortes faire pivoter les données de telle sorte à ce que l'on passe un format \"large\" (en colonnes) à un format \"long\" (en lignes). On utilise pour cela la fonction `melt()` de Pandas.\n",
    "\n",
    "Les arguments à spécifier sont les suivants :\n",
    "* `id_vars` : colonne(s) à utiliser comme \"référant\". Ici c'est la colonne \"religion\".\n",
    "* `value_vars` : colonne(s) à faire pivoter. Par défaut toutes les colonnes qui ne sont pas désignées comme `id_vars` sont pivotées. Ici c'est le cas, donc on ne spécifiera pas cet argument.\n",
    "* `var_name` : nom à donner à la colonne obtenue après pivot. Ici on pourra l'appeler \"salaire\".\n",
    "* `value_name` : nom à donner à la colonne contenant les valeurs. Ici les valeurs sont les fréquences pour chaque tranche de salaire, donc on pourra appeler cette colonne de valeurs \"freq\"."
   ]
  },
  {
   "cell_type": "code",
   "execution_count": null,
   "metadata": {},
   "outputs": [],
   "source": [
    "formatted_df = pd.melt(df, id_vars=[\"religion\"], var_name=\"salaire\", value_name=\"freq\")\n",
    "formatted_df"
   ]
  },
  {
   "cell_type": "markdown",
   "metadata": {},
   "source": [
    "$\\rightarrow$ Le dataframe est classé en fonction des différentes valeurs de la colonne \"salaire\"."
   ]
  },
  {
   "cell_type": "code",
   "execution_count": null,
   "metadata": {},
   "outputs": [],
   "source": [
    "formatted_df = formatted_df.sort_values(by=[\"religion\"])\n",
    "formatted_df"
   ]
  },
  {
   "cell_type": "markdown",
   "metadata": {},
   "source": [
    "### 2 - Plusieurs variables sont stockées dans une colonne\n",
    "\n",
    "Prenons un jeu de données de l'organisation mondiale de la santé concernant des cas de tuberculose.\n",
    "\n",
    "Voici les éléments qui font de ce dataframe un jeu non ordonné :\n",
    "- Les colonnes commençant par \"m\" ou \"f\" contiennent plusieurs variables :\n",
    "    - Sexe (\"m\" ou \"f\")\n",
    "    - Groupe d'âge (\"0-14\",\"15-24\", \"25-34\", \"45-54\", \"55-64\", \"65\", \"unknown\")\n",
    "- Mélange de 0 et de valeurs manquantes (\"NaN\")"
   ]
  },
  {
   "cell_type": "code",
   "execution_count": null,
   "metadata": {},
   "outputs": [],
   "source": [
    "tub = pd.read_csv(\"tuberculose.csv\")\n",
    "tub"
   ]
  },
  {
   "cell_type": "markdown",
   "metadata": {},
   "source": [
    "* Plusieurs étapes sont nécessaires pour aboutir à un jeu de données propre. On commence par appliquer un `melt()` sur les colonnes qui combinent sexe et âge : "
   ]
  },
  {
   "cell_type": "code",
   "execution_count": null,
   "metadata": {},
   "outputs": [],
   "source": [
    "tub = pd.melt(tub, id_vars=[\"country\",\"year\"], var_name=\"sex_and_age\", value_name=\"cases\", )\n",
    "tub"
   ]
  },
  {
   "cell_type": "markdown",
   "metadata": {},
   "source": [
    "* A partir de la colonne \"sex_and_age\" on extrait dans un dataframe 3 sous-colonnes qui contiendront respectivement le sexe, la borne d'âge inférieure et la borne d'âge supérieure.\n",
    "\n",
    "Pour l'extraction de caractères on peut utiliser la fonction `str.extract()` de Pandas avec l'argument `expand=False` pour signifier que l'extraction ne se fait pas dans le dataframe d'origine.\n",
    "\n",
    "La syntaxe `\"(\\D)(\\d+)(\\d{2})\"` donnée en argument de la fonction `str.extract()`, provient de la *Regular Expression Syntax* de python (https://docs.python.org/2/library/re.html):\n",
    "* \\D : signifie que l'on extrait le caractère rencontré s'il s'agit d'un caractère non-numérique : ici on extrait la lettre qui correspond au sexe (\"m\" ou \"f\")\n",
    "* \\d : signifie que l'on extrait le caractère rencontré s'il s'agit d'un caractère numérique (digit).\n",
    "* \\d{2} : signifie que l'on extrait les 2 prochains caractères numériques : ici on extrait automatiquement ensemble les deux derniers digits.\n",
    "* \\d+ : signifie qu'à partir d'un caractère numérique rencontré on extrait aussi tous ceux qui suivent si ce sont aussi des digits : ici on extrait le(s) premier(s) digit(s) après la lettre et avant les deux derniers digits."
   ]
  },
  {
   "cell_type": "code",
   "execution_count": null,
   "metadata": {},
   "outputs": [],
   "source": [
    "tmp_tub = tub[\"sex_and_age\"].str.extract(\"(\\D)(\\d+)(\\d{2})\", expand=False)  \n",
    "tmp_tub"
   ]
  },
  {
   "cell_type": "markdown",
   "metadata": {},
   "source": [
    "* On renomme ces 3 sous-colonnes :"
   ]
  },
  {
   "cell_type": "code",
   "execution_count": null,
   "metadata": {},
   "outputs": [],
   "source": [
    "tmp_tub.columns = [\"sex\", \"age_lower\", \"age_upper\"]\n",
    "tmp_tub"
   ]
  },
  {
   "cell_type": "markdown",
   "metadata": {},
   "source": [
    "* On crée une 4ème colonne qui réunit la borne inférieure et supérieur d'âge, séparées par un tiret :"
   ]
  },
  {
   "cell_type": "code",
   "execution_count": null,
   "metadata": {},
   "outputs": [],
   "source": [
    "tmp_tub[\"age\"] = tmp_tub[\"age_lower\"] + \"-\" + tmp_tub[\"age_upper\"]\n",
    "tmp_tub"
   ]
  },
  {
   "cell_type": "markdown",
   "metadata": {},
   "source": [
    "* On concatène le dataframe d'origine avec cette 4ème colonne que l'on vient de créer :"
   ]
  },
  {
   "cell_type": "code",
   "execution_count": null,
   "metadata": {},
   "outputs": [],
   "source": [
    "tub = pd.concat([tub, tmp_tub], axis=1)\n",
    "tub"
   ]
  },
  {
   "cell_type": "markdown",
   "metadata": {},
   "source": [
    "* On retire les colonnes inutiles avec la fonction `drop()` de Pandas, à savoir les colonnes \"sex_and_age\", \"age_lower\" et \"age_upper\" :"
   ]
  },
  {
   "cell_type": "code",
   "execution_count": null,
   "metadata": {},
   "outputs": [],
   "source": [
    "tub = tub.drop(['sex_and_age',\"age_lower\",\"age_upper\"], axis=1)\n",
    "tub"
   ]
  },
  {
   "cell_type": "markdown",
   "metadata": {},
   "source": [
    "* On supprime les lignes pour lesquelles il y a des données manquantes :"
   ]
  },
  {
   "cell_type": "code",
   "execution_count": null,
   "metadata": {},
   "outputs": [],
   "source": [
    "tub = tub.dropna()\n",
    "tub"
   ]
  },
  {
   "cell_type": "markdown",
   "metadata": {},
   "source": [
    "* On peut classer le dataframe par ordre croissant en fonction du pays, puis de l'année, puis du sexe et enfin de l'âge : "
   ]
  },
  {
   "cell_type": "code",
   "execution_count": null,
   "metadata": {},
   "outputs": [],
   "source": [
    "tub = tub.sort_values(ascending=True,by=[\"country\", \"year\", \"sex\", \"age\"])\n",
    "tub"
   ]
  },
  {
   "cell_type": "markdown",
   "metadata": {},
   "source": [
    "* Enfin, on peut re-définir l'ordre des colonnes avec la fonction `reindex()` :"
   ]
  },
  {
   "cell_type": "code",
   "execution_count": null,
   "metadata": {},
   "outputs": [],
   "source": [
    "ordre_colonnes = [\"country\", \"year\", \"sex\", \"age\", \"cases\"]\n",
    "tub = tub.reindex(columns=ordre_colonnes)\n",
    "tub"
   ]
  },
  {
   "cell_type": "markdown",
   "metadata": {},
   "source": [
    "### 3 - Certaines variables sont stockées à la fois dans des lignes et des colonnes\n",
    "\n",
    "Prenons un jeu de données du Global Historical Climatology Network qui représente les mesures météo quotidiennes prises au niveau de la station MX17004 au Mexique pendant 5 mois en 2010.\n",
    "\n",
    "Les problèmes de ce jeu de données sont les suivants : \n",
    "* les variables sont à la fois stockées dans des lignes (\"tmin\", \"tmax\") et des colonnes (\"days\").\n",
    "* il y a autant de colonnes que de jours"
   ]
  },
  {
   "cell_type": "code",
   "execution_count": null,
   "metadata": {},
   "outputs": [],
   "source": [
    "wth = pd.read_csv(\"weather.csv\")\n",
    "wth"
   ]
  },
  {
   "cell_type": "markdown",
   "metadata": {},
   "source": [
    "* On commence là encore par appliquer un `melt()` sur les colonnes qui représentent les jours (= on fait pivoter les jours) : "
   ]
  },
  {
   "cell_type": "code",
   "execution_count": null,
   "metadata": {},
   "outputs": [],
   "source": [
    "wth = pd.melt(wth, id_vars=[\"id\", \"year\",\"month\",\"element\"], \n",
    "              var_name=\"day\")\n",
    "wth"
   ]
  },
  {
   "cell_type": "markdown",
   "metadata": {},
   "source": [
    "* Au lieu d'avoir d1, d2, etc ... on extrait seulement le numéro du jour avec la fonction `str.extract` vue précédemment.\n",
    "\n",
    "*Remarque* : la colonne \"id\" ayant toujours la même valeur, on force son contenu à être toujours le même, c'est à dire à être la chaîne de caractères \"MX17004\"."
   ]
  },
  {
   "cell_type": "code",
   "execution_count": null,
   "metadata": {},
   "outputs": [],
   "source": [
    "wth[\"day\"] = wth[\"day\"].str.extract(\"(\\d+)\", expand=False) \n",
    "wth[\"id\"] = \"MX17004\"\n",
    "wth"
   ]
  },
  {
   "cell_type": "markdown",
   "metadata": {},
   "source": [
    "* On convertit les éléments des colonnes \"year\", \"month\" et \"day\" en nombres entiers :"
   ]
  },
  {
   "cell_type": "code",
   "execution_count": null,
   "metadata": {},
   "outputs": [],
   "source": [
    "wth[\"year\"] = wth[\"year\"].astype(int)\n",
    "wth[\"month\"] = wth[\"month\"].astype(int)\n",
    "wth[\"day\"] = wth[\"day\"].astype(int)\n",
    "wth"
   ]
  },
  {
   "cell_type": "markdown",
   "metadata": {},
   "source": [
    "* On écrit une fonction qui crée une date à partir d'une année, d'un mois et d'un jour. Puis on crée une nouvelle colonne dans le dataframe en appelant cette fonction :"
   ]
  },
  {
   "cell_type": "code",
   "execution_count": null,
   "metadata": {},
   "outputs": [],
   "source": [
    "def create_date(row):\n",
    "    return datetime.datetime(year=row[\"year\"], month=row[\"month\"], day=row[\"day\"])\n",
    "\n",
    "wth[\"date\"] = wth.apply(lambda row: create_date(row), axis=1)\n",
    "wth"
   ]
  },
  {
   "cell_type": "markdown",
   "metadata": {},
   "source": [
    "* On supprime du dataframe les colonnes désormais inutiles, à savoir \"year\", \"month\" et \"day\", ainsi que les lignes ne possédant que des valeurs manquantes :"
   ]
  },
  {
   "cell_type": "code",
   "execution_count": null,
   "metadata": {},
   "outputs": [],
   "source": [
    "wth = wth.drop(['year',\"month\",\"day\"], axis=1)\n",
    "wth = wth.dropna()\n",
    "wth"
   ]
  },
  {
   "cell_type": "markdown",
   "metadata": {},
   "source": [
    "* Enfin, on peut faire pivoter les températures max et min dans des colonnes avec la fonction `pivot_table()` :"
   ]
  },
  {
   "cell_type": "code",
   "execution_count": null,
   "metadata": {},
   "outputs": [],
   "source": [
    "wth = wth.pivot_table(index=[\"id\",\"date\"], columns=\"element\", values=\"value\")\n",
    "wth.reset_index(drop=False, inplace=True)\n",
    "wth"
   ]
  },
  {
   "cell_type": "markdown",
   "metadata": {},
   "source": [
    "### 4 - Un même type d'unité d'observation est stocké dans différents dataframes\n",
    "\n",
    "Prenons un jeu de données correspondant aux prénoms des bébés garçons donnés dans l'état de l'Illinois entre 2014 et 2015.\n",
    "\n",
    "Les problèmes de ce jeu de données sont les suivants : \n",
    "* Les données sont réparties dans différents fichers/tableaux.\n",
    "* La variable \"année\" est présente dans le nom des fichiers (et non dans les tableaux eux-mêmes)."
   ]
  },
  {
   "cell_type": "code",
   "execution_count": null,
   "metadata": {},
   "outputs": [],
   "source": [
    "baby14 = pd.read_csv(\"2014_baby_names.csv\")\n",
    "baby14"
   ]
  },
  {
   "cell_type": "code",
   "execution_count": null,
   "metadata": {},
   "outputs": [],
   "source": [
    "baby15 = pd.read_csv(\"2015_baby_names.csv\")\n",
    "baby15"
   ]
  },
  {
   "cell_type": "markdown",
   "metadata": {},
   "source": [
    "* On commence par stocker dans une variable les noms des différents fichiers qui nous intéressent (ici il y en a 2 en tout). Comme ces deux fichiers sont nommés de façon identique on pourra utiliser le symbôle `*` pour faire référence aux parties qui sont différentes dans leur nomination :"
   ]
  },
  {
   "cell_type": "code",
   "execution_count": null,
   "metadata": {},
   "outputs": [],
   "source": [
    "allFiles = glob.glob(\"201*_baby_names.csv\")\n",
    "print(allFiles)"
   ]
  },
  {
   "cell_type": "markdown",
   "metadata": {},
   "source": [
    "* On crée (ou on trouve déjà toute faite) une fonction qui permet d'extraire un groupe de caractères dans le nom d'un fichier : ici on souhaite extraire l'année, c'est à dire les 4 digits :"
   ]
  },
  {
   "cell_type": "code",
   "execution_count": null,
   "metadata": {},
   "outputs": [],
   "source": [
    "def extract_year(string):\n",
    "    match = re.match(\"(\\d{4})\", string) \n",
    "    if match != None: \n",
    "        return match.group(1)"
   ]
  },
  {
   "cell_type": "markdown",
   "metadata": {},
   "source": [
    "* On parcourt la liste des noms de fichiers et pour chaque fichier :\n",
    "    * on crée un dataframe en faisant un `read_csv()`\n",
    "    * on extrait la date contenue dans le nom du fichier en appelant la petite fonction `extract_year` écrite au-dessus. Puis on crée dans le dataframe une nouvelle colonne appelée \"year\" qui contient comme valeur l'année extraite (à chaque ligne).\n",
    "    * on rajoute ce dataframe dans une liste que l'on appelle \"df_list\""
   ]
  },
  {
   "cell_type": "code",
   "execution_count": null,
   "metadata": {},
   "outputs": [],
   "source": [
    "df_list= []\n",
    "for file in allFiles:\n",
    "    babies = pd.read_csv(file)\n",
    "    babies[\"year\"] = extract_year(file)\n",
    "    df_list.append(babies)"
   ]
  },
  {
   "cell_type": "markdown",
   "metadata": {},
   "source": [
    "* On concatène les dataframes contenus dans la liste \"df_list\""
   ]
  },
  {
   "cell_type": "code",
   "execution_count": null,
   "metadata": {},
   "outputs": [],
   "source": [
    "babies = pd.concat(df_list)\n",
    "babies"
   ]
  }
 ],
 "metadata": {
  "kernelspec": {
   "display_name": "Python 3",
   "language": "python",
   "name": "python3"
  },
  "language_info": {
   "codemirror_mode": {
    "name": "ipython",
    "version": 3
   },
   "file_extension": ".py",
   "mimetype": "text/x-python",
   "name": "python",
   "nbconvert_exporter": "python",
   "pygments_lexer": "ipython3",
   "version": "3.6.9"
  }
 },
 "nbformat": 4,
 "nbformat_minor": 2
}
